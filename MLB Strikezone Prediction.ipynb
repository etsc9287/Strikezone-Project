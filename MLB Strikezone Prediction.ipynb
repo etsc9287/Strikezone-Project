{
 "cells": [
  {
   "cell_type": "markdown",
   "metadata": {},
   "source": [
    "# MLB For Data Science - Predicting the Strikezone"
   ]
  },
  {
   "cell_type": "markdown",
   "metadata": {},
   "source": [
    "# Merging, Cleaning, Missing Values"
   ]
  },
  {
   "cell_type": "code",
   "execution_count": 1,
   "metadata": {},
   "outputs": [],
   "source": [
    "import numpy as np\n",
    "import pandas as pd\n",
    "import matplotlib.pyplot as plt\n",
    "import seaborn as sns\n",
    "\n",
    "sns.set(style = \"dark\")"
   ]
  },
  {
   "cell_type": "code",
   "execution_count": 2,
   "metadata": {},
   "outputs": [],
   "source": [
    "atbats = pd.read_csv(\"atbats.csv\")\n",
    "atbats_2019 = pd.read_csv(\"2019_atbats.csv\")"
   ]
  },
  {
   "cell_type": "code",
   "execution_count": 3,
   "metadata": {},
   "outputs": [],
   "source": [
    "atbats = pd.concat([atbats, atbats_2019], axis = 0, sort = True)"
   ]
  },
  {
   "cell_type": "code",
   "execution_count": 4,
   "metadata": {},
   "outputs": [
    {
     "data": {
      "text/html": [
       "<div>\n",
       "<style scoped>\n",
       "    .dataframe tbody tr th:only-of-type {\n",
       "        vertical-align: middle;\n",
       "    }\n",
       "\n",
       "    .dataframe tbody tr th {\n",
       "        vertical-align: top;\n",
       "    }\n",
       "\n",
       "    .dataframe thead th {\n",
       "        text-align: right;\n",
       "    }\n",
       "</style>\n",
       "<table border=\"1\" class=\"dataframe\">\n",
       "  <thead>\n",
       "    <tr style=\"text-align: right;\">\n",
       "      <th></th>\n",
       "      <th>ab_id</th>\n",
       "      <th>batter_id</th>\n",
       "      <th>event</th>\n",
       "      <th>g_id</th>\n",
       "      <th>inning</th>\n",
       "      <th>o</th>\n",
       "      <th>p_score</th>\n",
       "      <th>p_throws</th>\n",
       "      <th>pitcher_id</th>\n",
       "      <th>stand</th>\n",
       "      <th>top</th>\n",
       "    </tr>\n",
       "  </thead>\n",
       "  <tbody>\n",
       "    <tr>\n",
       "      <th>0</th>\n",
       "      <td>2.015000e+09</td>\n",
       "      <td>572761</td>\n",
       "      <td>Groundout</td>\n",
       "      <td>201500001.0</td>\n",
       "      <td>1.0</td>\n",
       "      <td>1</td>\n",
       "      <td>0.0</td>\n",
       "      <td>L</td>\n",
       "      <td>452657</td>\n",
       "      <td>L</td>\n",
       "      <td>1.0</td>\n",
       "    </tr>\n",
       "    <tr>\n",
       "      <th>1</th>\n",
       "      <td>2.015000e+09</td>\n",
       "      <td>518792</td>\n",
       "      <td>Double</td>\n",
       "      <td>201500001.0</td>\n",
       "      <td>1.0</td>\n",
       "      <td>1</td>\n",
       "      <td>0.0</td>\n",
       "      <td>L</td>\n",
       "      <td>452657</td>\n",
       "      <td>L</td>\n",
       "      <td>1.0</td>\n",
       "    </tr>\n",
       "    <tr>\n",
       "      <th>2</th>\n",
       "      <td>2.015000e+09</td>\n",
       "      <td>407812</td>\n",
       "      <td>Single</td>\n",
       "      <td>201500001.0</td>\n",
       "      <td>1.0</td>\n",
       "      <td>1</td>\n",
       "      <td>0.0</td>\n",
       "      <td>L</td>\n",
       "      <td>452657</td>\n",
       "      <td>R</td>\n",
       "      <td>1.0</td>\n",
       "    </tr>\n",
       "    <tr>\n",
       "      <th>3</th>\n",
       "      <td>2.015000e+09</td>\n",
       "      <td>425509</td>\n",
       "      <td>Strikeout</td>\n",
       "      <td>201500001.0</td>\n",
       "      <td>1.0</td>\n",
       "      <td>2</td>\n",
       "      <td>0.0</td>\n",
       "      <td>L</td>\n",
       "      <td>452657</td>\n",
       "      <td>R</td>\n",
       "      <td>1.0</td>\n",
       "    </tr>\n",
       "    <tr>\n",
       "      <th>4</th>\n",
       "      <td>2.015000e+09</td>\n",
       "      <td>571431</td>\n",
       "      <td>Strikeout</td>\n",
       "      <td>201500001.0</td>\n",
       "      <td>1.0</td>\n",
       "      <td>3</td>\n",
       "      <td>0.0</td>\n",
       "      <td>L</td>\n",
       "      <td>452657</td>\n",
       "      <td>L</td>\n",
       "      <td>1.0</td>\n",
       "    </tr>\n",
       "  </tbody>\n",
       "</table>\n",
       "</div>"
      ],
      "text/plain": [
       "          ab_id  batter_id      event         g_id  inning  o  p_score  \\\n",
       "0  2.015000e+09     572761  Groundout  201500001.0     1.0  1      0.0   \n",
       "1  2.015000e+09     518792     Double  201500001.0     1.0  1      0.0   \n",
       "2  2.015000e+09     407812     Single  201500001.0     1.0  1      0.0   \n",
       "3  2.015000e+09     425509  Strikeout  201500001.0     1.0  2      0.0   \n",
       "4  2.015000e+09     571431  Strikeout  201500001.0     1.0  3      0.0   \n",
       "\n",
       "  p_throws  pitcher_id stand  top  \n",
       "0        L      452657     L  1.0  \n",
       "1        L      452657     L  1.0  \n",
       "2        L      452657     R  1.0  \n",
       "3        L      452657     R  1.0  \n",
       "4        L      452657     L  1.0  "
      ]
     },
     "execution_count": 4,
     "metadata": {},
     "output_type": "execute_result"
    }
   ],
   "source": [
    "atbats.head()"
   ]
  },
  {
   "cell_type": "code",
   "execution_count": 5,
   "metadata": {},
   "outputs": [],
   "source": [
    "games = pd.read_csv(\"games.csv\")[[\"g_id\", \"date\", \"away_team\", \"home_team\", \"away_final_score\", \"home_final_score\", \"umpire_HP\"]]\n",
    "games_2019 = pd.read_csv(\"2019_games.csv\")[[\"g_id\", \"date\", \"away_team\", \"home_team\", \"away_final_score\", \"home_final_score\", \"umpire_HP\"]]"
   ]
  },
  {
   "cell_type": "code",
   "execution_count": 6,
   "metadata": {},
   "outputs": [],
   "source": [
    "games = pd.concat([games, games_2019], axis = 0, sort = True)"
   ]
  },
  {
   "cell_type": "code",
   "execution_count": 7,
   "metadata": {},
   "outputs": [
    {
     "data": {
      "text/html": [
       "<div>\n",
       "<style scoped>\n",
       "    .dataframe tbody tr th:only-of-type {\n",
       "        vertical-align: middle;\n",
       "    }\n",
       "\n",
       "    .dataframe tbody tr th {\n",
       "        vertical-align: top;\n",
       "    }\n",
       "\n",
       "    .dataframe thead th {\n",
       "        text-align: right;\n",
       "    }\n",
       "</style>\n",
       "<table border=\"1\" class=\"dataframe\">\n",
       "  <thead>\n",
       "    <tr style=\"text-align: right;\">\n",
       "      <th></th>\n",
       "      <th>away_final_score</th>\n",
       "      <th>away_team</th>\n",
       "      <th>date</th>\n",
       "      <th>g_id</th>\n",
       "      <th>home_final_score</th>\n",
       "      <th>home_team</th>\n",
       "      <th>umpire_HP</th>\n",
       "    </tr>\n",
       "  </thead>\n",
       "  <tbody>\n",
       "    <tr>\n",
       "      <th>0</th>\n",
       "      <td>3.0</td>\n",
       "      <td>sln</td>\n",
       "      <td>2015-04-05</td>\n",
       "      <td>201500001.0</td>\n",
       "      <td>0.0</td>\n",
       "      <td>chn</td>\n",
       "      <td>Mike Winters</td>\n",
       "    </tr>\n",
       "    <tr>\n",
       "      <th>1</th>\n",
       "      <td>1.0</td>\n",
       "      <td>ana</td>\n",
       "      <td>2015-04-06</td>\n",
       "      <td>201500002.0</td>\n",
       "      <td>4.0</td>\n",
       "      <td>sea</td>\n",
       "      <td>Larry Vanover</td>\n",
       "    </tr>\n",
       "    <tr>\n",
       "      <th>2</th>\n",
       "      <td>2.0</td>\n",
       "      <td>atl</td>\n",
       "      <td>2015-04-06</td>\n",
       "      <td>201500003.0</td>\n",
       "      <td>1.0</td>\n",
       "      <td>mia</td>\n",
       "      <td>Jeff Nelson</td>\n",
       "    </tr>\n",
       "    <tr>\n",
       "      <th>3</th>\n",
       "      <td>6.0</td>\n",
       "      <td>bal</td>\n",
       "      <td>2015-04-06</td>\n",
       "      <td>201500004.0</td>\n",
       "      <td>2.0</td>\n",
       "      <td>tba</td>\n",
       "      <td>Dana DeMuth</td>\n",
       "    </tr>\n",
       "    <tr>\n",
       "      <th>4</th>\n",
       "      <td>8.0</td>\n",
       "      <td>bos</td>\n",
       "      <td>2015-04-06</td>\n",
       "      <td>201500005.0</td>\n",
       "      <td>0.0</td>\n",
       "      <td>phi</td>\n",
       "      <td>Gerry Davis</td>\n",
       "    </tr>\n",
       "  </tbody>\n",
       "</table>\n",
       "</div>"
      ],
      "text/plain": [
       "   away_final_score away_team        date         g_id  home_final_score  \\\n",
       "0               3.0       sln  2015-04-05  201500001.0               0.0   \n",
       "1               1.0       ana  2015-04-06  201500002.0               4.0   \n",
       "2               2.0       atl  2015-04-06  201500003.0               1.0   \n",
       "3               6.0       bal  2015-04-06  201500004.0               2.0   \n",
       "4               8.0       bos  2015-04-06  201500005.0               0.0   \n",
       "\n",
       "  home_team      umpire_HP  \n",
       "0       chn   Mike Winters  \n",
       "1       sea  Larry Vanover  \n",
       "2       mia    Jeff Nelson  \n",
       "3       tba    Dana DeMuth  \n",
       "4       phi    Gerry Davis  "
      ]
     },
     "execution_count": 7,
     "metadata": {},
     "output_type": "execute_result"
    }
   ],
   "source": [
    "games.head()"
   ]
  },
  {
   "cell_type": "code",
   "execution_count": 8,
   "metadata": {},
   "outputs": [],
   "source": [
    "pitches = pd.read_csv(\"pitches.csv\")\n",
    "pitches_2019 = pd.read_csv(\"2019_pitches.csv\")"
   ]
  },
  {
   "cell_type": "code",
   "execution_count": 9,
   "metadata": {},
   "outputs": [],
   "source": [
    "pitches = pd.concat([pitches, pitches_2019], axis = 0, sort = True)"
   ]
  },
  {
   "cell_type": "code",
   "execution_count": 10,
   "metadata": {},
   "outputs": [
    {
     "data": {
      "text/plain": [
       "3595944"
      ]
     },
     "execution_count": 10,
     "metadata": {},
     "output_type": "execute_result"
    }
   ],
   "source": [
    "len(pitches)"
   ]
  },
  {
   "cell_type": "code",
   "execution_count": 11,
   "metadata": {},
   "outputs": [],
   "source": [
    "pitches = pitches.replace(\"placeholder\", np.NaN)"
   ]
  },
  {
   "cell_type": "code",
   "execution_count": 12,
   "metadata": {},
   "outputs": [],
   "source": [
    "names = pd.read_csv(\"player_names.csv\").rename(columns = {\"id\": \"batter_id\"})"
   ]
  },
  {
   "cell_type": "code",
   "execution_count": 13,
   "metadata": {},
   "outputs": [],
   "source": [
    "atbats = pd.merge(atbats, names, on = \"batter_id\") #getting batter names for each row"
   ]
  },
  {
   "cell_type": "code",
   "execution_count": 14,
   "metadata": {},
   "outputs": [],
   "source": [
    "atbats[\"batter_name\"] = atbats[\"first_name\"] + \" \" + atbats[\"last_name\"]"
   ]
  },
  {
   "cell_type": "code",
   "execution_count": 15,
   "metadata": {},
   "outputs": [],
   "source": [
    "atbats = atbats.drop(columns = [\"first_name\", \"last_name\"])"
   ]
  },
  {
   "cell_type": "code",
   "execution_count": 16,
   "metadata": {},
   "outputs": [],
   "source": [
    "names = names.rename(columns = {\"batter_id\": \"pitcher_id\"})"
   ]
  },
  {
   "cell_type": "code",
   "execution_count": 17,
   "metadata": {},
   "outputs": [],
   "source": [
    "atbats = pd.merge(atbats, names, on = \"pitcher_id\") #getting pitcher names for each row"
   ]
  },
  {
   "cell_type": "code",
   "execution_count": 18,
   "metadata": {},
   "outputs": [],
   "source": [
    "atbats[\"pitcher_name\"] = atbats[\"first_name\"] + \" \" + atbats[\"last_name\"]"
   ]
  },
  {
   "cell_type": "code",
   "execution_count": 19,
   "metadata": {},
   "outputs": [],
   "source": [
    "atbats = atbats.drop(columns = [\"first_name\", \"last_name\"]).sort_values(by = \"ab_id\")"
   ]
  },
  {
   "cell_type": "code",
   "execution_count": 20,
   "metadata": {},
   "outputs": [],
   "source": [
    "atbats[\"year\"] = atbats[\"ab_id\"].astype(str).str[:4] #the year is the first 4 digits of at bat id"
   ]
  },
  {
   "cell_type": "code",
   "execution_count": 21,
   "metadata": {},
   "outputs": [],
   "source": [
    "atbats_games = pd.merge(atbats, games, on = \"g_id\")"
   ]
  },
  {
   "cell_type": "code",
   "execution_count": 22,
   "metadata": {},
   "outputs": [],
   "source": [
    "atbats_games[\"date\"] = pd.to_datetime(atbats_games[\"date\"])"
   ]
  },
  {
   "cell_type": "code",
   "execution_count": 23,
   "metadata": {},
   "outputs": [],
   "source": [
    "atbats_pitches = pd.merge(pitches, atbats_games, on = \"ab_id\")"
   ]
  },
  {
   "cell_type": "code",
   "execution_count": 24,
   "metadata": {},
   "outputs": [
    {
     "data": {
      "text/html": [
       "<div>\n",
       "<style scoped>\n",
       "    .dataframe tbody tr th:only-of-type {\n",
       "        vertical-align: middle;\n",
       "    }\n",
       "\n",
       "    .dataframe tbody tr th {\n",
       "        vertical-align: top;\n",
       "    }\n",
       "\n",
       "    .dataframe thead th {\n",
       "        text-align: right;\n",
       "    }\n",
       "</style>\n",
       "<table border=\"1\" class=\"dataframe\">\n",
       "  <thead>\n",
       "    <tr style=\"text-align: right;\">\n",
       "      <th></th>\n",
       "      <th>ab_id</th>\n",
       "      <th>ax</th>\n",
       "      <th>ay</th>\n",
       "      <th>az</th>\n",
       "      <th>b_count</th>\n",
       "      <th>b_score</th>\n",
       "      <th>break_angle</th>\n",
       "      <th>break_length</th>\n",
       "      <th>break_y</th>\n",
       "      <th>code</th>\n",
       "      <th>...</th>\n",
       "      <th>top</th>\n",
       "      <th>batter_name</th>\n",
       "      <th>pitcher_name</th>\n",
       "      <th>year</th>\n",
       "      <th>away_final_score</th>\n",
       "      <th>away_team</th>\n",
       "      <th>date</th>\n",
       "      <th>home_final_score</th>\n",
       "      <th>home_team</th>\n",
       "      <th>umpire_HP</th>\n",
       "    </tr>\n",
       "  </thead>\n",
       "  <tbody>\n",
       "    <tr>\n",
       "      <th>0</th>\n",
       "      <td>2.015000e+09</td>\n",
       "      <td>7.665</td>\n",
       "      <td>34.685</td>\n",
       "      <td>-11.960</td>\n",
       "      <td>0.0</td>\n",
       "      <td>0.0</td>\n",
       "      <td>-25.0</td>\n",
       "      <td>3.2</td>\n",
       "      <td>23.7</td>\n",
       "      <td>C</td>\n",
       "      <td>...</td>\n",
       "      <td>1.0</td>\n",
       "      <td>Matt Carpenter</td>\n",
       "      <td>Jon Lester</td>\n",
       "      <td>2015</td>\n",
       "      <td>3.0</td>\n",
       "      <td>sln</td>\n",
       "      <td>2015-04-05</td>\n",
       "      <td>0.0</td>\n",
       "      <td>chn</td>\n",
       "      <td>Mike Winters</td>\n",
       "    </tr>\n",
       "    <tr>\n",
       "      <th>1</th>\n",
       "      <td>2.015000e+09</td>\n",
       "      <td>12.043</td>\n",
       "      <td>34.225</td>\n",
       "      <td>-10.085</td>\n",
       "      <td>0.0</td>\n",
       "      <td>0.0</td>\n",
       "      <td>-40.7</td>\n",
       "      <td>3.4</td>\n",
       "      <td>23.7</td>\n",
       "      <td>S</td>\n",
       "      <td>...</td>\n",
       "      <td>1.0</td>\n",
       "      <td>Matt Carpenter</td>\n",
       "      <td>Jon Lester</td>\n",
       "      <td>2015</td>\n",
       "      <td>3.0</td>\n",
       "      <td>sln</td>\n",
       "      <td>2015-04-05</td>\n",
       "      <td>0.0</td>\n",
       "      <td>chn</td>\n",
       "      <td>Mike Winters</td>\n",
       "    </tr>\n",
       "    <tr>\n",
       "      <th>2</th>\n",
       "      <td>2.015000e+09</td>\n",
       "      <td>14.368</td>\n",
       "      <td>35.276</td>\n",
       "      <td>-11.560</td>\n",
       "      <td>0.0</td>\n",
       "      <td>0.0</td>\n",
       "      <td>-43.7</td>\n",
       "      <td>3.7</td>\n",
       "      <td>23.7</td>\n",
       "      <td>F</td>\n",
       "      <td>...</td>\n",
       "      <td>1.0</td>\n",
       "      <td>Matt Carpenter</td>\n",
       "      <td>Jon Lester</td>\n",
       "      <td>2015</td>\n",
       "      <td>3.0</td>\n",
       "      <td>sln</td>\n",
       "      <td>2015-04-05</td>\n",
       "      <td>0.0</td>\n",
       "      <td>chn</td>\n",
       "      <td>Mike Winters</td>\n",
       "    </tr>\n",
       "    <tr>\n",
       "      <th>3</th>\n",
       "      <td>2.015000e+09</td>\n",
       "      <td>2.104</td>\n",
       "      <td>28.354</td>\n",
       "      <td>-20.540</td>\n",
       "      <td>0.0</td>\n",
       "      <td>0.0</td>\n",
       "      <td>-1.3</td>\n",
       "      <td>5.0</td>\n",
       "      <td>23.8</td>\n",
       "      <td>B</td>\n",
       "      <td>...</td>\n",
       "      <td>1.0</td>\n",
       "      <td>Matt Carpenter</td>\n",
       "      <td>Jon Lester</td>\n",
       "      <td>2015</td>\n",
       "      <td>3.0</td>\n",
       "      <td>sln</td>\n",
       "      <td>2015-04-05</td>\n",
       "      <td>0.0</td>\n",
       "      <td>chn</td>\n",
       "      <td>Mike Winters</td>\n",
       "    </tr>\n",
       "    <tr>\n",
       "      <th>4</th>\n",
       "      <td>2.015000e+09</td>\n",
       "      <td>-10.280</td>\n",
       "      <td>21.774</td>\n",
       "      <td>-34.111</td>\n",
       "      <td>1.0</td>\n",
       "      <td>0.0</td>\n",
       "      <td>18.4</td>\n",
       "      <td>12.0</td>\n",
       "      <td>23.8</td>\n",
       "      <td>B</td>\n",
       "      <td>...</td>\n",
       "      <td>1.0</td>\n",
       "      <td>Matt Carpenter</td>\n",
       "      <td>Jon Lester</td>\n",
       "      <td>2015</td>\n",
       "      <td>3.0</td>\n",
       "      <td>sln</td>\n",
       "      <td>2015-04-05</td>\n",
       "      <td>0.0</td>\n",
       "      <td>chn</td>\n",
       "      <td>Mike Winters</td>\n",
       "    </tr>\n",
       "  </tbody>\n",
       "</table>\n",
       "<p>5 rows × 59 columns</p>\n",
       "</div>"
      ],
      "text/plain": [
       "          ab_id      ax      ay      az  b_count  b_score  break_angle  \\\n",
       "0  2.015000e+09   7.665  34.685 -11.960      0.0      0.0        -25.0   \n",
       "1  2.015000e+09  12.043  34.225 -10.085      0.0      0.0        -40.7   \n",
       "2  2.015000e+09  14.368  35.276 -11.560      0.0      0.0        -43.7   \n",
       "3  2.015000e+09   2.104  28.354 -20.540      0.0      0.0         -1.3   \n",
       "4  2.015000e+09 -10.280  21.774 -34.111      1.0      0.0         18.4   \n",
       "\n",
       "   break_length  break_y code  ...  top     batter_name  pitcher_name  year  \\\n",
       "0           3.2     23.7    C  ...  1.0  Matt Carpenter    Jon Lester  2015   \n",
       "1           3.4     23.7    S  ...  1.0  Matt Carpenter    Jon Lester  2015   \n",
       "2           3.7     23.7    F  ...  1.0  Matt Carpenter    Jon Lester  2015   \n",
       "3           5.0     23.8    B  ...  1.0  Matt Carpenter    Jon Lester  2015   \n",
       "4          12.0     23.8    B  ...  1.0  Matt Carpenter    Jon Lester  2015   \n",
       "\n",
       "   away_final_score  away_team       date  home_final_score  home_team  \\\n",
       "0               3.0        sln 2015-04-05               0.0        chn   \n",
       "1               3.0        sln 2015-04-05               0.0        chn   \n",
       "2               3.0        sln 2015-04-05               0.0        chn   \n",
       "3               3.0        sln 2015-04-05               0.0        chn   \n",
       "4               3.0        sln 2015-04-05               0.0        chn   \n",
       "\n",
       "      umpire_HP  \n",
       "0  Mike Winters  \n",
       "1  Mike Winters  \n",
       "2  Mike Winters  \n",
       "3  Mike Winters  \n",
       "4  Mike Winters  \n",
       "\n",
       "[5 rows x 59 columns]"
      ]
     },
     "execution_count": 24,
     "metadata": {},
     "output_type": "execute_result"
    }
   ],
   "source": [
    "atbats_pitches.head()"
   ]
  },
  {
   "cell_type": "code",
   "execution_count": 25,
   "metadata": {},
   "outputs": [
    {
     "name": "stdout",
     "output_type": "stream",
     "text": [
      "<class 'pandas.core.frame.DataFrame'>\n",
      "Int64Index: 3458953 entries, 0 to 3458952\n",
      "Data columns (total 59 columns):\n",
      "ab_id               float64\n",
      "ax                  float64\n",
      "ay                  float64\n",
      "az                  float64\n",
      "b_count             float64\n",
      "b_score             float64\n",
      "break_angle         float64\n",
      "break_length        float64\n",
      "break_y             float64\n",
      "code                object\n",
      "end_speed           float64\n",
      "event_num           int64\n",
      "nasty               float64\n",
      "on_1b               float64\n",
      "on_2b               float64\n",
      "on_3b               float64\n",
      "outs                float64\n",
      "pfx_x               float64\n",
      "pfx_z               float64\n",
      "pitch_num           float64\n",
      "pitch_type          object\n",
      "px                  float64\n",
      "pz                  float64\n",
      "s_count             float64\n",
      "spin_dir            float64\n",
      "spin_rate           float64\n",
      "start_speed         float64\n",
      "sz_bot              float64\n",
      "sz_top              float64\n",
      "type                object\n",
      "type_confidence     float64\n",
      "vx0                 float64\n",
      "vy0                 float64\n",
      "vz0                 float64\n",
      "x                   object\n",
      "x0                  float64\n",
      "y                   object\n",
      "y0                  float64\n",
      "z0                  float64\n",
      "zone                float64\n",
      "batter_id           int64\n",
      "event               object\n",
      "g_id                float64\n",
      "inning              float64\n",
      "o                   int64\n",
      "p_score             float64\n",
      "p_throws            object\n",
      "pitcher_id          int64\n",
      "stand               object\n",
      "top                 float64\n",
      "batter_name         object\n",
      "pitcher_name        object\n",
      "year                object\n",
      "away_final_score    float64\n",
      "away_team           object\n",
      "date                datetime64[ns]\n",
      "home_final_score    float64\n",
      "home_team           object\n",
      "umpire_HP           object\n",
      "dtypes: datetime64[ns](1), float64(40), int64(4), object(14)\n",
      "memory usage: 1.5+ GB\n"
     ]
    }
   ],
   "source": [
    "atbats_pitches.info()"
   ]
  },
  {
   "cell_type": "code",
   "execution_count": 26,
   "metadata": {},
   "outputs": [],
   "source": [
    "def missing_props(df):\n",
    "    missing_values = []\n",
    "    for i in df.columns:\n",
    "        missing_values.append(round(df[i].isnull().sum() / len(df), 3))\n",
    "    missing_props = pd.DataFrame(list(zip(df.columns, missing_values)), columns = [\"Var\", \"Prop_Missing\"]).sort_values(by = \"Prop_Missing\", ascending = False)\n",
    "    \n",
    "    return missing_props"
   ]
  },
  {
   "cell_type": "code",
   "execution_count": 27,
   "metadata": {},
   "outputs": [
    {
     "data": {
      "text/html": [
       "<div>\n",
       "<style scoped>\n",
       "    .dataframe tbody tr th:only-of-type {\n",
       "        vertical-align: middle;\n",
       "    }\n",
       "\n",
       "    .dataframe tbody tr th {\n",
       "        vertical-align: top;\n",
       "    }\n",
       "\n",
       "    .dataframe thead th {\n",
       "        text-align: right;\n",
       "    }\n",
       "</style>\n",
       "<table border=\"1\" class=\"dataframe\">\n",
       "  <thead>\n",
       "    <tr style=\"text-align: right;\">\n",
       "      <th></th>\n",
       "      <th>Var</th>\n",
       "      <th>Prop_Missing</th>\n",
       "    </tr>\n",
       "  </thead>\n",
       "  <tbody>\n",
       "    <tr>\n",
       "      <th>30</th>\n",
       "      <td>type_confidence</td>\n",
       "      <td>0.175</td>\n",
       "    </tr>\n",
       "    <tr>\n",
       "      <th>39</th>\n",
       "      <td>zone</td>\n",
       "      <td>0.175</td>\n",
       "    </tr>\n",
       "    <tr>\n",
       "      <th>24</th>\n",
       "      <td>spin_dir</td>\n",
       "      <td>0.175</td>\n",
       "    </tr>\n",
       "    <tr>\n",
       "      <th>25</th>\n",
       "      <td>spin_rate</td>\n",
       "      <td>0.175</td>\n",
       "    </tr>\n",
       "    <tr>\n",
       "      <th>12</th>\n",
       "      <td>nasty</td>\n",
       "      <td>0.175</td>\n",
       "    </tr>\n",
       "    <tr>\n",
       "      <th>58</th>\n",
       "      <td>umpire_HP</td>\n",
       "      <td>0.171</td>\n",
       "    </tr>\n",
       "    <tr>\n",
       "      <th>22</th>\n",
       "      <td>pz</td>\n",
       "      <td>0.006</td>\n",
       "    </tr>\n",
       "    <tr>\n",
       "      <th>26</th>\n",
       "      <td>start_speed</td>\n",
       "      <td>0.006</td>\n",
       "    </tr>\n",
       "    <tr>\n",
       "      <th>1</th>\n",
       "      <td>ax</td>\n",
       "      <td>0.006</td>\n",
       "    </tr>\n",
       "    <tr>\n",
       "      <th>31</th>\n",
       "      <td>vx0</td>\n",
       "      <td>0.006</td>\n",
       "    </tr>\n",
       "    <tr>\n",
       "      <th>18</th>\n",
       "      <td>pfx_z</td>\n",
       "      <td>0.006</td>\n",
       "    </tr>\n",
       "    <tr>\n",
       "      <th>32</th>\n",
       "      <td>vy0</td>\n",
       "      <td>0.006</td>\n",
       "    </tr>\n",
       "    <tr>\n",
       "      <th>33</th>\n",
       "      <td>vz0</td>\n",
       "      <td>0.006</td>\n",
       "    </tr>\n",
       "    <tr>\n",
       "      <th>35</th>\n",
       "      <td>x0</td>\n",
       "      <td>0.006</td>\n",
       "    </tr>\n",
       "    <tr>\n",
       "      <th>37</th>\n",
       "      <td>y0</td>\n",
       "      <td>0.006</td>\n",
       "    </tr>\n",
       "    <tr>\n",
       "      <th>38</th>\n",
       "      <td>z0</td>\n",
       "      <td>0.006</td>\n",
       "    </tr>\n",
       "    <tr>\n",
       "      <th>20</th>\n",
       "      <td>pitch_type</td>\n",
       "      <td>0.006</td>\n",
       "    </tr>\n",
       "    <tr>\n",
       "      <th>21</th>\n",
       "      <td>px</td>\n",
       "      <td>0.006</td>\n",
       "    </tr>\n",
       "    <tr>\n",
       "      <th>17</th>\n",
       "      <td>pfx_x</td>\n",
       "      <td>0.006</td>\n",
       "    </tr>\n",
       "    <tr>\n",
       "      <th>10</th>\n",
       "      <td>end_speed</td>\n",
       "      <td>0.006</td>\n",
       "    </tr>\n",
       "    <tr>\n",
       "      <th>2</th>\n",
       "      <td>ay</td>\n",
       "      <td>0.006</td>\n",
       "    </tr>\n",
       "    <tr>\n",
       "      <th>3</th>\n",
       "      <td>az</td>\n",
       "      <td>0.006</td>\n",
       "    </tr>\n",
       "    <tr>\n",
       "      <th>6</th>\n",
       "      <td>break_angle</td>\n",
       "      <td>0.006</td>\n",
       "    </tr>\n",
       "    <tr>\n",
       "      <th>7</th>\n",
       "      <td>break_length</td>\n",
       "      <td>0.006</td>\n",
       "    </tr>\n",
       "    <tr>\n",
       "      <th>8</th>\n",
       "      <td>break_y</td>\n",
       "      <td>0.006</td>\n",
       "    </tr>\n",
       "    <tr>\n",
       "      <th>9</th>\n",
       "      <td>code</td>\n",
       "      <td>0.002</td>\n",
       "    </tr>\n",
       "    <tr>\n",
       "      <th>28</th>\n",
       "      <td>sz_top</td>\n",
       "      <td>0.001</td>\n",
       "    </tr>\n",
       "    <tr>\n",
       "      <th>27</th>\n",
       "      <td>sz_bot</td>\n",
       "      <td>0.001</td>\n",
       "    </tr>\n",
       "    <tr>\n",
       "      <th>55</th>\n",
       "      <td>date</td>\n",
       "      <td>0.000</td>\n",
       "    </tr>\n",
       "    <tr>\n",
       "      <th>47</th>\n",
       "      <td>pitcher_id</td>\n",
       "      <td>0.000</td>\n",
       "    </tr>\n",
       "    <tr>\n",
       "      <th>45</th>\n",
       "      <td>p_score</td>\n",
       "      <td>0.000</td>\n",
       "    </tr>\n",
       "    <tr>\n",
       "      <th>46</th>\n",
       "      <td>p_throws</td>\n",
       "      <td>0.000</td>\n",
       "    </tr>\n",
       "    <tr>\n",
       "      <th>51</th>\n",
       "      <td>pitcher_name</td>\n",
       "      <td>0.000</td>\n",
       "    </tr>\n",
       "    <tr>\n",
       "      <th>43</th>\n",
       "      <td>inning</td>\n",
       "      <td>0.000</td>\n",
       "    </tr>\n",
       "    <tr>\n",
       "      <th>57</th>\n",
       "      <td>home_team</td>\n",
       "      <td>0.000</td>\n",
       "    </tr>\n",
       "    <tr>\n",
       "      <th>48</th>\n",
       "      <td>stand</td>\n",
       "      <td>0.000</td>\n",
       "    </tr>\n",
       "    <tr>\n",
       "      <th>56</th>\n",
       "      <td>home_final_score</td>\n",
       "      <td>0.000</td>\n",
       "    </tr>\n",
       "    <tr>\n",
       "      <th>52</th>\n",
       "      <td>year</td>\n",
       "      <td>0.000</td>\n",
       "    </tr>\n",
       "    <tr>\n",
       "      <th>49</th>\n",
       "      <td>top</td>\n",
       "      <td>0.000</td>\n",
       "    </tr>\n",
       "    <tr>\n",
       "      <th>53</th>\n",
       "      <td>away_final_score</td>\n",
       "      <td>0.000</td>\n",
       "    </tr>\n",
       "    <tr>\n",
       "      <th>50</th>\n",
       "      <td>batter_name</td>\n",
       "      <td>0.000</td>\n",
       "    </tr>\n",
       "    <tr>\n",
       "      <th>54</th>\n",
       "      <td>away_team</td>\n",
       "      <td>0.000</td>\n",
       "    </tr>\n",
       "    <tr>\n",
       "      <th>44</th>\n",
       "      <td>o</td>\n",
       "      <td>0.000</td>\n",
       "    </tr>\n",
       "    <tr>\n",
       "      <th>0</th>\n",
       "      <td>ab_id</td>\n",
       "      <td>0.000</td>\n",
       "    </tr>\n",
       "    <tr>\n",
       "      <th>42</th>\n",
       "      <td>g_id</td>\n",
       "      <td>0.000</td>\n",
       "    </tr>\n",
       "    <tr>\n",
       "      <th>41</th>\n",
       "      <td>event</td>\n",
       "      <td>0.000</td>\n",
       "    </tr>\n",
       "    <tr>\n",
       "      <th>40</th>\n",
       "      <td>batter_id</td>\n",
       "      <td>0.000</td>\n",
       "    </tr>\n",
       "    <tr>\n",
       "      <th>36</th>\n",
       "      <td>y</td>\n",
       "      <td>0.000</td>\n",
       "    </tr>\n",
       "    <tr>\n",
       "      <th>34</th>\n",
       "      <td>x</td>\n",
       "      <td>0.000</td>\n",
       "    </tr>\n",
       "    <tr>\n",
       "      <th>23</th>\n",
       "      <td>s_count</td>\n",
       "      <td>0.000</td>\n",
       "    </tr>\n",
       "    <tr>\n",
       "      <th>19</th>\n",
       "      <td>pitch_num</td>\n",
       "      <td>0.000</td>\n",
       "    </tr>\n",
       "    <tr>\n",
       "      <th>16</th>\n",
       "      <td>outs</td>\n",
       "      <td>0.000</td>\n",
       "    </tr>\n",
       "    <tr>\n",
       "      <th>15</th>\n",
       "      <td>on_3b</td>\n",
       "      <td>0.000</td>\n",
       "    </tr>\n",
       "    <tr>\n",
       "      <th>14</th>\n",
       "      <td>on_2b</td>\n",
       "      <td>0.000</td>\n",
       "    </tr>\n",
       "    <tr>\n",
       "      <th>13</th>\n",
       "      <td>on_1b</td>\n",
       "      <td>0.000</td>\n",
       "    </tr>\n",
       "    <tr>\n",
       "      <th>11</th>\n",
       "      <td>event_num</td>\n",
       "      <td>0.000</td>\n",
       "    </tr>\n",
       "    <tr>\n",
       "      <th>5</th>\n",
       "      <td>b_score</td>\n",
       "      <td>0.000</td>\n",
       "    </tr>\n",
       "    <tr>\n",
       "      <th>4</th>\n",
       "      <td>b_count</td>\n",
       "      <td>0.000</td>\n",
       "    </tr>\n",
       "    <tr>\n",
       "      <th>29</th>\n",
       "      <td>type</td>\n",
       "      <td>0.000</td>\n",
       "    </tr>\n",
       "  </tbody>\n",
       "</table>\n",
       "</div>"
      ],
      "text/plain": [
       "                 Var  Prop_Missing\n",
       "30   type_confidence         0.175\n",
       "39              zone         0.175\n",
       "24          spin_dir         0.175\n",
       "25         spin_rate         0.175\n",
       "12             nasty         0.175\n",
       "58         umpire_HP         0.171\n",
       "22                pz         0.006\n",
       "26       start_speed         0.006\n",
       "1                 ax         0.006\n",
       "31               vx0         0.006\n",
       "18             pfx_z         0.006\n",
       "32               vy0         0.006\n",
       "33               vz0         0.006\n",
       "35                x0         0.006\n",
       "37                y0         0.006\n",
       "38                z0         0.006\n",
       "20        pitch_type         0.006\n",
       "21                px         0.006\n",
       "17             pfx_x         0.006\n",
       "10         end_speed         0.006\n",
       "2                 ay         0.006\n",
       "3                 az         0.006\n",
       "6        break_angle         0.006\n",
       "7       break_length         0.006\n",
       "8            break_y         0.006\n",
       "9               code         0.002\n",
       "28            sz_top         0.001\n",
       "27            sz_bot         0.001\n",
       "55              date         0.000\n",
       "47        pitcher_id         0.000\n",
       "45           p_score         0.000\n",
       "46          p_throws         0.000\n",
       "51      pitcher_name         0.000\n",
       "43            inning         0.000\n",
       "57         home_team         0.000\n",
       "48             stand         0.000\n",
       "56  home_final_score         0.000\n",
       "52              year         0.000\n",
       "49               top         0.000\n",
       "53  away_final_score         0.000\n",
       "50       batter_name         0.000\n",
       "54         away_team         0.000\n",
       "44                 o         0.000\n",
       "0              ab_id         0.000\n",
       "42              g_id         0.000\n",
       "41             event         0.000\n",
       "40         batter_id         0.000\n",
       "36                 y         0.000\n",
       "34                 x         0.000\n",
       "23           s_count         0.000\n",
       "19         pitch_num         0.000\n",
       "16              outs         0.000\n",
       "15             on_3b         0.000\n",
       "14             on_2b         0.000\n",
       "13             on_1b         0.000\n",
       "11         event_num         0.000\n",
       "5            b_score         0.000\n",
       "4            b_count         0.000\n",
       "29              type         0.000"
      ]
     },
     "execution_count": 27,
     "metadata": {},
     "output_type": "execute_result"
    }
   ],
   "source": [
    "missing_props(atbats_pitches)"
   ]
  },
  {
   "cell_type": "markdown",
   "metadata": {},
   "source": [
    "# Feature Engineering"
   ]
  },
  {
   "cell_type": "markdown",
   "metadata": {},
   "source": [
    "## Strikezone Flag"
   ]
  },
  {
   "cell_type": "code",
   "execution_count": 28,
   "metadata": {},
   "outputs": [],
   "source": [
    "atbats_pitches[\"Strikezone?\"] = np.where((np.abs(atbats_pitches[\"px\"] * 12) <= 9.97) & (atbats_pitches[\"pz\"] * 12 <= 44.08) & (atbats_pitches[\"pz\"] * 12 >= 18.29), True, False)"
   ]
  },
  {
   "cell_type": "code",
   "execution_count": 29,
   "metadata": {},
   "outputs": [
    {
     "data": {
      "text/plain": [
       "<matplotlib.axes._subplots.AxesSubplot at 0x7f9e3501aba8>"
      ]
     },
     "execution_count": 29,
     "metadata": {},
     "output_type": "execute_result"
    },
    {
     "data": {
      "image/png": "[encoded data removed]",
      "text/plain": [
       "<Figure size 432x288 with 1 Axes>"
      ]
     },
     "metadata": {
      "needs_background": "light"
     },
     "output_type": "display_data"
    }
   ],
   "source": [
    "sns.countplot(atbats_pitches[\"Strikezone?\"])"
   ]
  },
  {
   "cell_type": "markdown",
   "metadata": {},
   "source": [
    "## Batting and Pitching Teams"
   ]
  },
  {
   "cell_type": "code",
   "execution_count": 30,
   "metadata": {},
   "outputs": [],
   "source": [
    "atbats_pitches[\"batting_team\"] = np.where(atbats_pitches[\"top\"] == 1, atbats_pitches[\"away_team\"], atbats_pitches[\"home_team\"])\n",
    "atbats_pitches[\"pitching_team\"] = np.where(atbats_pitches[\"top\"] == 1, atbats_pitches[\"home_team\"], atbats_pitches[\"away_team\"])"
   ]
  },
  {
   "cell_type": "markdown",
   "metadata": {},
   "source": [
    "## Ball Types"
   ]
  },
  {
   "cell_type": "code",
   "execution_count": 31,
   "metadata": {},
   "outputs": [],
   "source": [
    "atbats_pitches[\"Z Call\"] = np.where(atbats_pitches[\"pz\"] * 12 >= 44.08, \"High\", np.where(atbats_pitches[\"pz\"] * 12 <= 18.29, \"Low\", np.NaN))"
   ]
  },
  {
   "cell_type": "code",
   "execution_count": 32,
   "metadata": {},
   "outputs": [],
   "source": [
    "atbats_pitches[\"X Call\"] = np.where(((atbats_pitches[\"px\"] * 12 <= -9.97) & (atbats_pitches[\"stand\"] == \"L\")) | ((atbats_pitches[\"px\"] * 12 >= 9.97) & (atbats_pitches[\"stand\"] == \"R\")), \"Outside\", np.where(((atbats_pitches[\"px\"] * 12 <= -9.97) & (atbats_pitches[\"stand\"] == \"R\")) | ((atbats_pitches[\"px\"] * 12 >= 9.97) & (atbats_pitches[\"stand\"] == \"L\")), \"Inside\", np.NaN))\n",
    "                                    \n",
    "                                    "
   ]
  },
  {
   "cell_type": "code",
   "execution_count": 33,
   "metadata": {},
   "outputs": [
    {
     "data": {
      "text/plain": [
       "<matplotlib.axes._subplots.AxesSubplot at 0x7f9feca90b00>"
      ]
     },
     "execution_count": 33,
     "metadata": {},
     "output_type": "execute_result"
    },
    {
     "data": {
      "image/png": "[encoded data removed]",
      "text/plain": [
       "<Figure size 432x288 with 1 Axes>"
      ]
     },
     "metadata": {
      "needs_background": "light"
     },
     "output_type": "display_data"
    }
   ],
   "source": [
    "sns.countplot(atbats_pitches[\"Z Call\"])"
   ]
  },
  {
   "cell_type": "code",
   "execution_count": 34,
   "metadata": {},
   "outputs": [
    {
     "data": {
      "text/plain": [
       "<matplotlib.axes._subplots.AxesSubplot at 0x7f9e4c52fac8>"
      ]
     },
     "execution_count": 34,
     "metadata": {},
     "output_type": "execute_result"
    },
    {
     "data": {
      "image/png": "[encoded data removed]",
      "text/plain": [
       "<Figure size 432x288 with 1 Axes>"
      ]
     },
     "metadata": {
      "needs_background": "light"
     },
     "output_type": "display_data"
    }
   ],
   "source": [
    "sns.countplot(atbats_pitches[\"X Call\"])"
   ]
  },
  {
   "cell_type": "code",
   "execution_count": 35,
   "metadata": {},
   "outputs": [],
   "source": [
    "outside = atbats_pitches[atbats_pitches[\"X Call\"] == \"Outside\"]\n",
    "inside = atbats_pitches[atbats_pitches[\"X Call\"] == \"Inside\"]"
   ]
  },
  {
   "cell_type": "code",
   "execution_count": 36,
   "metadata": {},
   "outputs": [
    {
     "data": {
      "text/plain": [
       "652"
      ]
     },
     "execution_count": 36,
     "metadata": {},
     "output_type": "execute_result"
    }
   ],
   "source": [
    "len(outside[outside[\"code\"] == \"P\"])"
   ]
  },
  {
   "cell_type": "code",
   "execution_count": 37,
   "metadata": {},
   "outputs": [
    {
     "data": {
      "text/plain": [
       "0"
      ]
     },
     "execution_count": 37,
     "metadata": {},
     "output_type": "execute_result"
    }
   ],
   "source": [
    "len(inside[inside[\"code\"] == \"P\"])"
   ]
  },
  {
   "cell_type": "code",
   "execution_count": 38,
   "metadata": {},
   "outputs": [],
   "source": [
    "atbats_pitches[\"Location\"] = np.where((atbats_pitches[\"X Call\"] == \"nan\") & (atbats_pitches[\"Z Call\"] != \"nan\"), atbats_pitches[\"Z Call\"], np.where((atbats_pitches[\"Z Call\"] == \"nan\") & (atbats_pitches[\"X Call\"] != \"nan\"), atbats_pitches[\"X Call\"], np.where((atbats_pitches[\"X Call\"] != \"nan\") & (atbats_pitches[\"Z Call\"] != \"nan\"), atbats_pitches[\"Z Call\"] + \" and \" + atbats_pitches[\"X Call\"], \"Strikezone\")))\n",
    "\n"
   ]
  },
  {
   "cell_type": "code",
   "execution_count": 39,
   "metadata": {},
   "outputs": [],
   "source": [
    "atbats_pitches = atbats_pitches.drop(columns = [\"X Call\", \"Z Call\"])"
   ]
  },
  {
   "cell_type": "markdown",
   "metadata": {},
   "source": [
    "## Cumulative Averages"
   ]
  },
  {
   "cell_type": "code",
   "execution_count": 40,
   "metadata": {},
   "outputs": [],
   "source": [
    "atbats_pitches[\"ab_id\"] = atbats_pitches[\"ab_id\"].astype(str)"
   ]
  },
  {
   "cell_type": "code",
   "execution_count": 41,
   "metadata": {},
   "outputs": [],
   "source": [
    "events = atbats_pitches[[\"ab_id\", \"date\", \"pitcher_name\", \"batter_name\", \"event\"]].drop_duplicates()"
   ]
  },
  {
   "cell_type": "markdown",
   "metadata": {},
   "source": [
    "### Creating Event Flags"
   ]
  },
  {
   "cell_type": "code",
   "execution_count": 42,
   "metadata": {},
   "outputs": [],
   "source": [
    "events[\"year\"] = events[\"date\"].dt.year\n",
    "\n",
    "events[\"PA?\"] = np.where(events[\"event\"].isin([\"Runner Out\"]), 0, 1)\n",
    "events[\"AB?\"] = np.where(events[\"event\"].isin([\"Walk\", \"Intent Walk\", \"Sac Fly\", \"Sac Fly DP\", \"Sac Bunt\", \"Sacrifice Bunt DP\", \"Batter Interference\", \"Catcher Interference\", \"Runner Out\", \"Hit By Pitch\"]), 0, 1)\n",
    "\n",
    "events[\"Hit?\"] = np.where(events[\"event\"].isin([\"Single\", \"Double\", \"Triple\", \"Home Run\"]), 1, 0)\n",
    "events[\"Single?\"] = np.where(events[\"event\"].isin([\"Single\"]), 1, 0)\n",
    "events[\"Double?\"] = np.where(events[\"event\"].isin([\"Double\"]), 1, 0)\n",
    "events[\"Triple?\"] = np.where(events[\"event\"].isin([\"Triple\"]), 1, 0)\n",
    "events[\"Home Run?\"] = np.where(events[\"event\"].isin([\"Home Run\"]), 1, 0)\n",
    "events[\"Walk?\"] = np.where(events[\"event\"].isin([\"Walk\"]), 1, 0)\n",
    "events[\"Intent Walk?\"] = np.where(events[\"event\"].isin([\"Intent Walk\"]), 1, 0)\n",
    "events[\"HBP?\"] = np.where(events[\"event\"].isin([\"Hit By Pitch\"]), 1, 0)\n",
    "events[\"Sac Fly?\"] = np.where(events[\"event\"].isin([\"Sac Fly\", \"Sac Fly DP\"]), 1, 0)\n",
    "\n",
    "events = events.reset_index().drop(columns = \"index\")"
   ]
  },
  {
   "cell_type": "code",
   "execution_count": 43,
   "metadata": {},
   "outputs": [
    {
     "data": {
      "text/html": [
       "<div>\n",
       "<style scoped>\n",
       "    .dataframe tbody tr th:only-of-type {\n",
       "        vertical-align: middle;\n",
       "    }\n",
       "\n",
       "    .dataframe tbody tr th {\n",
       "        vertical-align: top;\n",
       "    }\n",
       "\n",
       "    .dataframe thead th {\n",
       "        text-align: right;\n",
       "    }\n",
       "</style>\n",
       "<table border=\"1\" class=\"dataframe\">\n",
       "  <thead>\n",
       "    <tr style=\"text-align: right;\">\n",
       "      <th></th>\n",
       "      <th>ab_id</th>\n",
       "      <th>date</th>\n",
       "      <th>pitcher_name</th>\n",
       "      <th>batter_name</th>\n",
       "      <th>event</th>\n",
       "      <th>year</th>\n",
       "      <th>PA?</th>\n",
       "      <th>AB?</th>\n",
       "      <th>Hit?</th>\n",
       "      <th>Single?</th>\n",
       "      <th>Double?</th>\n",
       "      <th>Triple?</th>\n",
       "      <th>Home Run?</th>\n",
       "      <th>Walk?</th>\n",
       "      <th>Intent Walk?</th>\n",
       "      <th>HBP?</th>\n",
       "      <th>Sac Fly?</th>\n",
       "    </tr>\n",
       "  </thead>\n",
       "  <tbody>\n",
       "    <tr>\n",
       "      <th>0</th>\n",
       "      <td>2015000001.0</td>\n",
       "      <td>2015-04-05</td>\n",
       "      <td>Jon Lester</td>\n",
       "      <td>Matt Carpenter</td>\n",
       "      <td>Groundout</td>\n",
       "      <td>2015</td>\n",
       "      <td>1</td>\n",
       "      <td>1</td>\n",
       "      <td>0</td>\n",
       "      <td>0</td>\n",
       "      <td>0</td>\n",
       "      <td>0</td>\n",
       "      <td>0</td>\n",
       "      <td>0</td>\n",
       "      <td>0</td>\n",
       "      <td>0</td>\n",
       "      <td>0</td>\n",
       "    </tr>\n",
       "    <tr>\n",
       "      <th>1</th>\n",
       "      <td>2015000002.0</td>\n",
       "      <td>2015-04-05</td>\n",
       "      <td>Jon Lester</td>\n",
       "      <td>Jason Heyward</td>\n",
       "      <td>Double</td>\n",
       "      <td>2015</td>\n",
       "      <td>1</td>\n",
       "      <td>1</td>\n",
       "      <td>1</td>\n",
       "      <td>0</td>\n",
       "      <td>1</td>\n",
       "      <td>0</td>\n",
       "      <td>0</td>\n",
       "      <td>0</td>\n",
       "      <td>0</td>\n",
       "      <td>0</td>\n",
       "      <td>0</td>\n",
       "    </tr>\n",
       "    <tr>\n",
       "      <th>2</th>\n",
       "      <td>2015000003.0</td>\n",
       "      <td>2015-04-05</td>\n",
       "      <td>Jon Lester</td>\n",
       "      <td>Matt Holliday</td>\n",
       "      <td>Single</td>\n",
       "      <td>2015</td>\n",
       "      <td>1</td>\n",
       "      <td>1</td>\n",
       "      <td>1</td>\n",
       "      <td>1</td>\n",
       "      <td>0</td>\n",
       "      <td>0</td>\n",
       "      <td>0</td>\n",
       "      <td>0</td>\n",
       "      <td>0</td>\n",
       "      <td>0</td>\n",
       "      <td>0</td>\n",
       "    </tr>\n",
       "    <tr>\n",
       "      <th>3</th>\n",
       "      <td>2015000004.0</td>\n",
       "      <td>2015-04-05</td>\n",
       "      <td>Jon Lester</td>\n",
       "      <td>Jhonny Peralta</td>\n",
       "      <td>Strikeout</td>\n",
       "      <td>2015</td>\n",
       "      <td>1</td>\n",
       "      <td>1</td>\n",
       "      <td>0</td>\n",
       "      <td>0</td>\n",
       "      <td>0</td>\n",
       "      <td>0</td>\n",
       "      <td>0</td>\n",
       "      <td>0</td>\n",
       "      <td>0</td>\n",
       "      <td>0</td>\n",
       "      <td>0</td>\n",
       "    </tr>\n",
       "    <tr>\n",
       "      <th>4</th>\n",
       "      <td>2015000005.0</td>\n",
       "      <td>2015-04-05</td>\n",
       "      <td>Jon Lester</td>\n",
       "      <td>Matt Adams</td>\n",
       "      <td>Strikeout</td>\n",
       "      <td>2015</td>\n",
       "      <td>1</td>\n",
       "      <td>1</td>\n",
       "      <td>0</td>\n",
       "      <td>0</td>\n",
       "      <td>0</td>\n",
       "      <td>0</td>\n",
       "      <td>0</td>\n",
       "      <td>0</td>\n",
       "      <td>0</td>\n",
       "      <td>0</td>\n",
       "      <td>0</td>\n",
       "    </tr>\n",
       "  </tbody>\n",
       "</table>\n",
       "</div>"
      ],
      "text/plain": [
       "          ab_id       date pitcher_name     batter_name      event  year  PA?  \\\n",
       "0  2015000001.0 2015-04-05   Jon Lester  Matt Carpenter  Groundout  2015    1   \n",
       "1  2015000002.0 2015-04-05   Jon Lester   Jason Heyward     Double  2015    1   \n",
       "2  2015000003.0 2015-04-05   Jon Lester   Matt Holliday     Single  2015    1   \n",
       "3  2015000004.0 2015-04-05   Jon Lester  Jhonny Peralta  Strikeout  2015    1   \n",
       "4  2015000005.0 2015-04-05   Jon Lester      Matt Adams  Strikeout  2015    1   \n",
       "\n",
       "   AB?  Hit?  Single?  Double?  Triple?  Home Run?  Walk?  Intent Walk?  HBP?  \\\n",
       "0    1     0        0        0        0          0      0             0     0   \n",
       "1    1     1        0        1        0          0      0             0     0   \n",
       "2    1     1        1        0        0          0      0             0     0   \n",
       "3    1     0        0        0        0          0      0             0     0   \n",
       "4    1     0        0        0        0          0      0             0     0   \n",
       "\n",
       "   Sac Fly?  \n",
       "0         0  \n",
       "1         0  \n",
       "2         0  \n",
       "3         0  \n",
       "4         0  "
      ]
     },
     "execution_count": 43,
     "metadata": {},
     "output_type": "execute_result"
    }
   ],
   "source": [
    "events.head()"
   ]
  },
  {
   "cell_type": "markdown",
   "metadata": {},
   "source": [
    "### Batter Averages"
   ]
  },
  {
   "cell_type": "code",
   "execution_count": 44,
   "metadata": {},
   "outputs": [],
   "source": [
    "cum_sum_batters = events.groupby([\"year\", \"batter_name\"]).cumsum().reset_index().drop(columns = \"index\")"
   ]
  },
  {
   "cell_type": "code",
   "execution_count": 45,
   "metadata": {},
   "outputs": [],
   "source": [
    "indices = events[[\"ab_id\", \"date\", \"pitcher_name\", \"batter_name\"]]"
   ]
  },
  {
   "cell_type": "code",
   "execution_count": 46,
   "metadata": {},
   "outputs": [],
   "source": [
    "events2 = pd.concat([indices, cum_sum_batters], axis = 1)"
   ]
  },
  {
   "cell_type": "code",
   "execution_count": 47,
   "metadata": {},
   "outputs": [],
   "source": [
    "events2[\"Batter AB\"] = events2[\"AB?\"]\n",
    "\n",
    "events2[\"Batter AVG\"] = round(events2[\"Hit?\"] / events2[\"AB?\"], 3)\n",
    "\n",
    "events2[\"Batter OBP\"] = round((events2[\"Hit?\"] + events2[\"Walk?\"] + events2[\"Intent Walk?\"] + events2[\"HBP?\"]) / (events2[\"AB?\"] + events2[\"Walk?\"] + events2[\"HBP?\"] + events2[\"Intent Walk?\"] + events2[\"Sac Fly?\"]), 3)\n",
    "\n",
    "events2[\"Batter TB\"] = events2[\"Single?\"] + (2*events2[\"Double?\"]) + (3*events2[\"Triple?\"]) + (4*events2[\"Home Run?\"]) \n",
    "events2[\"Batter SLG\"] = round(events2[\"Batter TB\"] / events2[\"AB?\"], 3)\n",
    "\n",
    "events2[\"Batter OPS\"] = events2[\"Batter OBP\"] + events2[\"Batter SLG\"]\n"
   ]
  },
  {
   "cell_type": "code",
   "execution_count": 48,
   "metadata": {},
   "outputs": [],
   "source": [
    "batter_stats = events2[[\"ab_id\", \"date\", \"pitcher_name\", \"batter_name\", \"Batter AB\", \"Batter AVG\", \"Batter OBP\", \"Batter SLG\", \"Batter OPS\"]]"
   ]
  },
  {
   "cell_type": "markdown",
   "metadata": {},
   "source": [
    "### Pitcher Averages"
   ]
  },
  {
   "cell_type": "code",
   "execution_count": 49,
   "metadata": {},
   "outputs": [],
   "source": [
    "cum_sum_pitchers = events.groupby([\"year\", \"pitcher_name\"]).cumsum().reset_index().drop(columns = \"index\")"
   ]
  },
  {
   "cell_type": "code",
   "execution_count": 50,
   "metadata": {},
   "outputs": [],
   "source": [
    "events3 = pd.concat([indices, cum_sum_pitchers], axis = 1)"
   ]
  },
  {
   "cell_type": "code",
   "execution_count": 51,
   "metadata": {},
   "outputs": [],
   "source": [
    "events3[\"Pitcher AB\"] = events3[\"AB?\"]\n",
    "\n",
    "events3[\"Pitcher AVG\"] = round(events3[\"Hit?\"] / events3[\"AB?\"], 3)\n",
    "\n",
    "events3[\"Pitcher OBP\"] = round((events3[\"Hit?\"] + events3[\"Walk?\"] + events3[\"Intent Walk?\"] + events3[\"HBP?\"]) / (events3[\"AB?\"] + events3[\"Walk?\"] + events3[\"HBP?\"] + events3[\"Intent Walk?\"] + events3[\"Sac Fly?\"]), 3)\n",
    "\n",
    "events3[\"Pitcher TB\"] = events3[\"Single?\"] + (2*events3[\"Double?\"]) + (3*events3[\"Triple?\"]) + (4*events3[\"Home Run?\"]) \n",
    "events3[\"Pitcher SLG\"] = round(events3[\"Pitcher TB\"] / events3[\"AB?\"], 3)\n",
    "\n",
    "events3[\"Pitcher OPS\"] = events3[\"Pitcher OBP\"] + events3[\"Pitcher SLG\"]\n"
   ]
  },
  {
   "cell_type": "code",
   "execution_count": 52,
   "metadata": {},
   "outputs": [],
   "source": [
    "pitcher_stats = events3[[\"ab_id\", \"date\", \"pitcher_name\", \"batter_name\", \"Pitcher AB\", \"Pitcher AVG\", \"Pitcher OBP\", \"Pitcher SLG\", \"Pitcher OPS\"]]\n"
   ]
  },
  {
   "cell_type": "code",
   "execution_count": 53,
   "metadata": {},
   "outputs": [],
   "source": [
    "all_avgs = pd.merge(batter_stats, pitcher_stats, on = [\"ab_id\", \"date\", \"pitcher_name\", \"batter_name\"])"
   ]
  },
  {
   "cell_type": "code",
   "execution_count": 54,
   "metadata": {},
   "outputs": [
    {
     "data": {
      "text/html": [
       "<div>\n",
       "<style scoped>\n",
       "    .dataframe tbody tr th:only-of-type {\n",
       "        vertical-align: middle;\n",
       "    }\n",
       "\n",
       "    .dataframe tbody tr th {\n",
       "        vertical-align: top;\n",
       "    }\n",
       "\n",
       "    .dataframe thead th {\n",
       "        text-align: right;\n",
       "    }\n",
       "</style>\n",
       "<table border=\"1\" class=\"dataframe\">\n",
       "  <thead>\n",
       "    <tr style=\"text-align: right;\">\n",
       "      <th></th>\n",
       "      <th>ab_id</th>\n",
       "      <th>date</th>\n",
       "      <th>pitcher_name</th>\n",
       "      <th>batter_name</th>\n",
       "      <th>Batter AB</th>\n",
       "      <th>Batter AVG</th>\n",
       "      <th>Batter OBP</th>\n",
       "      <th>Batter SLG</th>\n",
       "      <th>Batter OPS</th>\n",
       "      <th>Pitcher AB</th>\n",
       "      <th>Pitcher AVG</th>\n",
       "      <th>Pitcher OBP</th>\n",
       "      <th>Pitcher SLG</th>\n",
       "      <th>Pitcher OPS</th>\n",
       "    </tr>\n",
       "  </thead>\n",
       "  <tbody>\n",
       "    <tr>\n",
       "      <th>890869</th>\n",
       "      <td>2019185240.0</td>\n",
       "      <td>2019-09-28</td>\n",
       "      <td>Jalen Beeks</td>\n",
       "      <td>Jonathan Davis</td>\n",
       "      <td>69</td>\n",
       "      <td>0.188</td>\n",
       "      <td>0.250</td>\n",
       "      <td>0.246</td>\n",
       "      <td>0.496</td>\n",
       "      <td>372</td>\n",
       "      <td>0.282</td>\n",
       "      <td>0.355</td>\n",
       "      <td>0.441</td>\n",
       "      <td>0.796</td>\n",
       "    </tr>\n",
       "    <tr>\n",
       "      <th>890870</th>\n",
       "      <td>2019185241.0</td>\n",
       "      <td>2019-09-28</td>\n",
       "      <td>Jalen Beeks</td>\n",
       "      <td>Danny Jansen</td>\n",
       "      <td>314</td>\n",
       "      <td>0.220</td>\n",
       "      <td>0.289</td>\n",
       "      <td>0.389</td>\n",
       "      <td>0.678</td>\n",
       "      <td>373</td>\n",
       "      <td>0.282</td>\n",
       "      <td>0.354</td>\n",
       "      <td>0.440</td>\n",
       "      <td>0.794</td>\n",
       "    </tr>\n",
       "    <tr>\n",
       "      <th>890871</th>\n",
       "      <td>2019185242.0</td>\n",
       "      <td>2019-09-28</td>\n",
       "      <td>Jalen Beeks</td>\n",
       "      <td>Richard Urena</td>\n",
       "      <td>67</td>\n",
       "      <td>0.254</td>\n",
       "      <td>0.286</td>\n",
       "      <td>0.343</td>\n",
       "      <td>0.629</td>\n",
       "      <td>374</td>\n",
       "      <td>0.281</td>\n",
       "      <td>0.353</td>\n",
       "      <td>0.439</td>\n",
       "      <td>0.792</td>\n",
       "    </tr>\n",
       "    <tr>\n",
       "      <th>890872</th>\n",
       "      <td>2019185244.0</td>\n",
       "      <td>2019-09-28</td>\n",
       "      <td>Ken Giles</td>\n",
       "      <td>Matt Duffy</td>\n",
       "      <td>119</td>\n",
       "      <td>0.252</td>\n",
       "      <td>0.331</td>\n",
       "      <td>0.336</td>\n",
       "      <td>0.667</td>\n",
       "      <td>174</td>\n",
       "      <td>0.201</td>\n",
       "      <td>0.272</td>\n",
       "      <td>0.328</td>\n",
       "      <td>0.600</td>\n",
       "    </tr>\n",
       "    <tr>\n",
       "      <th>890873</th>\n",
       "      <td>2019185245.0</td>\n",
       "      <td>2019-09-28</td>\n",
       "      <td>Ken Giles</td>\n",
       "      <td>Michael Perez</td>\n",
       "      <td>42</td>\n",
       "      <td>0.190</td>\n",
       "      <td>0.320</td>\n",
       "      <td>0.286</td>\n",
       "      <td>0.606</td>\n",
       "      <td>175</td>\n",
       "      <td>0.200</td>\n",
       "      <td>0.271</td>\n",
       "      <td>0.326</td>\n",
       "      <td>0.597</td>\n",
       "    </tr>\n",
       "  </tbody>\n",
       "</table>\n",
       "</div>"
      ],
      "text/plain": [
       "               ab_id       date pitcher_name     batter_name  Batter AB  \\\n",
       "890869  2019185240.0 2019-09-28  Jalen Beeks  Jonathan Davis         69   \n",
       "890870  2019185241.0 2019-09-28  Jalen Beeks    Danny Jansen        314   \n",
       "890871  2019185242.0 2019-09-28  Jalen Beeks   Richard Urena         67   \n",
       "890872  2019185244.0 2019-09-28    Ken Giles      Matt Duffy        119   \n",
       "890873  2019185245.0 2019-09-28    Ken Giles   Michael Perez         42   \n",
       "\n",
       "        Batter AVG  Batter OBP  Batter SLG  Batter OPS  Pitcher AB  \\\n",
       "890869       0.188       0.250       0.246       0.496         372   \n",
       "890870       0.220       0.289       0.389       0.678         373   \n",
       "890871       0.254       0.286       0.343       0.629         374   \n",
       "890872       0.252       0.331       0.336       0.667         174   \n",
       "890873       0.190       0.320       0.286       0.606         175   \n",
       "\n",
       "        Pitcher AVG  Pitcher OBP  Pitcher SLG  Pitcher OPS  \n",
       "890869        0.282        0.355        0.441        0.796  \n",
       "890870        0.282        0.354        0.440        0.794  \n",
       "890871        0.281        0.353        0.439        0.792  \n",
       "890872        0.201        0.272        0.328        0.600  \n",
       "890873        0.200        0.271        0.326        0.597  "
      ]
     },
     "execution_count": 54,
     "metadata": {},
     "output_type": "execute_result"
    }
   ],
   "source": [
    "all_avgs.tail()"
   ]
  },
  {
   "cell_type": "code",
   "execution_count": 55,
   "metadata": {},
   "outputs": [
    {
     "name": "stdout",
     "output_type": "stream",
     "text": [
      "<class 'pandas.core.frame.DataFrame'>\n",
      "Int64Index: 890874 entries, 0 to 890873\n",
      "Data columns (total 14 columns):\n",
      "ab_id           890874 non-null object\n",
      "date            890874 non-null datetime64[ns]\n",
      "pitcher_name    890874 non-null object\n",
      "batter_name     890874 non-null object\n",
      "Batter AB       890874 non-null int64\n",
      "Batter AVG      890359 non-null float64\n",
      "Batter OBP      890712 non-null float64\n",
      "Batter SLG      890359 non-null float64\n",
      "Batter OPS      890359 non-null float64\n",
      "Pitcher AB      890874 non-null int64\n",
      "Pitcher AVG     890371 non-null float64\n",
      "Pitcher OBP     890863 non-null float64\n",
      "Pitcher SLG     890371 non-null float64\n",
      "Pitcher OPS     890371 non-null float64\n",
      "dtypes: datetime64[ns](1), float64(8), int64(2), object(3)\n",
      "memory usage: 102.0+ MB\n"
     ]
    }
   ],
   "source": [
    "all_avgs.info()"
   ]
  },
  {
   "cell_type": "markdown",
   "metadata": {},
   "source": [
    "## Game Situation Statistics"
   ]
  },
  {
   "cell_type": "markdown",
   "metadata": {},
   "source": [
    "### Inning, Top or Bottom of Inning, Outs, Teams"
   ]
  },
  {
   "cell_type": "code",
   "execution_count": 56,
   "metadata": {},
   "outputs": [],
   "source": [
    "game_stats = atbats_pitches[[\"ab_id\", \"b_count\", \"s_count\", \"outs\", \"inning\", \"top\", \"pitching_team\", \"batting_team\", \"on_1b\", \"on_2b\", \"on_3b\", \"p_throws\", \"stand\"]]"
   ]
  },
  {
   "cell_type": "code",
   "execution_count": 57,
   "metadata": {},
   "outputs": [],
   "source": [
    "game_stats2 = pd.merge(all_avgs, game_stats, on = \"ab_id\", how = \"left\")"
   ]
  },
  {
   "cell_type": "markdown",
   "metadata": {},
   "source": [
    "### Count"
   ]
  },
  {
   "cell_type": "code",
   "execution_count": 58,
   "metadata": {},
   "outputs": [],
   "source": [
    "game_stats2[\"b_count\"] = game_stats2[\"b_count\"].astype(str)\n",
    "game_stats2[\"s_count\"] = game_stats2[\"s_count\"].astype(str)\n",
    "\n",
    "\n",
    "game_stats2[\"Count\"] = game_stats2[\"b_count\"] + \"-\" + game_stats2[\"s_count\"]"
   ]
  },
  {
   "cell_type": "markdown",
   "metadata": {},
   "source": [
    "### Same Side?"
   ]
  },
  {
   "cell_type": "code",
   "execution_count": 59,
   "metadata": {},
   "outputs": [],
   "source": [
    "game_stats2[\"Same Side?\"] = game_stats2[\"p_throws\"] == game_stats2[\"stand\"]"
   ]
  },
  {
   "cell_type": "markdown",
   "metadata": {},
   "source": [
    "### Bases Occupied"
   ]
  },
  {
   "cell_type": "code",
   "execution_count": 60,
   "metadata": {},
   "outputs": [],
   "source": [
    "game_stats2[\"Bases Occupied\"] = np.where((game_stats2[\"on_1b\"] == 1) & (game_stats2[\"on_2b\"] == 1) & (game_stats2[\"on_3b\"] == 1), \"Bases Loaded\", np.where((game_stats2[\"on_1b\"] == 1) & (game_stats2[\"on_2b\"] == 1) & (game_stats2[\"on_3b\"] == 0), \"1st and 2nd\", np.where((game_stats2[\"on_1b\"] == 1) & (game_stats2[\"on_2b\"] == 0) & (game_stats2[\"on_3b\"] == 1), \"1st and 3rd\", np.where((game_stats2[\"on_1b\"] == 0) & (game_stats2[\"on_2b\"] == 1) & (game_stats2[\"on_3b\"] == 1), \"2nd and 3rd\", np.where((game_stats2[\"on_1b\"] == 1) & (game_stats2[\"on_2b\"] == 0) & (game_stats2[\"on_3b\"] == 0), \"1st\", np.where((game_stats2[\"on_1b\"] == 0) & (game_stats2[\"on_2b\"] == 1) & (game_stats2[\"on_3b\"] == 0), \"2nd\", np.where((game_stats2[\"on_1b\"] == 0) & (game_stats2[\"on_2b\"] == 0) & (game_stats2[\"on_3b\"] == 1), \"3rd\", \"Bases Empty\")))))))\n",
    "\n"
   ]
  },
  {
   "cell_type": "markdown",
   "metadata": {},
   "source": [
    "### Score Difference"
   ]
  },
  {
   "cell_type": "code",
   "execution_count": 61,
   "metadata": {},
   "outputs": [],
   "source": [
    "atbats_pitches[\"Score Diff\"] = atbats_pitches[\"p_score\"] - atbats_pitches[\"b_score\"]"
   ]
  },
  {
   "cell_type": "code",
   "execution_count": 62,
   "metadata": {},
   "outputs": [],
   "source": [
    "game_stats2[\"Score Diff\"] = atbats_pitches[\"Score Diff\"]"
   ]
  },
  {
   "cell_type": "code",
   "execution_count": 63,
   "metadata": {},
   "outputs": [],
   "source": [
    "game_stats3 = game_stats2.drop(columns = [\"on_1b\", \"on_2b\", \"on_3b\", \"b_count\", \"s_count\"])"
   ]
  },
  {
   "cell_type": "markdown",
   "metadata": {},
   "source": [
    "## Previous Pitch Statistics"
   ]
  },
  {
   "cell_type": "markdown",
   "metadata": {},
   "source": [
    "### Pitch Number of At-Bat"
   ]
  },
  {
   "cell_type": "code",
   "execution_count": 64,
   "metadata": {},
   "outputs": [],
   "source": [
    "game_stats3[\"Pitch Num\"] = atbats_pitches[\"pitch_num\"]"
   ]
  },
  {
   "cell_type": "code",
   "execution_count": 65,
   "metadata": {},
   "outputs": [],
   "source": [
    "game_stats3[\"Pitch Num\"] = game_stats3[\"Pitch Num\"].astype(str)"
   ]
  },
  {
   "cell_type": "markdown",
   "metadata": {},
   "source": [
    "### Previous Pitch Code, Type, Location, Event, and Zone"
   ]
  },
  {
   "cell_type": "code",
   "execution_count": 66,
   "metadata": {},
   "outputs": [],
   "source": [
    "atbats_pitches[\"Previous Code\"] = atbats_pitches[\"code\"].shift(periods = 1)\n",
    "atbats_pitches[\"Previous Location\"] = atbats_pitches[\"Location\"].shift(periods = 1)\n",
    "atbats_pitches[\"Previous Type\"] = atbats_pitches[\"pitch_type\"].shift(periods = 1)\n",
    "\n",
    "atbats[\"ab_id\"] = atbats[\"ab_id\"].astype(str)\n",
    "atbats[\"Previous Event\"] = atbats[\"event\"].shift(periods = 1)"
   ]
  },
  {
   "cell_type": "code",
   "execution_count": 67,
   "metadata": {},
   "outputs": [],
   "source": [
    "atbats_pitches[\"pitch_id\"] = atbats_pitches.index"
   ]
  },
  {
   "cell_type": "code",
   "execution_count": 68,
   "metadata": {},
   "outputs": [],
   "source": [
    "first_pitch_inning = list(atbats_pitches[[\"g_id\", \"pitch_id\", \"inning\", \"top\"]].groupby([\"g_id\", \"inning\", \"top\"]).first().reset_index()[\"pitch_id\"])\n",
    "\n",
    "first_event_inning = list(atbats[[\"g_id\", \"ab_id\", \"inning\", \"top\"]].groupby([\"g_id\", \"inning\", \"top\"]).first().reset_index()[\"ab_id\"])\n"
   ]
  },
  {
   "cell_type": "code",
   "execution_count": 69,
   "metadata": {},
   "outputs": [],
   "source": [
    "atbats_pitches[\"Previous Code\"] = np.where(atbats_pitches[\"pitch_id\"].isin(first_pitch_inning), \"First Pitch\", atbats_pitches[\"Previous Code\"])\n",
    "\n",
    "atbats_pitches[\"Previous Location\"] = np.where(atbats_pitches[\"pitch_id\"].isin(first_pitch_inning), \"First Pitch\", atbats_pitches[\"Previous Location\"])\n",
    "\n",
    "atbats_pitches[\"Previous Type\"] = np.where(atbats_pitches[\"pitch_id\"].isin(first_pitch_inning), \"First Pitch\", atbats_pitches[\"Previous Type\"])\n",
    "\n",
    "atbats[\"Previous Event\"] = np.where(atbats[\"ab_id\"].isin(first_event_inning), \"First Event\", atbats[\"Previous Event\"])\n"
   ]
  },
  {
   "cell_type": "code",
   "execution_count": 70,
   "metadata": {},
   "outputs": [],
   "source": [
    "game_stats3[\"Previous Code\"] = atbats_pitches[\"Previous Code\"]\n",
    "\n",
    "game_stats3[\"Previous Location\"] = atbats_pitches[\"Previous Location\"]\n",
    "\n",
    "game_stats3[\"Previous Type\"] = atbats_pitches[\"Previous Type\"]\n",
    "\n",
    "previous_events = atbats[[\"ab_id\", \"Previous Event\"]]\n",
    "game_stats3 = pd.merge(game_stats3, previous_events, on = \"ab_id\")"
   ]
  },
  {
   "cell_type": "markdown",
   "metadata": {},
   "source": [
    "## Other Statistics"
   ]
  },
  {
   "cell_type": "markdown",
   "metadata": {},
   "source": [
    "### Year and Month"
   ]
  },
  {
   "cell_type": "code",
   "execution_count": 71,
   "metadata": {},
   "outputs": [],
   "source": [
    "game_stats3[\"year\"] = atbats_pitches[\"date\"].dt.year.astype(str)\n",
    "game_stats3[\"month\"] = atbats_pitches[\"date\"].dt.month.astype(str)"
   ]
  },
  {
   "cell_type": "markdown",
   "metadata": {},
   "source": [
    "### Pitch Number of Game"
   ]
  },
  {
   "cell_type": "code",
   "execution_count": 72,
   "metadata": {},
   "outputs": [],
   "source": [
    "cum_count = list(atbats_pitches[[\"g_id\", \"pitcher_name\"]].groupby([\"g_id\", \"pitcher_name\"]).cumcount())"
   ]
  },
  {
   "cell_type": "code",
   "execution_count": 73,
   "metadata": {},
   "outputs": [],
   "source": [
    "game_stats3[\"Pitch Count\"] = np.array(cum_count) + 1"
   ]
  },
  {
   "cell_type": "markdown",
   "metadata": {},
   "source": [
    "### Strikezone Percentage of Game"
   ]
  },
  {
   "cell_type": "code",
   "execution_count": 74,
   "metadata": {},
   "outputs": [],
   "source": [
    "atbats_pitches[\"Pitch Count\"] = np.array(cum_count) + 1\n",
    "\n",
    "atbats_pitches[\"Strikezone?\"] = np.where(atbats_pitches[\"Strikezone?\"] == True, 1, 0)"
   ]
  },
  {
   "cell_type": "code",
   "execution_count": 75,
   "metadata": {},
   "outputs": [],
   "source": [
    "cum_count2 = atbats_pitches[[\"g_id\", \"pitcher_name\", \"Strikezone?\"]].groupby([\"g_id\", \"pitcher_name\"]).cumsum()"
   ]
  },
  {
   "cell_type": "code",
   "execution_count": 76,
   "metadata": {},
   "outputs": [],
   "source": [
    "atbats_pitches[\"Strike Count\"] = cum_count2\n",
    "\n",
    "atbats_pitches[\"Strike Prop\"] = atbats_pitches[\"Strike Count\"] / atbats_pitches[\"Pitch Count\"]"
   ]
  },
  {
   "cell_type": "code",
   "execution_count": 77,
   "metadata": {},
   "outputs": [],
   "source": [
    "atbats_pitches_sort = atbats_pitches.sort_values(by = [\"g_id\", \"pitcher_name\", \"Pitch Count\"])\n",
    "\n",
    "atbats_pitches_sort[\"Strike Prop\"] = atbats_pitches_sort[\"Strike Prop\"].shift(periods = 1)"
   ]
  },
  {
   "cell_type": "code",
   "execution_count": 78,
   "metadata": {},
   "outputs": [],
   "source": [
    "first_pitch_game = list(atbats_pitches[[\"g_id\", \"pitcher_name\", \"pitch_id\"]].groupby([\"g_id\", \"pitcher_name\"]).first()[\"pitch_id\"])"
   ]
  },
  {
   "cell_type": "code",
   "execution_count": 79,
   "metadata": {},
   "outputs": [],
   "source": [
    "atbats_pitches_sort[\"Strike Prop\"] = np.where(atbats_pitches_sort[\"pitch_id\"].isin(first_pitch_game), 0, atbats_pitches_sort[\"Strike Prop\"])\n",
    "\n",
    "game_stats3[\"Strike Prop\"] = atbats_pitches_sort[\"Strike Prop\"]"
   ]
  },
  {
   "cell_type": "markdown",
   "metadata": {},
   "source": [
    "## Adding Strikezone Flag (Target Variable)"
   ]
  },
  {
   "cell_type": "code",
   "execution_count": 80,
   "metadata": {},
   "outputs": [],
   "source": [
    "game_stats3[\"Strikezone\"] = atbats_pitches[\"Strikezone?\"]\n",
    "\n",
    "game_stats3[\"Strikezone\"] = np.where(game_stats3[\"Strikezone\"] == True, 1, 0)"
   ]
  },
  {
   "cell_type": "code",
   "execution_count": 81,
   "metadata": {},
   "outputs": [
    {
     "data": {
      "text/plain": [
       "3458953"
      ]
     },
     "execution_count": 81,
     "metadata": {},
     "output_type": "execute_result"
    }
   ],
   "source": [
    "len(game_stats3)"
   ]
  },
  {
   "cell_type": "code",
   "execution_count": 82,
   "metadata": {},
   "outputs": [
    {
     "data": {
      "text/plain": [
       "3458953"
      ]
     },
     "execution_count": 82,
     "metadata": {},
     "output_type": "execute_result"
    }
   ],
   "source": [
    "len(atbats_pitches)"
   ]
  },
  {
   "cell_type": "markdown",
   "metadata": {},
   "source": [
    "## Filtering"
   ]
  },
  {
   "cell_type": "markdown",
   "metadata": {},
   "source": [
    "### Intentional Walks"
   ]
  },
  {
   "cell_type": "code",
   "execution_count": 83,
   "metadata": {},
   "outputs": [],
   "source": [
    "events = atbats_pitches[[\"ab_id\", \"event\"]].drop_duplicates()"
   ]
  },
  {
   "cell_type": "code",
   "execution_count": 84,
   "metadata": {},
   "outputs": [],
   "source": [
    "game_stats4 = pd.merge(game_stats3, events, on = \"ab_id\")\n",
    "\n",
    "game_stats5 = game_stats4[game_stats4[\"event\"] != \"Intent Walk\"].drop(columns = [\"ab_id\", \"event\", \"date\"])"
   ]
  },
  {
   "cell_type": "code",
   "execution_count": 85,
   "metadata": {},
   "outputs": [
    {
     "data": {
      "text/plain": [
       "3441031"
      ]
     },
     "execution_count": 85,
     "metadata": {},
     "output_type": "execute_result"
    }
   ],
   "source": [
    "len(game_stats5)"
   ]
  },
  {
   "cell_type": "markdown",
   "metadata": {},
   "source": [
    "### Uncommon Categorical Values"
   ]
  },
  {
   "cell_type": "code",
   "execution_count": 86,
   "metadata": {},
   "outputs": [],
   "source": [
    "cat_columns = game_stats5.select_dtypes(\"object\").columns"
   ]
  },
  {
   "cell_type": "code",
   "execution_count": 87,
   "metadata": {},
   "outputs": [],
   "source": [
    "for i in cat_columns:\n",
    "    flags = pd.DataFrame(game_stats5[i].value_counts() < 1000)\n",
    "    drop = flags[flags[i] == True].index\n",
    "    game_stats5 = game_stats5[~game_stats5[i].isin(drop)]"
   ]
  },
  {
   "cell_type": "code",
   "execution_count": 88,
   "metadata": {},
   "outputs": [
    {
     "data": {
      "text/plain": [
       "3024752"
      ]
     },
     "execution_count": 88,
     "metadata": {},
     "output_type": "execute_result"
    }
   ],
   "source": [
    "len(game_stats5)"
   ]
  },
  {
   "cell_type": "markdown",
   "metadata": {},
   "source": [
    "### Low Sample Sizes of At Bats"
   ]
  },
  {
   "cell_type": "code",
   "execution_count": 89,
   "metadata": {},
   "outputs": [],
   "source": [
    "game_stats5 = game_stats5[(game_stats5[\"Batter AB\"] >= 30) & (game_stats5[\"Pitcher AB\"] >= 30)]"
   ]
  },
  {
   "cell_type": "code",
   "execution_count": 90,
   "metadata": {},
   "outputs": [
    {
     "data": {
      "text/plain": [
       "2574668"
      ]
     },
     "execution_count": 90,
     "metadata": {},
     "output_type": "execute_result"
    }
   ],
   "source": [
    "len(game_stats5)"
   ]
  },
  {
   "cell_type": "markdown",
   "metadata": {},
   "source": [
    "# Modeling "
   ]
  },
  {
   "cell_type": "code",
   "execution_count": 250,
   "metadata": {},
   "outputs": [],
   "source": [
    "from sklearn.model_selection import train_test_split\n",
    "from sklearn.model_selection import cross_val_score\n",
    "from sklearn.metrics import confusion_matrix\n",
    "from sklearn.metrics import f1_score\n",
    "from sklearn.metrics import roc_curve\n",
    "from sklearn.metrics import roc_auc_score\n",
    "\n",
    "\n",
    "from sklearn.linear_model import LogisticRegression\n",
    "\n",
    "from sklearn.preprocessing import StandardScaler \n",
    "\n",
    "from numpy import argmax\n",
    "\n",
    "import warnings\n",
    "warnings.filterwarnings(\"ignore\")"
   ]
  },
  {
   "cell_type": "markdown",
   "metadata": {},
   "source": [
    "## A General Model (Logistic Regression)"
   ]
  },
  {
   "cell_type": "code",
   "execution_count": 92,
   "metadata": {},
   "outputs": [],
   "source": [
    "stats_sample = game_stats5.sample(n = 500000).drop(columns = [\"pitcher_name\", \"batter_name\"])"
   ]
  },
  {
   "cell_type": "code",
   "execution_count": 93,
   "metadata": {
    "scrolled": true
   },
   "outputs": [
    {
     "data": {
      "text/plain": [
       "0    0.513466\n",
       "1    0.486534\n",
       "Name: Strikezone, dtype: float64"
      ]
     },
     "execution_count": 93,
     "metadata": {},
     "output_type": "execute_result"
    }
   ],
   "source": [
    "stats_sample[\"Strikezone\"].value_counts() / len(stats_sample)"
   ]
  },
  {
   "cell_type": "code",
   "execution_count": 94,
   "metadata": {},
   "outputs": [],
   "source": [
    "no_players_dummies = pd.get_dummies(stats_sample)"
   ]
  },
  {
   "cell_type": "code",
   "execution_count": 95,
   "metadata": {},
   "outputs": [
    {
     "data": {
      "text/plain": [
       "(500000, 186)"
      ]
     },
     "execution_count": 95,
     "metadata": {},
     "output_type": "execute_result"
    }
   ],
   "source": [
    "no_players_dummies.shape"
   ]
  },
  {
   "cell_type": "code",
   "execution_count": 96,
   "metadata": {},
   "outputs": [],
   "source": [
    "x_vals = no_players_dummies.drop(columns = \"Strikezone\").fillna(0)\n",
    "y_val = no_players_dummies[\"Strikezone\"].values"
   ]
  },
  {
   "cell_type": "code",
   "execution_count": 97,
   "metadata": {},
   "outputs": [],
   "source": [
    "scaler = StandardScaler() \n",
    "x_vals_scaled = scaler.fit_transform(x_vals)"
   ]
  },
  {
   "cell_type": "code",
   "execution_count": 146,
   "metadata": {},
   "outputs": [],
   "source": [
    "x_train, x_test, y_train, y_test = train_test_split(x_vals_scaled, y_val, test_size = 0.2, random_state = 0)"
   ]
  },
  {
   "cell_type": "code",
   "execution_count": 147,
   "metadata": {},
   "outputs": [],
   "source": [
    "mod1 = LogisticRegression()"
   ]
  },
  {
   "cell_type": "code",
   "execution_count": 148,
   "metadata": {},
   "outputs": [
    {
     "data": {
      "text/plain": [
       "LogisticRegression(C=1.0, class_weight=None, dual=False, fit_intercept=True,\n",
       "                   intercept_scaling=1, l1_ratio=None, max_iter=100,\n",
       "                   multi_class='warn', n_jobs=None, penalty='l2',\n",
       "                   random_state=None, solver='warn', tol=0.0001, verbose=0,\n",
       "                   warm_start=False)"
      ]
     },
     "execution_count": 148,
     "metadata": {},
     "output_type": "execute_result"
    }
   ],
   "source": [
    "mod1.fit(x_train, y_train)"
   ]
  },
  {
   "cell_type": "markdown",
   "metadata": {},
   "source": [
    "### Cross Validation Score"
   ]
  },
  {
   "cell_type": "code",
   "execution_count": 149,
   "metadata": {},
   "outputs": [],
   "source": [
    "train_score1 = cross_val_score(mod1, x_train, y_train, cv = 5)\n",
    "test_score1 = cross_val_score(mod1, x_test, y_test, cv = 5)"
   ]
  },
  {
   "cell_type": "code",
   "execution_count": 150,
   "metadata": {},
   "outputs": [
    {
     "data": {
      "text/plain": [
       "(0.5667650011603655, 0.565700028064225)"
      ]
     },
     "execution_count": 150,
     "metadata": {},
     "output_type": "execute_result"
    }
   ],
   "source": [
    "np.mean(train_score1), np.mean(test_score1)"
   ]
  },
  {
   "cell_type": "markdown",
   "metadata": {},
   "source": [
    "### Confusion Matrix"
   ]
  },
  {
   "cell_type": "code",
   "execution_count": 222,
   "metadata": {},
   "outputs": [],
   "source": [
    "y_true = y_val\n",
    "y_pred = mod1.predict(x_vals_scaled)"
   ]
  },
  {
   "cell_type": "code",
   "execution_count": 223,
   "metadata": {},
   "outputs": [
    {
     "data": {
      "text/plain": [
       "array([[146506, 110227],\n",
       "       [105730, 137537]])"
      ]
     },
     "execution_count": 223,
     "metadata": {},
     "output_type": "execute_result"
    }
   ],
   "source": [
    "matrix = confusion_matrix(y_true, y_pred)\n",
    "matrix"
   ]
  },
  {
   "cell_type": "code",
   "execution_count": 226,
   "metadata": {},
   "outputs": [],
   "source": [
    "tn = matrix[0][0]\n",
    "fn = matrix[1][0]\n",
    "tp = matrix[1][1]\n",
    "fp = matrix[0][1]"
   ]
  },
  {
   "cell_type": "markdown",
   "metadata": {},
   "source": [
    "### Precision"
   ]
  },
  {
   "cell_type": "code",
   "execution_count": 227,
   "metadata": {},
   "outputs": [
    {
     "data": {
      "text/plain": [
       "0.5551129300463344"
      ]
     },
     "execution_count": 227,
     "metadata": {},
     "output_type": "execute_result"
    }
   ],
   "source": [
    "tp / (tp + fp)"
   ]
  },
  {
   "cell_type": "markdown",
   "metadata": {},
   "source": [
    "Out of all values that were predicted to be in the strikezone, 55.5% of them were correct."
   ]
  },
  {
   "cell_type": "markdown",
   "metadata": {},
   "source": [
    "### Recall / Sensitivity"
   ]
  },
  {
   "cell_type": "code",
   "execution_count": 228,
   "metadata": {},
   "outputs": [
    {
     "data": {
      "text/plain": [
       "0.5653746706293907"
      ]
     },
     "execution_count": 228,
     "metadata": {},
     "output_type": "execute_result"
    }
   ],
   "source": [
    "tp / (tp + fn)"
   ]
  },
  {
   "cell_type": "markdown",
   "metadata": {},
   "source": [
    "Out of all actual strikezone pitches, 56.5% of them were identified correctly."
   ]
  },
  {
   "cell_type": "markdown",
   "metadata": {},
   "source": [
    "### Specificity"
   ]
  },
  {
   "cell_type": "code",
   "execution_count": 229,
   "metadata": {},
   "outputs": [
    {
     "data": {
      "text/plain": [
       "0.570655116404981"
      ]
     },
     "execution_count": 229,
     "metadata": {},
     "output_type": "execute_result"
    }
   ],
   "source": [
    "tn / (tn + fp)"
   ]
  },
  {
   "cell_type": "markdown",
   "metadata": {},
   "source": [
    "Out of all actual non-strikezone pitches, 57.1% were identified correctly."
   ]
  },
  {
   "cell_type": "markdown",
   "metadata": {},
   "source": [
    "### f1-score"
   ]
  },
  {
   "cell_type": "code",
   "execution_count": 230,
   "metadata": {},
   "outputs": [
    {
     "data": {
      "text/plain": [
       "0.5601968103846804"
      ]
     },
     "execution_count": 230,
     "metadata": {},
     "output_type": "execute_result"
    }
   ],
   "source": [
    "f1_score(y_true, y_pred)"
   ]
  },
  {
   "cell_type": "markdown",
   "metadata": {},
   "source": [
    "### ROC-AUC Curve"
   ]
  },
  {
   "cell_type": "code",
   "execution_count": 257,
   "metadata": {},
   "outputs": [],
   "source": [
    "prob = mod1.predict_proba(x_test)[:, 1]\n",
    "fpr, tpr, thresholds = roc_curve(y_test, prob)\n",
    "\n",
    "random_probs = [0 for i in range(len(y_test))]\n",
    "p_fpr, p_tpr, x = roc_curve(y_test, random_probs, pos_label = 1)"
   ]
  },
  {
   "cell_type": "code",
   "execution_count": 258,
   "metadata": {},
   "outputs": [
    {
     "data": {
      "image/png": "[encoded data removed]",
      "text/plain": [
       "<Figure size 432x288 with 1 Axes>"
      ]
     },
     "metadata": {
      "needs_background": "light"
     },
     "output_type": "display_data"
    }
   ],
   "source": [
    "plt.plot(fpr, tpr, linestyle = '--',color = 'red', label = 'Logistic Regression')\n",
    "plt.plot(p_fpr, p_tpr, linestyle = '--', color = 'blue')\n",
    "plt.title('Predicting the Strikezone: ROC curve')\n",
    "plt.xlabel('FPR')\n",
    "plt.ylabel('TPR')\n",
    "plt.legend(loc = 'best')\n",
    "plt.show()"
   ]
  },
  {
   "cell_type": "code",
   "execution_count": 259,
   "metadata": {},
   "outputs": [
    {
     "data": {
      "text/plain": [
       "0.5680148935171859"
      ]
     },
     "execution_count": 259,
     "metadata": {},
     "output_type": "execute_result"
    }
   ],
   "source": [
    "roc_auc_score(y_true, y_pred)"
   ]
  },
  {
   "cell_type": "markdown",
   "metadata": {},
   "source": [
    "### Optimal Threshold"
   ]
  },
  {
   "cell_type": "code",
   "execution_count": 260,
   "metadata": {},
   "outputs": [],
   "source": [
    "gmeans = np.sqrt(tpr * (1-fpr))"
   ]
  },
  {
   "cell_type": "code",
   "execution_count": 261,
   "metadata": {},
   "outputs": [],
   "source": [
    "ix = argmax(gmeans)"
   ]
  },
  {
   "cell_type": "code",
   "execution_count": 262,
   "metadata": {},
   "outputs": [
    {
     "data": {
      "text/plain": [
       "(0.49576729495465766, 0.568607551678965)"
      ]
     },
     "execution_count": 262,
     "metadata": {},
     "output_type": "execute_result"
    }
   ],
   "source": [
    "thresholds[ix], gmeans[ix]"
   ]
  },
  {
   "cell_type": "markdown",
   "metadata": {},
   "source": [
    "### Changing the Classification Threshold"
   ]
  },
  {
   "cell_type": "code",
   "execution_count": 205,
   "metadata": {},
   "outputs": [],
   "source": [
    "prob_full = mod1.predict_proba(x_vals_scaled)[:, 1]"
   ]
  },
  {
   "cell_type": "code",
   "execution_count": 270,
   "metadata": {},
   "outputs": [
    {
     "data": {
      "image/png": "[encoded data removed]",
      "text/plain": [
       "<Figure size 432x288 with 1 Axes>"
      ]
     },
     "metadata": {
      "needs_background": "light"
     },
     "output_type": "display_data"
    }
   ],
   "source": [
    "plt.hist(prob_full)\n",
    "plt.xlabel(\"Predicted Probability of a Strike\")\n",
    "plt.ylabel(\"Frequency\")\n",
    "plt.title(\"Distribution of Predicted Probabilities\")\n",
    "plt.show()"
   ]
  },
  {
   "cell_type": "code",
   "execution_count": 239,
   "metadata": {},
   "outputs": [],
   "source": [
    "def get_threshold_stats(y_true, probs, thres):\n",
    "    \n",
    "    new_y_pred = [1 if i >= thres else 0 for i in probs]\n",
    "    \n",
    "    matrix = confusion_matrix(y_true, new_y_pred)\n",
    "    tn = matrix[0][0]\n",
    "    fn = matrix[1][0]\n",
    "    tp = matrix[1][1]\n",
    "    fp = matrix[0][1]\n",
    "    \n",
    "    print(f\"Accuracy Score: {(tp + tn) / (tp + tn + fp + fn)}\")\n",
    "    print(f\"Precision: {tp / (tp + fp)}\")\n",
    "    print(f\"Recall/Sensitivity (TPR): {tp / (tp + fn)}\")\n",
    "    print(f\"Specificity: {tn / (tn + fp)}\")\n",
    "    print(f\"f1 Score: {f1_score(y_true, new_y_pred)}\")"
   ]
  },
  {
   "cell_type": "code",
   "execution_count": 265,
   "metadata": {},
   "outputs": [
    {
     "data": {
      "text/plain": [
       "B              3.333078e-01\n",
       "F              1.737263e-01\n",
       "C              1.626333e-01\n",
       "S              8.470974e-02\n",
       "X              7.370930e-02\n",
       "First Pitch    6.152295e-02\n",
       "D              4.031625e-02\n",
       "*B             2.301245e-02\n",
       "E              2.188466e-02\n",
       "T              7.310305e-03\n",
       "W              5.760703e-03\n",
       "L              2.848550e-03\n",
       "V              2.556554e-03\n",
       "H              2.442358e-03\n",
       "I              1.904623e-03\n",
       "M              6.108785e-04\n",
       "P              1.827142e-04\n",
       "O              5.782096e-06\n",
       "Q              1.445524e-06\n",
       "R              5.782096e-07\n",
       "Z              2.891048e-07\n",
       "Name: Previous Code, dtype: float64"
      ]
     },
     "execution_count": 265,
     "metadata": {},
     "output_type": "execute_result"
    }
   ],
   "source": [
    "game_stats3[\"Previous Code\"].value_counts() / len(game_stats3)"
   ]
  },
  {
   "cell_type": "code",
   "execution_count": 269,
   "metadata": {},
   "outputs": [
    {
     "name": "stdout",
     "output_type": "stream",
     "text": [
      "Accuracy Score: 0.555896\n",
      "Precision: 0.5905965751377205\n",
      "Recall/Sensitivity (TPR): 0.2842555710392285\n",
      "Specificity: 0.8132885137477457\n",
      "f1 Score: 0.3837914039605719\n"
     ]
    }
   ],
   "source": [
    "get_threshold_stats(y_true, prob_full, 0.55)"
   ]
  },
  {
   "cell_type": "markdown",
   "metadata": {},
   "source": [
    "### Feature Importance"
   ]
  },
  {
   "cell_type": "code",
   "execution_count": 133,
   "metadata": {},
   "outputs": [],
   "source": [
    "c = list(x_vals.columns)\n",
    "\n",
    "imp1 = pd.DataFrame(c, mod1.coef_[0]).reset_index().sort_values(by = \"index\", ascending = False)\n",
    "\n",
    "imp1 = imp1.rename(columns = {0: \"Feature\", \"index\": \"Importance\"})\n",
    "imp1[\"Importance\"] = imp1[\"Importance\"] ** 2\n",
    "\n",
    "imp1 = imp1[[\"Feature\", \"Importance\"]].head(20)"
   ]
  },
  {
   "cell_type": "code",
   "execution_count": 136,
   "metadata": {},
   "outputs": [
    {
     "data": {
      "image/png": "[encoded data removed]",
      "text/plain": [
       "<Figure size 576x576 with 1 Axes>"
      ]
     },
     "metadata": {
      "needs_background": "light"
     },
     "output_type": "display_data"
    }
   ],
   "source": [
    "plt.figure(figsize = (8,8))\n",
    "sns.barplot(imp1[\"Feature\"], imp1[\"Importance\"])\n",
    "plt.title(\"Logistic Regression Feature Importances (Top 20)\")\n",
    "plt.xticks(rotation = 90)\n",
    "plt.show()"
   ]
  },
  {
   "cell_type": "markdown",
   "metadata": {},
   "source": [
    "## Modeling Individual Pitchers"
   ]
  },
  {
   "cell_type": "code",
   "execution_count": 120,
   "metadata": {},
   "outputs": [],
   "source": [
    "def model_pitcher(game_stats5, pitcher, mod):\n",
    "    \n",
    "    ind_pitcher = game_stats5[game_stats5[\"pitcher_name\"] == pitcher].drop(columns = [\"pitcher_name\", \"batter_name\"])\n",
    "    \n",
    "    ind_pitcher_dummies = pd.get_dummies(ind_pitcher)\n",
    "    \n",
    "    x_vals = ind_pitcher_dummies.drop(columns = \"Strikezone\").fillna(0)\n",
    "    y_val = ind_pitcher_dummies[\"Strikezone\"].values\n",
    "    \n",
    "    train_array = []\n",
    "    test_array = []\n",
    "    \n",
    "    for i in range(1):\n",
    "    \n",
    "        x_train, x_test, y_train, y_test = train_test_split(x_vals, y_val, test_size = 0.4)\n",
    "    \n",
    "        mod.fit(x_train, y_train)\n",
    "    \n",
    "        train_score = mod.score(x_train, y_train)\n",
    "        test_score = mod.score(x_test, y_test)\n",
    "        \n",
    "        train_array.append(train_score)\n",
    "        test_array.append(test_score)\n",
    "        \n",
    "    baseline = len(ind_pitcher_dummies[ind_pitcher_dummies[\"Strikezone\"] == 1]) / len(ind_pitcher_dummies)\n",
    "    \n",
    "    return pitcher, round(baseline, 4), round(np.mean(train_array), 4), round(np.mean(test_array), 4)\n",
    "\n",
    "    "
   ]
  },
  {
   "cell_type": "code",
   "execution_count": 121,
   "metadata": {},
   "outputs": [],
   "source": [
    "top100_pitchers = list(game_stats5[[\"pitcher_name\"]].groupby(\"pitcher_name\").size().sort_values(ascending = False).index[0:100])"
   ]
  },
  {
   "cell_type": "code",
   "execution_count": 122,
   "metadata": {},
   "outputs": [],
   "source": [
    "pitcher_models = [model_pitcher(game_stats5, i, LogisticRegression()) for i in top100_pitchers]"
   ]
  },
  {
   "cell_type": "code",
   "execution_count": 123,
   "metadata": {},
   "outputs": [],
   "source": [
    "model_df = pd.DataFrame(pitcher_models)\n",
    "\n",
    "model_df[1] = np.where(model_df[1] < 0.5, 1 - model_df[1], model_df[1])"
   ]
  },
  {
   "cell_type": "code",
   "execution_count": 124,
   "metadata": {},
   "outputs": [],
   "source": [
    "model_df[\"Spread\"] = model_df[3] - model_df[1]"
   ]
  },
  {
   "cell_type": "code",
   "execution_count": 125,
   "metadata": {},
   "outputs": [],
   "source": [
    "model_df = model_df.rename(columns = {0: \"Pitcher\", 1: \"Baseline\", 2: \"Train Accuracy\", 3: \"Test Accuracy\"})"
   ]
  },
  {
   "cell_type": "code",
   "execution_count": 126,
   "metadata": {},
   "outputs": [],
   "source": [
    "model_df_top_acc = model_df.sort_values(by = \"Test Accuracy\", ascending = False).head(10)\n",
    "model_df_bot_acc = model_df.sort_values(by = \"Test Accuracy\").head(10)\n",
    "\n",
    "model_df_top_spread = model_df.sort_values(by = \"Spread\", ascending = False).head(10)\n",
    "model_df_bot_spread = model_df.sort_values(by = \"Spread\").head(10)"
   ]
  },
  {
   "cell_type": "markdown",
   "metadata": {},
   "source": [
    "### Plotting Model Effectiveness"
   ]
  },
  {
   "cell_type": "code",
   "execution_count": 127,
   "metadata": {},
   "outputs": [
    {
     "data": {
      "image/png": "[encoded data removed]",
      "text/plain": [
       "<Figure size 432x288 with 1 Axes>"
      ]
     },
     "metadata": {
      "needs_background": "light"
     },
     "output_type": "display_data"
    }
   ],
   "source": [
    "sns.barplot(model_df_top_acc[\"Pitcher\"], model_df_top_acc[\"Test Accuracy\"])\n",
    "plt.xticks(rotation = 90)\n",
    "plt.title(\"The 10 Most Predictable MLB Pitchers (2015-2019)\")\n",
    "plt.ylim(0.58, 0.65)\n",
    "plt.show()"
   ]
  },
  {
   "cell_type": "code",
   "execution_count": 128,
   "metadata": {},
   "outputs": [
    {
     "data": {
      "image/png": "[encoded data removed]",
      "text/plain": [
       "<Figure size 432x288 with 1 Axes>"
      ]
     },
     "metadata": {
      "needs_background": "light"
     },
     "output_type": "display_data"
    }
   ],
   "source": [
    "sns.barplot(model_df_bot_acc[\"Pitcher\"], model_df_bot_acc[\"Test Accuracy\"])\n",
    "plt.xticks(rotation = 90)\n",
    "plt.title(\"The 10 Least Predictable MLB Pitchers (2015-2019)\")\n",
    "plt.ylim(0.5, 0.58)\n",
    "plt.show()"
   ]
  },
  {
   "cell_type": "code",
   "execution_count": 129,
   "metadata": {},
   "outputs": [
    {
     "data": {
      "image/png": "[encoded data removed]",
      "text/plain": [
       "<Figure size 432x288 with 1 Axes>"
      ]
     },
     "metadata": {
      "needs_background": "light"
     },
     "output_type": "display_data"
    }
   ],
   "source": [
    "sns.barplot(model_df_top_spread[\"Pitcher\"], model_df_top_spread[\"Spread\"])\n",
    "plt.xticks(rotation = 90)\n",
    "plt.title(\"The 10 Most Effecitvely Modeled MLB Pitchers (2015-2019)\")\n",
    "plt.show()"
   ]
  },
  {
   "cell_type": "code",
   "execution_count": 130,
   "metadata": {},
   "outputs": [
    {
     "data": {
      "image/png": "[encoded data removed]",
      "text/plain": [
       "<Figure size 432x288 with 1 Axes>"
      ]
     },
     "metadata": {
      "needs_background": "light"
     },
     "output_type": "display_data"
    }
   ],
   "source": [
    "sns.barplot(model_df_bot_spread[\"Pitcher\"], model_df_bot_spread[\"Spread\"])\n",
    "plt.xticks(rotation = 90)\n",
    "plt.title(\"The 10 Least Effecitvely Modeled MLB Pitchers (2015-2019)\")\n",
    "plt.show()"
   ]
  },
  {
   "cell_type": "code",
   "execution_count": null,
   "metadata": {},
   "outputs": [],
   "source": []
  }
 ],
 "metadata": {
  "kernelspec": {
   "display_name": "Python 3",
   "language": "python",
   "name": "python3"
  },
  "language_info": {
   "codemirror_mode": {
    "name": "ipython",
    "version": 3
   },
   "file_extension": ".py",
   "mimetype": "text/x-python",
   "name": "python",
   "nbconvert_exporter": "python",
   "pygments_lexer": "ipython3",
   "version": "3.6.8"
  }
 },
 "nbformat": 4,
 "nbformat_minor": 2
}
