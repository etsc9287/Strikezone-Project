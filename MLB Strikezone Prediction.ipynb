{
 "cells": [
  {
   "cell_type": "markdown",
   "metadata": {},
   "source": [
    "# MLB For Data Science - Predicting the Strikezone"
   ]
  },
  {
   "cell_type": "markdown",
   "metadata": {},
   "source": [
    "# Merging, Cleaning, Missing Values"
   ]
  },
  {
   "cell_type": "code",
   "execution_count": 1,
   "metadata": {},
   "outputs": [],
   "source": [
    "import numpy as np\n",
    "import pandas as pd\n",
    "import matplotlib.pyplot as plt\n",
    "import seaborn as sns\n",
    "\n",
    "sns.set(style = \"dark\")"
   ]
  },
  {
   "cell_type": "code",
   "execution_count": 2,
   "metadata": {},
   "outputs": [],
   "source": [
    "atbats = pd.read_csv(\"atbats.csv\")\n",
    "atbats_2019 = pd.read_csv(\"2019_atbats.csv\")"
   ]
  },
  {
   "cell_type": "code",
   "execution_count": 3,
   "metadata": {},
   "outputs": [],
   "source": [
    "atbats = pd.concat([atbats, atbats_2019], axis = 0, sort = True)"
   ]
  },
  {
   "cell_type": "code",
   "execution_count": 4,
   "metadata": {},
   "outputs": [
    {
     "data": {
      "text/html": [
       "<div>\n",
       "<style scoped>\n",
       "    .dataframe tbody tr th:only-of-type {\n",
       "        vertical-align: middle;\n",
       "    }\n",
       "\n",
       "    .dataframe tbody tr th {\n",
       "        vertical-align: top;\n",
       "    }\n",
       "\n",
       "    .dataframe thead th {\n",
       "        text-align: right;\n",
       "    }\n",
       "</style>\n",
       "<table border=\"1\" class=\"dataframe\">\n",
       "  <thead>\n",
       "    <tr style=\"text-align: right;\">\n",
       "      <th></th>\n",
       "      <th>ab_id</th>\n",
       "      <th>batter_id</th>\n",
       "      <th>event</th>\n",
       "      <th>g_id</th>\n",
       "      <th>inning</th>\n",
       "      <th>o</th>\n",
       "      <th>p_score</th>\n",
       "      <th>p_throws</th>\n",
       "      <th>pitcher_id</th>\n",
       "      <th>stand</th>\n",
       "      <th>top</th>\n",
       "    </tr>\n",
       "  </thead>\n",
       "  <tbody>\n",
       "    <tr>\n",
       "      <th>0</th>\n",
       "      <td>2.015000e+09</td>\n",
       "      <td>572761</td>\n",
       "      <td>Groundout</td>\n",
       "      <td>201500001.0</td>\n",
       "      <td>1.0</td>\n",
       "      <td>1</td>\n",
       "      <td>0.0</td>\n",
       "      <td>L</td>\n",
       "      <td>452657</td>\n",
       "      <td>L</td>\n",
       "      <td>1.0</td>\n",
       "    </tr>\n",
       "    <tr>\n",
       "      <th>1</th>\n",
       "      <td>2.015000e+09</td>\n",
       "      <td>518792</td>\n",
       "      <td>Double</td>\n",
       "      <td>201500001.0</td>\n",
       "      <td>1.0</td>\n",
       "      <td>1</td>\n",
       "      <td>0.0</td>\n",
       "      <td>L</td>\n",
       "      <td>452657</td>\n",
       "      <td>L</td>\n",
       "      <td>1.0</td>\n",
       "    </tr>\n",
       "    <tr>\n",
       "      <th>2</th>\n",
       "      <td>2.015000e+09</td>\n",
       "      <td>407812</td>\n",
       "      <td>Single</td>\n",
       "      <td>201500001.0</td>\n",
       "      <td>1.0</td>\n",
       "      <td>1</td>\n",
       "      <td>0.0</td>\n",
       "      <td>L</td>\n",
       "      <td>452657</td>\n",
       "      <td>R</td>\n",
       "      <td>1.0</td>\n",
       "    </tr>\n",
       "    <tr>\n",
       "      <th>3</th>\n",
       "      <td>2.015000e+09</td>\n",
       "      <td>425509</td>\n",
       "      <td>Strikeout</td>\n",
       "      <td>201500001.0</td>\n",
       "      <td>1.0</td>\n",
       "      <td>2</td>\n",
       "      <td>0.0</td>\n",
       "      <td>L</td>\n",
       "      <td>452657</td>\n",
       "      <td>R</td>\n",
       "      <td>1.0</td>\n",
       "    </tr>\n",
       "    <tr>\n",
       "      <th>4</th>\n",
       "      <td>2.015000e+09</td>\n",
       "      <td>571431</td>\n",
       "      <td>Strikeout</td>\n",
       "      <td>201500001.0</td>\n",
       "      <td>1.0</td>\n",
       "      <td>3</td>\n",
       "      <td>0.0</td>\n",
       "      <td>L</td>\n",
       "      <td>452657</td>\n",
       "      <td>L</td>\n",
       "      <td>1.0</td>\n",
       "    </tr>\n",
       "  </tbody>\n",
       "</table>\n",
       "</div>"
      ],
      "text/plain": [
       "          ab_id  batter_id      event         g_id  inning  o  p_score  \\\n",
       "0  2.015000e+09     572761  Groundout  201500001.0     1.0  1      0.0   \n",
       "1  2.015000e+09     518792     Double  201500001.0     1.0  1      0.0   \n",
       "2  2.015000e+09     407812     Single  201500001.0     1.0  1      0.0   \n",
       "3  2.015000e+09     425509  Strikeout  201500001.0     1.0  2      0.0   \n",
       "4  2.015000e+09     571431  Strikeout  201500001.0     1.0  3      0.0   \n",
       "\n",
       "  p_throws  pitcher_id stand  top  \n",
       "0        L      452657     L  1.0  \n",
       "1        L      452657     L  1.0  \n",
       "2        L      452657     R  1.0  \n",
       "3        L      452657     R  1.0  \n",
       "4        L      452657     L  1.0  "
      ]
     },
     "execution_count": 4,
     "metadata": {},
     "output_type": "execute_result"
    }
   ],
   "source": [
    "atbats.head()"
   ]
  },
  {
   "cell_type": "code",
   "execution_count": 5,
   "metadata": {},
   "outputs": [],
   "source": [
    "games = pd.read_csv(\"games.csv\")[[\"g_id\", \"date\", \"away_team\", \"home_team\", \"away_final_score\", \"home_final_score\", \"umpire_HP\"]]\n",
    "games_2019 = pd.read_csv(\"2019_games.csv\")[[\"g_id\", \"date\", \"away_team\", \"home_team\", \"away_final_score\", \"home_final_score\", \"umpire_HP\"]]"
   ]
  },
  {
   "cell_type": "code",
   "execution_count": 6,
   "metadata": {},
   "outputs": [],
   "source": [
    "games = pd.concat([games, games_2019], axis = 0, sort = True)"
   ]
  },
  {
   "cell_type": "code",
   "execution_count": 7,
   "metadata": {},
   "outputs": [
    {
     "data": {
      "text/html": [
       "<div>\n",
       "<style scoped>\n",
       "    .dataframe tbody tr th:only-of-type {\n",
       "        vertical-align: middle;\n",
       "    }\n",
       "\n",
       "    .dataframe tbody tr th {\n",
       "        vertical-align: top;\n",
       "    }\n",
       "\n",
       "    .dataframe thead th {\n",
       "        text-align: right;\n",
       "    }\n",
       "</style>\n",
       "<table border=\"1\" class=\"dataframe\">\n",
       "  <thead>\n",
       "    <tr style=\"text-align: right;\">\n",
       "      <th></th>\n",
       "      <th>away_final_score</th>\n",
       "      <th>away_team</th>\n",
       "      <th>date</th>\n",
       "      <th>g_id</th>\n",
       "      <th>home_final_score</th>\n",
       "      <th>home_team</th>\n",
       "      <th>umpire_HP</th>\n",
       "    </tr>\n",
       "  </thead>\n",
       "  <tbody>\n",
       "    <tr>\n",
       "      <th>0</th>\n",
       "      <td>3.0</td>\n",
       "      <td>sln</td>\n",
       "      <td>2015-04-05</td>\n",
       "      <td>201500001.0</td>\n",
       "      <td>0.0</td>\n",
       "      <td>chn</td>\n",
       "      <td>Mike Winters</td>\n",
       "    </tr>\n",
       "    <tr>\n",
       "      <th>1</th>\n",
       "      <td>1.0</td>\n",
       "      <td>ana</td>\n",
       "      <td>2015-04-06</td>\n",
       "      <td>201500002.0</td>\n",
       "      <td>4.0</td>\n",
       "      <td>sea</td>\n",
       "      <td>Larry Vanover</td>\n",
       "    </tr>\n",
       "    <tr>\n",
       "      <th>2</th>\n",
       "      <td>2.0</td>\n",
       "      <td>atl</td>\n",
       "      <td>2015-04-06</td>\n",
       "      <td>201500003.0</td>\n",
       "      <td>1.0</td>\n",
       "      <td>mia</td>\n",
       "      <td>Jeff Nelson</td>\n",
       "    </tr>\n",
       "    <tr>\n",
       "      <th>3</th>\n",
       "      <td>6.0</td>\n",
       "      <td>bal</td>\n",
       "      <td>2015-04-06</td>\n",
       "      <td>201500004.0</td>\n",
       "      <td>2.0</td>\n",
       "      <td>tba</td>\n",
       "      <td>Dana DeMuth</td>\n",
       "    </tr>\n",
       "    <tr>\n",
       "      <th>4</th>\n",
       "      <td>8.0</td>\n",
       "      <td>bos</td>\n",
       "      <td>2015-04-06</td>\n",
       "      <td>201500005.0</td>\n",
       "      <td>0.0</td>\n",
       "      <td>phi</td>\n",
       "      <td>Gerry Davis</td>\n",
       "    </tr>\n",
       "  </tbody>\n",
       "</table>\n",
       "</div>"
      ],
      "text/plain": [
       "   away_final_score away_team        date         g_id  home_final_score  \\\n",
       "0               3.0       sln  2015-04-05  201500001.0               0.0   \n",
       "1               1.0       ana  2015-04-06  201500002.0               4.0   \n",
       "2               2.0       atl  2015-04-06  201500003.0               1.0   \n",
       "3               6.0       bal  2015-04-06  201500004.0               2.0   \n",
       "4               8.0       bos  2015-04-06  201500005.0               0.0   \n",
       "\n",
       "  home_team      umpire_HP  \n",
       "0       chn   Mike Winters  \n",
       "1       sea  Larry Vanover  \n",
       "2       mia    Jeff Nelson  \n",
       "3       tba    Dana DeMuth  \n",
       "4       phi    Gerry Davis  "
      ]
     },
     "execution_count": 7,
     "metadata": {},
     "output_type": "execute_result"
    }
   ],
   "source": [
    "games.head()"
   ]
  },
  {
   "cell_type": "code",
   "execution_count": 8,
   "metadata": {},
   "outputs": [],
   "source": [
    "pitches = pd.read_csv(\"pitches.csv\")\n",
    "pitches_2019 = pd.read_csv(\"2019_pitches.csv\")"
   ]
  },
  {
   "cell_type": "code",
   "execution_count": 9,
   "metadata": {},
   "outputs": [],
   "source": [
    "pitches = pd.concat([pitches, pitches_2019], axis = 0, sort = True)"
   ]
  },
  {
   "cell_type": "code",
   "execution_count": 10,
   "metadata": {},
   "outputs": [
    {
     "data": {
      "text/plain": [
       "3595944"
      ]
     },
     "execution_count": 10,
     "metadata": {},
     "output_type": "execute_result"
    }
   ],
   "source": [
    "len(pitches)"
   ]
  },
  {
   "cell_type": "code",
   "execution_count": null,
   "metadata": {},
   "outputs": [],
   "source": [
    "pitches = pitches.replace(\"placeholder\", np.NaN)"
   ]
  },
  {
   "cell_type": "code",
   "execution_count": null,
   "metadata": {},
   "outputs": [],
   "source": [
    "names = pd.read_csv(\"player_names.csv\").rename(columns = {\"id\": \"batter_id\"})"
   ]
  },
  {
   "cell_type": "code",
   "execution_count": null,
   "metadata": {},
   "outputs": [],
   "source": [
    "atbats = pd.merge(atbats, names, on = \"batter_id\") #getting batter names for each row"
   ]
  },
  {
   "cell_type": "code",
   "execution_count": null,
   "metadata": {},
   "outputs": [],
   "source": [
    "atbats[\"batter_name\"] = atbats[\"first_name\"] + \" \" + atbats[\"last_name\"]"
   ]
  },
  {
   "cell_type": "code",
   "execution_count": null,
   "metadata": {},
   "outputs": [],
   "source": [
    "atbats = atbats.drop(columns = [\"first_name\", \"last_name\"])"
   ]
  },
  {
   "cell_type": "code",
   "execution_count": null,
   "metadata": {},
   "outputs": [],
   "source": [
    "names = names.rename(columns = {\"batter_id\": \"pitcher_id\"})"
   ]
  },
  {
   "cell_type": "code",
   "execution_count": null,
   "metadata": {},
   "outputs": [],
   "source": [
    "atbats = pd.merge(atbats, names, on = \"pitcher_id\") #getting pitcher names for each row"
   ]
  },
  {
   "cell_type": "code",
   "execution_count": null,
   "metadata": {},
   "outputs": [],
   "source": [
    "atbats[\"pitcher_name\"] = atbats[\"first_name\"] + \" \" + atbats[\"last_name\"]"
   ]
  },
  {
   "cell_type": "code",
   "execution_count": null,
   "metadata": {},
   "outputs": [],
   "source": [
    "atbats = atbats.drop(columns = [\"first_name\", \"last_name\"]).sort_values(by = \"ab_id\")"
   ]
  },
  {
   "cell_type": "code",
   "execution_count": null,
   "metadata": {},
   "outputs": [],
   "source": [
    "atbats[\"year\"] = atbats[\"ab_id\"].astype(str).str[:4] #the year is the first 4 digits of at bat id"
   ]
  },
  {
   "cell_type": "code",
   "execution_count": null,
   "metadata": {},
   "outputs": [],
   "source": [
    "atbats_games = pd.merge(atbats, games, on = \"g_id\")"
   ]
  },
  {
   "cell_type": "code",
   "execution_count": null,
   "metadata": {},
   "outputs": [],
   "source": [
    "atbats_games[\"date\"] = pd.to_datetime(atbats_games[\"date\"])"
   ]
  },
  {
   "cell_type": "code",
   "execution_count": null,
   "metadata": {},
   "outputs": [],
   "source": [
    "atbats_pitches = pd.merge(pitches, atbats_games, on = \"ab_id\")"
   ]
  },
  {
   "cell_type": "code",
   "execution_count": null,
   "metadata": {},
   "outputs": [],
   "source": [
    "atbats_pitches.head()"
   ]
  },
  {
   "cell_type": "code",
   "execution_count": null,
   "metadata": {},
   "outputs": [],
   "source": [
    "atbats_pitches.info()"
   ]
  },
  {
   "cell_type": "code",
   "execution_count": null,
   "metadata": {},
   "outputs": [],
   "source": [
    "def missing_props(df):\n",
    "    missing_values = []\n",
    "    for i in df.columns:\n",
    "        missing_values.append(round(df[i].isnull().sum() / len(df), 3))\n",
    "    missing_props = pd.DataFrame(list(zip(df.columns, missing_values)), columns = [\"Var\", \"Prop_Missing\"]).sort_values(by = \"Prop_Missing\", ascending = False)\n",
    "    \n",
    "    return missing_props"
   ]
  },
  {
   "cell_type": "code",
   "execution_count": null,
   "metadata": {},
   "outputs": [],
   "source": [
    "missing_props(atbats_pitches)"
   ]
  },
  {
   "cell_type": "markdown",
   "metadata": {},
   "source": [
    "# Feature Engineering"
   ]
  },
  {
   "cell_type": "markdown",
   "metadata": {},
   "source": [
    "## Strikezone Flag"
   ]
  },
  {
   "cell_type": "code",
   "execution_count": null,
   "metadata": {},
   "outputs": [],
   "source": [
    "atbats_pitches[\"Strikezone?\"] = np.where((np.abs(atbats_pitches[\"px\"] * 12) <= 9.97) & (atbats_pitches[\"pz\"] * 12 <= 44.08) & (atbats_pitches[\"pz\"] * 12 >= 18.29), True, False)"
   ]
  },
  {
   "cell_type": "code",
   "execution_count": null,
   "metadata": {},
   "outputs": [],
   "source": [
    "sns.countplot(atbats_pitches[\"Strikezone?\"])"
   ]
  },
  {
   "cell_type": "markdown",
   "metadata": {},
   "source": [
    "## Batting and Pitching Teams"
   ]
  },
  {
   "cell_type": "code",
   "execution_count": null,
   "metadata": {},
   "outputs": [],
   "source": [
    "atbats_pitches[\"batting_team\"] = np.where(atbats_pitches[\"top\"] == 1, atbats_pitches[\"away_team\"], atbats_pitches[\"home_team\"])\n",
    "atbats_pitches[\"pitching_team\"] = np.where(atbats_pitches[\"top\"] == 1, atbats_pitches[\"home_team\"], atbats_pitches[\"away_team\"])"
   ]
  },
  {
   "cell_type": "markdown",
   "metadata": {},
   "source": [
    "## Ball Types"
   ]
  },
  {
   "cell_type": "code",
   "execution_count": null,
   "metadata": {},
   "outputs": [],
   "source": [
    "atbats_pitches[\"Z Call\"] = np.where(atbats_pitches[\"pz\"] * 12 >= 44.08, \"High\", np.where(atbats_pitches[\"pz\"] * 12 <= 18.29, \"Low\", np.NaN))"
   ]
  },
  {
   "cell_type": "code",
   "execution_count": null,
   "metadata": {},
   "outputs": [],
   "source": [
    "atbats_pitches[\"X Call\"] = np.where(((atbats_pitches[\"px\"] * 12 <= -9.97) & (atbats_pitches[\"stand\"] == \"L\")) | ((atbats_pitches[\"px\"] * 12 >= 9.97) & (atbats_pitches[\"stand\"] == \"R\")), \"Outside\", np.where(((atbats_pitches[\"px\"] * 12 <= -9.97) & (atbats_pitches[\"stand\"] == \"R\")) | ((atbats_pitches[\"px\"] * 12 >= 9.97) & (atbats_pitches[\"stand\"] == \"L\")), \"Inside\", np.NaN))\n",
    "                                    \n",
    "                                    "
   ]
  },
  {
   "cell_type": "code",
   "execution_count": null,
   "metadata": {},
   "outputs": [],
   "source": [
    "sns.countplot(atbats_pitches[\"Z Call\"])"
   ]
  },
  {
   "cell_type": "code",
   "execution_count": null,
   "metadata": {},
   "outputs": [],
   "source": [
    "sns.countplot(atbats_pitches[\"X Call\"])"
   ]
  },
  {
   "cell_type": "code",
   "execution_count": null,
   "metadata": {},
   "outputs": [],
   "source": [
    "outside = atbats_pitches[atbats_pitches[\"X Call\"] == \"Outside\"]\n",
    "inside = atbats_pitches[atbats_pitches[\"X Call\"] == \"Inside\"]"
   ]
  },
  {
   "cell_type": "code",
   "execution_count": null,
   "metadata": {},
   "outputs": [],
   "source": [
    "len(outside[outside[\"code\"] == \"P\"])"
   ]
  },
  {
   "cell_type": "code",
   "execution_count": null,
   "metadata": {},
   "outputs": [],
   "source": [
    "len(inside[inside[\"code\"] == \"P\"])"
   ]
  },
  {
   "cell_type": "code",
   "execution_count": null,
   "metadata": {},
   "outputs": [],
   "source": [
    "atbats_pitches[\"Location\"] = np.where((atbats_pitches[\"X Call\"] == \"nan\") & (atbats_pitches[\"Z Call\"] != \"nan\"), atbats_pitches[\"Z Call\"], np.where((atbats_pitches[\"Z Call\"] == \"nan\") & (atbats_pitches[\"X Call\"] != \"nan\"), atbats_pitches[\"X Call\"], np.where((atbats_pitches[\"X Call\"] != \"nan\") & (atbats_pitches[\"Z Call\"] != \"nan\"), atbats_pitches[\"Z Call\"] + \" and \" + atbats_pitches[\"X Call\"], \"Strikezone\")))\n",
    "\n"
   ]
  },
  {
   "cell_type": "code",
   "execution_count": null,
   "metadata": {},
   "outputs": [],
   "source": [
    "atbats_pitches = atbats_pitches.drop(columns = [\"X Call\", \"Z Call\"])"
   ]
  },
  {
   "cell_type": "markdown",
   "metadata": {},
   "source": [
    "## Cumulative Averages"
   ]
  },
  {
   "cell_type": "code",
   "execution_count": null,
   "metadata": {},
   "outputs": [],
   "source": [
    "atbats_pitches[\"ab_id\"] = atbats_pitches[\"ab_id\"].astype(str)"
   ]
  },
  {
   "cell_type": "code",
   "execution_count": null,
   "metadata": {},
   "outputs": [],
   "source": [
    "events = atbats_pitches[[\"ab_id\", \"date\", \"pitcher_name\", \"batter_name\", \"event\"]].drop_duplicates()"
   ]
  },
  {
   "cell_type": "markdown",
   "metadata": {},
   "source": [
    "### Creating Event Flags"
   ]
  },
  {
   "cell_type": "code",
   "execution_count": null,
   "metadata": {},
   "outputs": [],
   "source": [
    "events[\"year\"] = events[\"date\"].dt.year\n",
    "\n",
    "events[\"PA?\"] = np.where(events[\"event\"].isin([\"Runner Out\"]), 0, 1)\n",
    "events[\"AB?\"] = np.where(events[\"event\"].isin([\"Walk\", \"Intent Walk\", \"Sac Fly\", \"Sac Fly DP\", \"Sac Bunt\", \"Sacrifice Bunt DP\", \"Batter Interference\", \"Catcher Interference\", \"Runner Out\", \"Hit By Pitch\"]), 0, 1)\n",
    "\n",
    "events[\"Hit?\"] = np.where(events[\"event\"].isin([\"Single\", \"Double\", \"Triple\", \"Home Run\"]), 1, 0)\n",
    "events[\"Single?\"] = np.where(events[\"event\"].isin([\"Single\"]), 1, 0)\n",
    "events[\"Double?\"] = np.where(events[\"event\"].isin([\"Double\"]), 1, 0)\n",
    "events[\"Triple?\"] = np.where(events[\"event\"].isin([\"Triple\"]), 1, 0)\n",
    "events[\"Home Run?\"] = np.where(events[\"event\"].isin([\"Home Run\"]), 1, 0)\n",
    "events[\"Walk?\"] = np.where(events[\"event\"].isin([\"Walk\"]), 1, 0)\n",
    "events[\"Intent Walk?\"] = np.where(events[\"event\"].isin([\"Intent Walk\"]), 1, 0)\n",
    "events[\"HBP?\"] = np.where(events[\"event\"].isin([\"Hit By Pitch\"]), 1, 0)\n",
    "events[\"Sac Fly?\"] = np.where(events[\"event\"].isin([\"Sac Fly\", \"Sac Fly DP\"]), 1, 0)\n",
    "\n",
    "events = events.reset_index().drop(columns = \"index\")"
   ]
  },
  {
   "cell_type": "code",
   "execution_count": null,
   "metadata": {},
   "outputs": [],
   "source": [
    "events.head()"
   ]
  },
  {
   "cell_type": "markdown",
   "metadata": {},
   "source": [
    "### Batter Averages"
   ]
  },
  {
   "cell_type": "code",
   "execution_count": null,
   "metadata": {},
   "outputs": [],
   "source": [
    "cum_sum_batters = events.groupby([\"year\", \"batter_name\"]).cumsum().reset_index().drop(columns = \"index\")"
   ]
  },
  {
   "cell_type": "code",
   "execution_count": null,
   "metadata": {},
   "outputs": [],
   "source": [
    "indices = events[[\"ab_id\", \"date\", \"pitcher_name\", \"batter_name\"]]"
   ]
  },
  {
   "cell_type": "code",
   "execution_count": null,
   "metadata": {},
   "outputs": [],
   "source": [
    "events2 = pd.concat([indices, cum_sum_batters], axis = 1)"
   ]
  },
  {
   "cell_type": "code",
   "execution_count": null,
   "metadata": {},
   "outputs": [],
   "source": [
    "events2[\"Batter AB\"] = events2[\"AB?\"]\n",
    "\n",
    "events2[\"Batter AVG\"] = round(events2[\"Hit?\"] / events2[\"AB?\"], 3)\n",
    "\n",
    "events2[\"Batter OBP\"] = round((events2[\"Hit?\"] + events2[\"Walk?\"] + events2[\"Intent Walk?\"] + events2[\"HBP?\"]) / (events2[\"AB?\"] + events2[\"Walk?\"] + events2[\"HBP?\"] + events2[\"Intent Walk?\"] + events2[\"Sac Fly?\"]), 3)\n",
    "\n",
    "events2[\"Batter TB\"] = events2[\"Single?\"] + (2*events2[\"Double?\"]) + (3*events2[\"Triple?\"]) + (4*events2[\"Home Run?\"]) \n",
    "events2[\"Batter SLG\"] = round(events2[\"Batter TB\"] / events2[\"AB?\"], 3)\n",
    "\n",
    "events2[\"Batter OPS\"] = events2[\"Batter OBP\"] + events2[\"Batter SLG\"]\n"
   ]
  },
  {
   "cell_type": "code",
   "execution_count": null,
   "metadata": {},
   "outputs": [],
   "source": [
    "batter_stats = events2[[\"ab_id\", \"date\", \"pitcher_name\", \"batter_name\", \"Batter AB\", \"Batter AVG\", \"Batter OBP\", \"Batter SLG\", \"Batter OPS\"]]"
   ]
  },
  {
   "cell_type": "markdown",
   "metadata": {},
   "source": [
    "### Pitcher Averages"
   ]
  },
  {
   "cell_type": "code",
   "execution_count": null,
   "metadata": {},
   "outputs": [],
   "source": [
    "cum_sum_pitchers = events.groupby([\"year\", \"pitcher_name\"]).cumsum().reset_index().drop(columns = \"index\")"
   ]
  },
  {
   "cell_type": "code",
   "execution_count": null,
   "metadata": {},
   "outputs": [],
   "source": [
    "events3 = pd.concat([indices, cum_sum_pitchers], axis = 1)"
   ]
  },
  {
   "cell_type": "code",
   "execution_count": null,
   "metadata": {},
   "outputs": [],
   "source": [
    "events3[\"Pitcher AB\"] = events3[\"AB?\"]\n",
    "\n",
    "events3[\"Pitcher AVG\"] = round(events3[\"Hit?\"] / events3[\"AB?\"], 3)\n",
    "\n",
    "events3[\"Pitcher OBP\"] = round((events3[\"Hit?\"] + events3[\"Walk?\"] + events3[\"Intent Walk?\"] + events3[\"HBP?\"]) / (events3[\"AB?\"] + events3[\"Walk?\"] + events3[\"HBP?\"] + events3[\"Intent Walk?\"] + events3[\"Sac Fly?\"]), 3)\n",
    "\n",
    "events3[\"Pitcher TB\"] = events3[\"Single?\"] + (2*events3[\"Double?\"]) + (3*events3[\"Triple?\"]) + (4*events3[\"Home Run?\"]) \n",
    "events3[\"Pitcher SLG\"] = round(events3[\"Pitcher TB\"] / events3[\"AB?\"], 3)\n",
    "\n",
    "events3[\"Pitcher OPS\"] = events3[\"Pitcher OBP\"] + events3[\"Pitcher SLG\"]\n"
   ]
  },
  {
   "cell_type": "code",
   "execution_count": null,
   "metadata": {},
   "outputs": [],
   "source": [
    "pitcher_stats = events3[[\"ab_id\", \"date\", \"pitcher_name\", \"batter_name\", \"Pitcher AB\", \"Pitcher AVG\", \"Pitcher OBP\", \"Pitcher SLG\", \"Pitcher OPS\"]]\n"
   ]
  },
  {
   "cell_type": "code",
   "execution_count": null,
   "metadata": {},
   "outputs": [],
   "source": [
    "all_avgs = pd.merge(batter_stats, pitcher_stats, on = [\"ab_id\", \"date\", \"pitcher_name\", \"batter_name\"])"
   ]
  },
  {
   "cell_type": "code",
   "execution_count": null,
   "metadata": {},
   "outputs": [],
   "source": [
    "all_avgs.tail()"
   ]
  },
  {
   "cell_type": "code",
   "execution_count": null,
   "metadata": {},
   "outputs": [],
   "source": [
    "all_avgs.info()"
   ]
  },
  {
   "cell_type": "markdown",
   "metadata": {},
   "source": [
    "## Game Situation Statistics"
   ]
  },
  {
   "cell_type": "markdown",
   "metadata": {},
   "source": [
    "### Inning, Top or Bottom of Inning, Outs, Teams"
   ]
  },
  {
   "cell_type": "code",
   "execution_count": null,
   "metadata": {},
   "outputs": [],
   "source": [
    "game_stats = atbats_pitches[[\"ab_id\", \"b_count\", \"s_count\", \"outs\", \"inning\", \"top\", \"pitching_team\", \"batting_team\", \"on_1b\", \"on_2b\", \"on_3b\", \"p_throws\", \"stand\"]]"
   ]
  },
  {
   "cell_type": "code",
   "execution_count": null,
   "metadata": {},
   "outputs": [],
   "source": [
    "game_stats2 = pd.merge(all_avgs, game_stats, on = \"ab_id\", how = \"left\")"
   ]
  },
  {
   "cell_type": "markdown",
   "metadata": {},
   "source": [
    "### Count"
   ]
  },
  {
   "cell_type": "code",
   "execution_count": null,
   "metadata": {},
   "outputs": [],
   "source": [
    "game_stats2[\"b_count\"] = game_stats2[\"b_count\"].astype(str)\n",
    "game_stats2[\"s_count\"] = game_stats2[\"s_count\"].astype(str)\n",
    "\n",
    "\n",
    "game_stats2[\"Count\"] = game_stats2[\"b_count\"] + \"-\" + game_stats2[\"s_count\"]"
   ]
  },
  {
   "cell_type": "markdown",
   "metadata": {},
   "source": [
    "### Same Side?"
   ]
  },
  {
   "cell_type": "code",
   "execution_count": null,
   "metadata": {},
   "outputs": [],
   "source": [
    "game_stats2[\"Same Side?\"] = game_stats2[\"p_throws\"] == game_stats2[\"stand\"]"
   ]
  },
  {
   "cell_type": "markdown",
   "metadata": {},
   "source": [
    "### Bases Occupied"
   ]
  },
  {
   "cell_type": "code",
   "execution_count": null,
   "metadata": {},
   "outputs": [],
   "source": [
    "game_stats2[\"Bases Occupied\"] = np.where((game_stats2[\"on_1b\"] == 1) & (game_stats2[\"on_2b\"] == 1) & (game_stats2[\"on_3b\"] == 1), \"Bases Loaded\", np.where((game_stats2[\"on_1b\"] == 1) & (game_stats2[\"on_2b\"] == 1) & (game_stats2[\"on_3b\"] == 0), \"1st and 2nd\", np.where((game_stats2[\"on_1b\"] == 1) & (game_stats2[\"on_2b\"] == 0) & (game_stats2[\"on_3b\"] == 1), \"1st and 3rd\", np.where((game_stats2[\"on_1b\"] == 0) & (game_stats2[\"on_2b\"] == 1) & (game_stats2[\"on_3b\"] == 1), \"2nd and 3rd\", np.where((game_stats2[\"on_1b\"] == 1) & (game_stats2[\"on_2b\"] == 0) & (game_stats2[\"on_3b\"] == 0), \"1st\", np.where((game_stats2[\"on_1b\"] == 0) & (game_stats2[\"on_2b\"] == 1) & (game_stats2[\"on_3b\"] == 0), \"2nd\", np.where((game_stats2[\"on_1b\"] == 0) & (game_stats2[\"on_2b\"] == 0) & (game_stats2[\"on_3b\"] == 1), \"3rd\", \"Bases Empty\")))))))\n",
    "\n"
   ]
  },
  {
   "cell_type": "markdown",
   "metadata": {},
   "source": [
    "### Score Difference"
   ]
  },
  {
   "cell_type": "code",
   "execution_count": null,
   "metadata": {},
   "outputs": [],
   "source": [
    "atbats_pitches[\"Score Diff\"] = atbats_pitches[\"p_score\"] - atbats_pitches[\"b_score\"]"
   ]
  },
  {
   "cell_type": "code",
   "execution_count": null,
   "metadata": {},
   "outputs": [],
   "source": [
    "game_stats2[\"Score Diff\"] = atbats_pitches[\"Score Diff\"]"
   ]
  },
  {
   "cell_type": "code",
   "execution_count": null,
   "metadata": {},
   "outputs": [],
   "source": [
    "game_stats3 = game_stats2.drop(columns = [\"on_1b\", \"on_2b\", \"on_3b\", \"b_count\", \"s_count\"])"
   ]
  },
  {
   "cell_type": "markdown",
   "metadata": {},
   "source": [
    "## Previous Pitch Statistics"
   ]
  },
  {
   "cell_type": "markdown",
   "metadata": {},
   "source": [
    "### Pitch Number of At-Bat"
   ]
  },
  {
   "cell_type": "code",
   "execution_count": null,
   "metadata": {},
   "outputs": [],
   "source": [
    "game_stats3[\"Pitch Num\"] = atbats_pitches[\"pitch_num\"]"
   ]
  },
  {
   "cell_type": "code",
   "execution_count": null,
   "metadata": {},
   "outputs": [],
   "source": [
    "game_stats3[\"Pitch Num\"] = game_stats3[\"Pitch Num\"].astype(str)"
   ]
  },
  {
   "cell_type": "markdown",
   "metadata": {},
   "source": [
    "### Previous Pitch Code, Type, Location, Event, and Zone"
   ]
  },
  {
   "cell_type": "code",
   "execution_count": null,
   "metadata": {},
   "outputs": [],
   "source": [
    "atbats_pitches[\"Previous Code\"] = atbats_pitches[\"code\"].shift(periods = 1)\n",
    "atbats_pitches[\"Previous Location\"] = atbats_pitches[\"Location\"].shift(periods = 1)\n",
    "atbats_pitches[\"Previous Type\"] = atbats_pitches[\"pitch_type\"].shift(periods = 1)\n",
    "\n",
    "atbats[\"ab_id\"] = atbats[\"ab_id\"].astype(str)\n",
    "atbats[\"Previous Event\"] = atbats[\"event\"].shift(periods = 1)"
   ]
  },
  {
   "cell_type": "code",
   "execution_count": null,
   "metadata": {},
   "outputs": [],
   "source": [
    "atbats_pitches[\"pitch_id\"] = atbats_pitches.index"
   ]
  },
  {
   "cell_type": "code",
   "execution_count": null,
   "metadata": {},
   "outputs": [],
   "source": [
    "first_pitch_inning = list(atbats_pitches[[\"g_id\", \"pitch_id\", \"inning\", \"top\"]].groupby([\"g_id\", \"inning\", \"top\"]).first().reset_index()[\"pitch_id\"])\n",
    "\n",
    "first_event_inning = list(atbats[[\"g_id\", \"ab_id\", \"inning\", \"top\"]].groupby([\"g_id\", \"inning\", \"top\"]).first().reset_index()[\"ab_id\"])\n"
   ]
  },
  {
   "cell_type": "code",
   "execution_count": null,
   "metadata": {},
   "outputs": [],
   "source": [
    "atbats_pitches[\"Previous Code\"] = np.where(atbats_pitches[\"pitch_id\"].isin(first_pitch_inning), \"First Pitch\", atbats_pitches[\"Previous Code\"])\n",
    "\n",
    "atbats_pitches[\"Previous Location\"] = np.where(atbats_pitches[\"pitch_id\"].isin(first_pitch_inning), \"First Pitch\", atbats_pitches[\"Previous Location\"])\n",
    "\n",
    "atbats_pitches[\"Previous Type\"] = np.where(atbats_pitches[\"pitch_id\"].isin(first_pitch_inning), \"First Pitch\", atbats_pitches[\"Previous Type\"])\n",
    "\n",
    "atbats[\"Previous Event\"] = np.where(atbats[\"ab_id\"].isin(first_event_inning), \"First Event\", atbats[\"Previous Event\"])\n"
   ]
  },
  {
   "cell_type": "code",
   "execution_count": null,
   "metadata": {},
   "outputs": [],
   "source": [
    "game_stats3[\"Previous Code\"] = atbats_pitches[\"Previous Code\"]\n",
    "\n",
    "game_stats3[\"Previous Location\"] = atbats_pitches[\"Previous Location\"]\n",
    "\n",
    "game_stats3[\"Previous Type\"] = atbats_pitches[\"Previous Type\"]\n",
    "\n",
    "previous_events = atbats[[\"ab_id\", \"Previous Event\"]]\n",
    "game_stats3 = pd.merge(game_stats3, previous_events, on = \"ab_id\")"
   ]
  },
  {
   "cell_type": "markdown",
   "metadata": {},
   "source": [
    "## Other Statistics"
   ]
  },
  {
   "cell_type": "markdown",
   "metadata": {},
   "source": [
    "### Year and Month"
   ]
  },
  {
   "cell_type": "code",
   "execution_count": null,
   "metadata": {},
   "outputs": [],
   "source": [
    "game_stats3[\"year\"] = atbats_pitches[\"date\"].dt.year.astype(str)\n",
    "game_stats3[\"month\"] = atbats_pitches[\"date\"].dt.month.astype(str)"
   ]
  },
  {
   "cell_type": "markdown",
   "metadata": {},
   "source": [
    "### Pitch Number of Game"
   ]
  },
  {
   "cell_type": "code",
   "execution_count": null,
   "metadata": {},
   "outputs": [],
   "source": [
    "cum_count = list(atbats_pitches[[\"g_id\", \"pitcher_name\"]].groupby([\"g_id\", \"pitcher_name\"]).cumcount())"
   ]
  },
  {
   "cell_type": "code",
   "execution_count": null,
   "metadata": {},
   "outputs": [],
   "source": [
    "game_stats3[\"Pitch Count\"] = np.array(cum_count) + 1"
   ]
  },
  {
   "cell_type": "markdown",
   "metadata": {},
   "source": [
    "### Strikezone Percentage of Game"
   ]
  },
  {
   "cell_type": "code",
   "execution_count": null,
   "metadata": {},
   "outputs": [],
   "source": [
    "atbats_pitches[\"Pitch Count\"] = np.array(cum_count) + 1\n",
    "\n",
    "atbats_pitches[\"Strikezone?\"] = np.where(atbats_pitches[\"Strikezone?\"] == True, 1, 0)"
   ]
  },
  {
   "cell_type": "code",
   "execution_count": null,
   "metadata": {},
   "outputs": [],
   "source": [
    "cum_count2 = atbats_pitches[[\"g_id\", \"pitcher_name\", \"Strikezone?\"]].groupby([\"g_id\", \"pitcher_name\"]).cumsum()"
   ]
  },
  {
   "cell_type": "code",
   "execution_count": null,
   "metadata": {},
   "outputs": [],
   "source": [
    "atbats_pitches[\"Strike Count\"] = cum_count2\n",
    "\n",
    "atbats_pitches[\"Strike Prop\"] = atbats_pitches[\"Strike Count\"] / atbats_pitches[\"Pitch Count\"]"
   ]
  },
  {
   "cell_type": "code",
   "execution_count": null,
   "metadata": {},
   "outputs": [],
   "source": [
    "atbats_pitches_sort = atbats_pitches.sort_values(by = [\"g_id\", \"pitcher_name\", \"Pitch Count\"])\n",
    "\n",
    "atbats_pitches_sort[\"Strike Prop\"] = atbats_pitches_sort[\"Strike Prop\"].shift(periods = 1)"
   ]
  },
  {
   "cell_type": "code",
   "execution_count": null,
   "metadata": {},
   "outputs": [],
   "source": [
    "first_pitch_game = list(atbats_pitches[[\"g_id\", \"pitcher_name\", \"pitch_id\"]].groupby([\"g_id\", \"pitcher_name\"]).first()[\"pitch_id\"])"
   ]
  },
  {
   "cell_type": "code",
   "execution_count": null,
   "metadata": {},
   "outputs": [],
   "source": [
    "atbats_pitches_sort[\"Strike Prop\"] = np.where(atbats_pitches_sort[\"pitch_id\"].isin(first_pitch_game), 0, atbats_pitches_sort[\"Strike Prop\"])\n",
    "\n",
    "game_stats3[\"Strike Prop\"] = atbats_pitches_sort[\"Strike Prop\"]"
   ]
  },
  {
   "cell_type": "markdown",
   "metadata": {},
   "source": [
    "## Adding Strikezone Flag (Target Variable)"
   ]
  },
  {
   "cell_type": "code",
   "execution_count": null,
   "metadata": {},
   "outputs": [],
   "source": [
    "game_stats3[\"Strikezone\"] = atbats_pitches[\"Strikezone?\"]\n",
    "\n",
    "game_stats3[\"Strikezone\"] = np.where(game_stats3[\"Strikezone\"] == True, 1, 0)"
   ]
  },
  {
   "cell_type": "code",
   "execution_count": null,
   "metadata": {},
   "outputs": [],
   "source": [
    "len(game_stats3)"
   ]
  },
  {
   "cell_type": "code",
   "execution_count": null,
   "metadata": {},
   "outputs": [],
   "source": [
    "len(atbats_pitches)"
   ]
  },
  {
   "cell_type": "markdown",
   "metadata": {},
   "source": [
    "## Filtering"
   ]
  },
  {
   "cell_type": "markdown",
   "metadata": {},
   "source": [
    "### Intentional Walks"
   ]
  },
  {
   "cell_type": "code",
   "execution_count": null,
   "metadata": {},
   "outputs": [],
   "source": [
    "events = atbats_pitches[[\"ab_id\", \"event\"]].drop_duplicates()"
   ]
  },
  {
   "cell_type": "code",
   "execution_count": null,
   "metadata": {},
   "outputs": [],
   "source": [
    "game_stats4 = pd.merge(game_stats3, events, on = \"ab_id\")\n",
    "\n",
    "game_stats5 = game_stats4[game_stats4[\"event\"] != \"Intent Walk\"].drop(columns = [\"ab_id\", \"event\", \"date\"])"
   ]
  },
  {
   "cell_type": "code",
   "execution_count": null,
   "metadata": {},
   "outputs": [],
   "source": [
    "len(game_stats5)"
   ]
  },
  {
   "cell_type": "markdown",
   "metadata": {},
   "source": [
    "### Uncommon Categorical Values"
   ]
  },
  {
   "cell_type": "code",
   "execution_count": null,
   "metadata": {},
   "outputs": [],
   "source": [
    "cat_columns = game_stats5.select_dtypes(\"object\").columns"
   ]
  },
  {
   "cell_type": "code",
   "execution_count": null,
   "metadata": {},
   "outputs": [],
   "source": [
    "for i in cat_columns:\n",
    "    flags = pd.DataFrame(game_stats5[i].value_counts() < 1000)\n",
    "    drop = flags[flags[i] == True].index\n",
    "    game_stats5 = game_stats5[~game_stats5[i].isin(drop)]"
   ]
  },
  {
   "cell_type": "code",
   "execution_count": null,
   "metadata": {},
   "outputs": [],
   "source": [
    "len(game_stats5)"
   ]
  },
  {
   "cell_type": "markdown",
   "metadata": {},
   "source": [
    "# Modeling "
   ]
  },
  {
   "cell_type": "code",
   "execution_count": null,
   "metadata": {},
   "outputs": [],
   "source": [
    "from sklearn.model_selection import train_test_split\n",
    "\n",
    "from sklearn.linear_model import LogisticRegression\n",
    "from sklearn.ensemble import RandomForestClassifier\n",
    "from sklearn.ensemble import AdaBoostClassifier\n",
    "\n",
    "from sklearn.preprocessing import StandardScaler \n",
    "from sklearn.preprocessing import RobustScaler \n",
    "\n",
    "from sklearn.ensemble import VotingClassifier\n",
    "\n",
    "from sklearn.model_selection import GridSearchCV\n",
    "\n",
    "#import xgboost as xgb\n",
    "\n",
    "\n",
    "import warnings\n",
    "warnings.filterwarnings(\"ignore\")"
   ]
  },
  {
   "cell_type": "markdown",
   "metadata": {},
   "source": [
    "## A General Model"
   ]
  },
  {
   "cell_type": "code",
   "execution_count": null,
   "metadata": {},
   "outputs": [],
   "source": [
    "stats_sample = game_stats5.sample(n = 500000).drop(columns = [\"pitcher_name\", \"batter_name\"])"
   ]
  },
  {
   "cell_type": "code",
   "execution_count": null,
   "metadata": {
    "scrolled": true
   },
   "outputs": [],
   "source": [
    "sns.countplot(stats_sample[\"Strikezone\"])"
   ]
  },
  {
   "cell_type": "code",
   "execution_count": null,
   "metadata": {},
   "outputs": [],
   "source": [
    "no_players_dummies = pd.get_dummies(stats_sample)"
   ]
  },
  {
   "cell_type": "code",
   "execution_count": null,
   "metadata": {},
   "outputs": [],
   "source": [
    "no_players_dummies.shape"
   ]
  },
  {
   "cell_type": "code",
   "execution_count": null,
   "metadata": {},
   "outputs": [],
   "source": [
    "def general_model(no_players_dummies, mod):\n",
    "    \n",
    "    x_vals = no_players_dummies.drop(columns = \"Strikezone\").fillna(0)\n",
    "    y_val = no_players_dummies[\"Strikezone\"].values\n",
    "    \n",
    "    scaler = StandardScaler() \n",
    "    x_vals = scaler.fit_transform(x_vals)\n",
    "    \n",
    "    train_array = []\n",
    "    test_array = []\n",
    "    \n",
    "    if mod == LogisticRegression():\n",
    "        n = 30\n",
    "    else: \n",
    "        n = 1\n",
    "\n",
    "    for i in range(n):\n",
    "        \n",
    "        x_train, x_test, y_train, y_test = train_test_split(x_vals, y_val, test_size = 0.3)\n",
    "    \n",
    "        mod.fit(x_train, y_train)\n",
    "        \n",
    "        train_score = mod.score(x_train, y_train)\n",
    "        test_score = mod.score(x_test, y_test)\n",
    "        \n",
    "        train_array.append(train_score)\n",
    "        test_array.append(test_score)\n",
    "    \n",
    "    return round(len(no_players_dummies[no_players_dummies[\"Strikezone\"] == 0]) / len(no_players_dummies), 4), round(np.mean(train_array), 4), round(np.mean(test_array), 4)\n",
    "\n"
   ]
  },
  {
   "cell_type": "markdown",
   "metadata": {},
   "source": [
    "### Logistic Regression"
   ]
  },
  {
   "cell_type": "code",
   "execution_count": null,
   "metadata": {},
   "outputs": [],
   "source": [
    "general_model(no_players_dummies, LogisticRegression())"
   ]
  },
  {
   "cell_type": "code",
   "execution_count": null,
   "metadata": {},
   "outputs": [],
   "source": [
    "x_vals = no_players_dummies.drop(columns = \"Strikezone\").fillna(0)\n",
    "y_val = no_players_dummies[\"Strikezone\"].values"
   ]
  },
  {
   "cell_type": "code",
   "execution_count": null,
   "metadata": {},
   "outputs": [],
   "source": [
    "c = x_vals.columns"
   ]
  },
  {
   "cell_type": "code",
   "execution_count": null,
   "metadata": {},
   "outputs": [],
   "source": [
    "scaler = StandardScaler()\n",
    "x_vals = scaler.fit_transform(x_vals)"
   ]
  },
  {
   "cell_type": "code",
   "execution_count": null,
   "metadata": {},
   "outputs": [],
   "source": [
    "x_train, x_test, y_train, y_test = train_test_split(x_vals, y_val, test_size = 0.3)"
   ]
  },
  {
   "cell_type": "code",
   "execution_count": null,
   "metadata": {},
   "outputs": [],
   "source": [
    "mod = LogisticRegression()"
   ]
  },
  {
   "cell_type": "code",
   "execution_count": null,
   "metadata": {},
   "outputs": [],
   "source": [
    "mod.fit(x_train, y_train)"
   ]
  },
  {
   "cell_type": "code",
   "execution_count": null,
   "metadata": {},
   "outputs": [],
   "source": [
    "imp1 = pd.DataFrame(c, mod.coef_[0]).reset_index().sort_values(by = \"index\", ascending = False)\n",
    "\n",
    "imp1 = imp1.rename(columns = {0: \"Feature\", \"index\": \"Importance\"})\n",
    "imp1[\"Importance\"] = imp1[\"Importance\"] ** 2\n",
    "\n",
    "imp1[[\"Feature\", \"Importance\"]].head(10)"
   ]
  },
  {
   "cell_type": "markdown",
   "metadata": {},
   "source": [
    "### Random Forest"
   ]
  },
  {
   "cell_type": "code",
   "execution_count": null,
   "metadata": {},
   "outputs": [],
   "source": [
    "general_model(no_players_dummies, RandomForestClassifier())"
   ]
  },
  {
   "cell_type": "code",
   "execution_count": null,
   "metadata": {},
   "outputs": [],
   "source": [
    "mod2 = RandomForestClassifier()"
   ]
  },
  {
   "cell_type": "code",
   "execution_count": null,
   "metadata": {},
   "outputs": [],
   "source": [
    "mod2.fit(x_train, y_train)"
   ]
  },
  {
   "cell_type": "code",
   "execution_count": null,
   "metadata": {},
   "outputs": [],
   "source": [
    "imp2 = pd.DataFrame(c, mod2.feature_importances_).reset_index().sort_values(by = \"index\", ascending = False).head(20)\n",
    "\n",
    "imp2 = imp2.rename(columns = {0: \"Feature\", \"index\": \"Importance\"})\n",
    "\n",
    "imp2[[\"Feature\", \"Importance\"]].head(10)"
   ]
  },
  {
   "cell_type": "markdown",
   "metadata": {},
   "source": [
    "### AdaBoost"
   ]
  },
  {
   "cell_type": "code",
   "execution_count": null,
   "metadata": {},
   "outputs": [],
   "source": [
    "general_model(no_players_dummies, AdaBoostClassifier())"
   ]
  },
  {
   "cell_type": "code",
   "execution_count": null,
   "metadata": {},
   "outputs": [],
   "source": [
    "mod3 = AdaBoostClassifier()"
   ]
  },
  {
   "cell_type": "code",
   "execution_count": null,
   "metadata": {},
   "outputs": [],
   "source": [
    "mod3.fit(x_train, y_train)"
   ]
  },
  {
   "cell_type": "code",
   "execution_count": null,
   "metadata": {},
   "outputs": [],
   "source": [
    "imp3 = pd.DataFrame(c, mod3.feature_importances_).reset_index().sort_values(by = \"index\", ascending = False).head(10)\n",
    "\n",
    "imp3 = imp3.rename(columns = {0: \"Feature\", \"index\": \"Importance\"})\n",
    "\n",
    "imp3[[\"Feature\", \"Importance\"]].head(10)"
   ]
  },
  {
   "cell_type": "markdown",
   "metadata": {},
   "source": [
    "### Hyperparameter Tuning"
   ]
  },
  {
   "cell_type": "code",
   "execution_count": null,
   "metadata": {},
   "outputs": [],
   "source": [
    "#lr = LogisticRegression()\n",
    "\n",
    "#grid = {'max_iter' : [2000], 'penalty' : ['l1', 'l2'], 'C' : np.logspace(-4, 4, 20), 'solver' : ['liblinear']}\n",
    "\n",
    "#grid_lr = GridSearchCV(lr, param_grid = grid, verbose = True, n_jobs = -1)\n",
    "\n",
    "#grid_lr.fit(x_train, y_train)"
   ]
  },
  {
   "cell_type": "markdown",
   "metadata": {},
   "source": [
    "## Modeling Individual Pitchers"
   ]
  },
  {
   "cell_type": "code",
   "execution_count": null,
   "metadata": {},
   "outputs": [],
   "source": [
    "def model_pitcher(game_stats5, pitcher, mod):\n",
    "    \n",
    "    ind_pitcher = game_stats5[game_stats5[\"pitcher_name\"] == pitcher].drop(columns = [\"pitcher_name\", \"batter_name\"])\n",
    "    \n",
    "    ind_pitcher_dummies = pd.get_dummies(ind_pitcher)\n",
    "    \n",
    "    x_vals = ind_pitcher_dummies.drop(columns = \"Strikezone\").fillna(0)\n",
    "    y_val = ind_pitcher_dummies[\"Strikezone\"].values\n",
    "    \n",
    "    train_array = []\n",
    "    test_array = []\n",
    "    \n",
    "    for i in range(1):\n",
    "    \n",
    "        x_train, x_test, y_train, y_test = train_test_split(x_vals, y_val, test_size = 0.4)\n",
    "    \n",
    "        mod.fit(x_train, y_train)\n",
    "    \n",
    "        train_score = mod.score(x_train, y_train)\n",
    "        test_score = mod.score(x_test, y_test)\n",
    "        \n",
    "        train_array.append(train_score)\n",
    "        test_array.append(test_score)\n",
    "        \n",
    "    baseline = len(ind_pitcher_dummies[ind_pitcher_dummies[\"Strikezone\"] == 1]) / len(ind_pitcher_dummies)\n",
    "    \n",
    "    return pitcher, round(baseline, 4), round(np.mean(train_array), 4), round(np.mean(test_array), 4)\n",
    "\n",
    "    "
   ]
  },
  {
   "cell_type": "code",
   "execution_count": null,
   "metadata": {},
   "outputs": [],
   "source": [
    "top100_pitchers = list(game_stats5[[\"pitcher_name\"]].groupby(\"pitcher_name\").size().sort_values(ascending = False).index[0:100])"
   ]
  },
  {
   "cell_type": "code",
   "execution_count": null,
   "metadata": {},
   "outputs": [],
   "source": [
    "pitcher_models = [model_pitcher(game_stats5, i, LogisticRegression()) for i in top100_pitchers]"
   ]
  },
  {
   "cell_type": "code",
   "execution_count": null,
   "metadata": {},
   "outputs": [],
   "source": [
    "model_df = pd.DataFrame(pitcher_models)\n",
    "\n",
    "model_df[1] = np.where(model_df[1] < 0.5, 1 - model_df[1], model_df[1])"
   ]
  },
  {
   "cell_type": "code",
   "execution_count": null,
   "metadata": {},
   "outputs": [],
   "source": [
    "model_df[\"Spread\"] = model_df[3] - model_df[1]"
   ]
  },
  {
   "cell_type": "code",
   "execution_count": null,
   "metadata": {},
   "outputs": [],
   "source": [
    "model_df = model_df.rename(columns = {0: \"Pitcher\", 1: \"Baseline\", 2: \"Train Accuracy\", 3: \"Test Accuracy\"})"
   ]
  },
  {
   "cell_type": "code",
   "execution_count": null,
   "metadata": {},
   "outputs": [],
   "source": [
    "model_df_top_acc = model_df.sort_values(by = \"Test Accuracy\", ascending = False).head(10)\n",
    "model_df_bot_acc = model_df.sort_values(by = \"Test Accuracy\").head(10)\n",
    "\n",
    "model_df_top_spread = model_df.sort_values(by = \"Spread\", ascending = False).head(10)\n",
    "model_df_bot_spread = model_df.sort_values(by = \"Spread\").head(10)"
   ]
  },
  {
   "cell_type": "markdown",
   "metadata": {},
   "source": [
    "### Plotting Model Effectiveness"
   ]
  },
  {
   "cell_type": "code",
   "execution_count": null,
   "metadata": {},
   "outputs": [],
   "source": [
    "sns.barplot(model_df_top_acc[\"Pitcher\"], model_df_top_acc[\"Test Accuracy\"])\n",
    "plt.xticks(rotation = 90)\n",
    "plt.title(\"The 10 Most Predictable MLB Pitchers (2015-2019)\")\n",
    "plt.ylim(0.58, 0.65)\n",
    "plt.show()"
   ]
  },
  {
   "cell_type": "code",
   "execution_count": null,
   "metadata": {},
   "outputs": [],
   "source": [
    "sns.barplot(model_df_bot_acc[\"Pitcher\"], model_df_bot_acc[\"Test Accuracy\"])\n",
    "plt.xticks(rotation = 90)\n",
    "plt.title(\"The 10 Least Predictable MLB Pitchers (2015-2019)\")\n",
    "plt.ylim(0.5, 0.58)\n",
    "plt.show()"
   ]
  },
  {
   "cell_type": "code",
   "execution_count": null,
   "metadata": {},
   "outputs": [],
   "source": [
    "sns.barplot(model_df_top_spread[\"Pitcher\"], model_df_top_spread[\"Spread\"])\n",
    "plt.xticks(rotation = 90)\n",
    "plt.title(\"The 10 Most Effecitvely Modeled MLB Pitchers (2015-2019)\")\n",
    "plt.show()"
   ]
  },
  {
   "cell_type": "code",
   "execution_count": null,
   "metadata": {},
   "outputs": [],
   "source": [
    "sns.barplot(model_df_bot_spread[\"Pitcher\"], model_df_bot_spread[\"Spread\"])\n",
    "plt.xticks(rotation = 90)\n",
    "plt.title(\"The 10 Least Effecitvely Modeled MLB Pitchers (2015-2019)\")\n",
    "plt.show()"
   ]
  },
  {
   "cell_type": "code",
   "execution_count": null,
   "metadata": {},
   "outputs": [],
   "source": []
  }
 ],
 "metadata": {
  "kernelspec": {
   "display_name": "Python 3",
   "language": "python",
   "name": "python3"
  },
  "language_info": {
   "codemirror_mode": {
    "name": "ipython",
    "version": 3
   },
   "file_extension": ".py",
   "mimetype": "text/x-python",
   "name": "python",
   "nbconvert_exporter": "python",
   "pygments_lexer": "ipython3",
   "version": "3.6.8"
  }
 },
 "nbformat": 4,
 "nbformat_minor": 2
}
