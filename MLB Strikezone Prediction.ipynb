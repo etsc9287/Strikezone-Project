{
 "cells": [
  {
   "cell_type": "markdown",
   "metadata": {},
   "source": [
    "# MLB For Data Science - Predicting the Strikezone"
   ]
  },
  {
   "cell_type": "markdown",
   "metadata": {},
   "source": [
    "# Merging, Cleaning, Missing Values"
   ]
  },
  {
   "cell_type": "code",
   "execution_count": 1,
   "metadata": {},
   "outputs": [],
   "source": [
    "import numpy as np\n",
    "import pandas as pd\n",
    "import matplotlib.pyplot as plt\n",
    "import seaborn as sns\n",
    "\n",
    "sns.set(style = \"dark\")"
   ]
  },
  {
   "cell_type": "code",
   "execution_count": 2,
   "metadata": {},
   "outputs": [
    {
     "ename": "FileNotFoundError",
     "evalue": "[Errno 2] File b'atbats.csv' does not exist: b'atbats.csv'",
     "output_type": "error",
     "traceback": [
      "\u001b[0;31m---------------------------------------------------------------------------\u001b[0m",
      "\u001b[0;31mFileNotFoundError\u001b[0m                         Traceback (most recent call last)",
      "\u001b[0;32m<ipython-input-2-9ec1df53e143>\u001b[0m in \u001b[0;36m<module>\u001b[0;34m\u001b[0m\n\u001b[0;32m----> 1\u001b[0;31m \u001b[0matbats\u001b[0m \u001b[0;34m=\u001b[0m \u001b[0mpd\u001b[0m\u001b[0;34m.\u001b[0m\u001b[0mread_csv\u001b[0m\u001b[0;34m(\u001b[0m\u001b[0;34m\"atbats.csv\"\u001b[0m\u001b[0;34m)\u001b[0m\u001b[0;34m\u001b[0m\u001b[0;34m\u001b[0m\u001b[0m\n\u001b[0m\u001b[1;32m      2\u001b[0m \u001b[0matbats_2019\u001b[0m \u001b[0;34m=\u001b[0m \u001b[0mpd\u001b[0m\u001b[0;34m.\u001b[0m\u001b[0mread_csv\u001b[0m\u001b[0;34m(\u001b[0m\u001b[0;34m\"2019_atbats.csv\"\u001b[0m\u001b[0;34m)\u001b[0m\u001b[0;34m\u001b[0m\u001b[0;34m\u001b[0m\u001b[0m\n",
      "\u001b[0;32m~/anaconda3/lib/python3.6/site-packages/pandas/io/parsers.py\u001b[0m in \u001b[0;36mparser_f\u001b[0;34m(filepath_or_buffer, sep, delimiter, header, names, index_col, usecols, squeeze, prefix, mangle_dupe_cols, dtype, engine, converters, true_values, false_values, skipinitialspace, skiprows, skipfooter, nrows, na_values, keep_default_na, na_filter, verbose, skip_blank_lines, parse_dates, infer_datetime_format, keep_date_col, date_parser, dayfirst, iterator, chunksize, compression, thousands, decimal, lineterminator, quotechar, quoting, doublequote, escapechar, comment, encoding, dialect, tupleize_cols, error_bad_lines, warn_bad_lines, delim_whitespace, low_memory, memory_map, float_precision)\u001b[0m\n\u001b[1;32m    700\u001b[0m                     skip_blank_lines=skip_blank_lines)\n\u001b[1;32m    701\u001b[0m \u001b[0;34m\u001b[0m\u001b[0m\n\u001b[0;32m--> 702\u001b[0;31m         \u001b[0;32mreturn\u001b[0m \u001b[0m_read\u001b[0m\u001b[0;34m(\u001b[0m\u001b[0mfilepath_or_buffer\u001b[0m\u001b[0;34m,\u001b[0m \u001b[0mkwds\u001b[0m\u001b[0;34m)\u001b[0m\u001b[0;34m\u001b[0m\u001b[0;34m\u001b[0m\u001b[0m\n\u001b[0m\u001b[1;32m    703\u001b[0m \u001b[0;34m\u001b[0m\u001b[0m\n\u001b[1;32m    704\u001b[0m     \u001b[0mparser_f\u001b[0m\u001b[0;34m.\u001b[0m\u001b[0m__name__\u001b[0m \u001b[0;34m=\u001b[0m \u001b[0mname\u001b[0m\u001b[0;34m\u001b[0m\u001b[0;34m\u001b[0m\u001b[0m\n",
      "\u001b[0;32m~/anaconda3/lib/python3.6/site-packages/pandas/io/parsers.py\u001b[0m in \u001b[0;36m_read\u001b[0;34m(filepath_or_buffer, kwds)\u001b[0m\n\u001b[1;32m    427\u001b[0m \u001b[0;34m\u001b[0m\u001b[0m\n\u001b[1;32m    428\u001b[0m     \u001b[0;31m# Create the parser.\u001b[0m\u001b[0;34m\u001b[0m\u001b[0;34m\u001b[0m\u001b[0;34m\u001b[0m\u001b[0m\n\u001b[0;32m--> 429\u001b[0;31m     \u001b[0mparser\u001b[0m \u001b[0;34m=\u001b[0m \u001b[0mTextFileReader\u001b[0m\u001b[0;34m(\u001b[0m\u001b[0mfilepath_or_buffer\u001b[0m\u001b[0;34m,\u001b[0m \u001b[0;34m**\u001b[0m\u001b[0mkwds\u001b[0m\u001b[0;34m)\u001b[0m\u001b[0;34m\u001b[0m\u001b[0;34m\u001b[0m\u001b[0m\n\u001b[0m\u001b[1;32m    430\u001b[0m \u001b[0;34m\u001b[0m\u001b[0m\n\u001b[1;32m    431\u001b[0m     \u001b[0;32mif\u001b[0m \u001b[0mchunksize\u001b[0m \u001b[0;32mor\u001b[0m \u001b[0miterator\u001b[0m\u001b[0;34m:\u001b[0m\u001b[0;34m\u001b[0m\u001b[0;34m\u001b[0m\u001b[0m\n",
      "\u001b[0;32m~/anaconda3/lib/python3.6/site-packages/pandas/io/parsers.py\u001b[0m in \u001b[0;36m__init__\u001b[0;34m(self, f, engine, **kwds)\u001b[0m\n\u001b[1;32m    893\u001b[0m             \u001b[0mself\u001b[0m\u001b[0;34m.\u001b[0m\u001b[0moptions\u001b[0m\u001b[0;34m[\u001b[0m\u001b[0;34m'has_index_names'\u001b[0m\u001b[0;34m]\u001b[0m \u001b[0;34m=\u001b[0m \u001b[0mkwds\u001b[0m\u001b[0;34m[\u001b[0m\u001b[0;34m'has_index_names'\u001b[0m\u001b[0;34m]\u001b[0m\u001b[0;34m\u001b[0m\u001b[0;34m\u001b[0m\u001b[0m\n\u001b[1;32m    894\u001b[0m \u001b[0;34m\u001b[0m\u001b[0m\n\u001b[0;32m--> 895\u001b[0;31m         \u001b[0mself\u001b[0m\u001b[0;34m.\u001b[0m\u001b[0m_make_engine\u001b[0m\u001b[0;34m(\u001b[0m\u001b[0mself\u001b[0m\u001b[0;34m.\u001b[0m\u001b[0mengine\u001b[0m\u001b[0;34m)\u001b[0m\u001b[0;34m\u001b[0m\u001b[0;34m\u001b[0m\u001b[0m\n\u001b[0m\u001b[1;32m    896\u001b[0m \u001b[0;34m\u001b[0m\u001b[0m\n\u001b[1;32m    897\u001b[0m     \u001b[0;32mdef\u001b[0m \u001b[0mclose\u001b[0m\u001b[0;34m(\u001b[0m\u001b[0mself\u001b[0m\u001b[0;34m)\u001b[0m\u001b[0;34m:\u001b[0m\u001b[0;34m\u001b[0m\u001b[0;34m\u001b[0m\u001b[0m\n",
      "\u001b[0;32m~/anaconda3/lib/python3.6/site-packages/pandas/io/parsers.py\u001b[0m in \u001b[0;36m_make_engine\u001b[0;34m(self, engine)\u001b[0m\n\u001b[1;32m   1120\u001b[0m     \u001b[0;32mdef\u001b[0m \u001b[0m_make_engine\u001b[0m\u001b[0;34m(\u001b[0m\u001b[0mself\u001b[0m\u001b[0;34m,\u001b[0m \u001b[0mengine\u001b[0m\u001b[0;34m=\u001b[0m\u001b[0;34m'c'\u001b[0m\u001b[0;34m)\u001b[0m\u001b[0;34m:\u001b[0m\u001b[0;34m\u001b[0m\u001b[0;34m\u001b[0m\u001b[0m\n\u001b[1;32m   1121\u001b[0m         \u001b[0;32mif\u001b[0m \u001b[0mengine\u001b[0m \u001b[0;34m==\u001b[0m \u001b[0;34m'c'\u001b[0m\u001b[0;34m:\u001b[0m\u001b[0;34m\u001b[0m\u001b[0;34m\u001b[0m\u001b[0m\n\u001b[0;32m-> 1122\u001b[0;31m             \u001b[0mself\u001b[0m\u001b[0;34m.\u001b[0m\u001b[0m_engine\u001b[0m \u001b[0;34m=\u001b[0m \u001b[0mCParserWrapper\u001b[0m\u001b[0;34m(\u001b[0m\u001b[0mself\u001b[0m\u001b[0;34m.\u001b[0m\u001b[0mf\u001b[0m\u001b[0;34m,\u001b[0m \u001b[0;34m**\u001b[0m\u001b[0mself\u001b[0m\u001b[0;34m.\u001b[0m\u001b[0moptions\u001b[0m\u001b[0;34m)\u001b[0m\u001b[0;34m\u001b[0m\u001b[0;34m\u001b[0m\u001b[0m\n\u001b[0m\u001b[1;32m   1123\u001b[0m         \u001b[0;32melse\u001b[0m\u001b[0;34m:\u001b[0m\u001b[0;34m\u001b[0m\u001b[0;34m\u001b[0m\u001b[0m\n\u001b[1;32m   1124\u001b[0m             \u001b[0;32mif\u001b[0m \u001b[0mengine\u001b[0m \u001b[0;34m==\u001b[0m \u001b[0;34m'python'\u001b[0m\u001b[0;34m:\u001b[0m\u001b[0;34m\u001b[0m\u001b[0;34m\u001b[0m\u001b[0m\n",
      "\u001b[0;32m~/anaconda3/lib/python3.6/site-packages/pandas/io/parsers.py\u001b[0m in \u001b[0;36m__init__\u001b[0;34m(self, src, **kwds)\u001b[0m\n\u001b[1;32m   1851\u001b[0m         \u001b[0mkwds\u001b[0m\u001b[0;34m[\u001b[0m\u001b[0;34m'usecols'\u001b[0m\u001b[0;34m]\u001b[0m \u001b[0;34m=\u001b[0m \u001b[0mself\u001b[0m\u001b[0;34m.\u001b[0m\u001b[0musecols\u001b[0m\u001b[0;34m\u001b[0m\u001b[0;34m\u001b[0m\u001b[0m\n\u001b[1;32m   1852\u001b[0m \u001b[0;34m\u001b[0m\u001b[0m\n\u001b[0;32m-> 1853\u001b[0;31m         \u001b[0mself\u001b[0m\u001b[0;34m.\u001b[0m\u001b[0m_reader\u001b[0m \u001b[0;34m=\u001b[0m \u001b[0mparsers\u001b[0m\u001b[0;34m.\u001b[0m\u001b[0mTextReader\u001b[0m\u001b[0;34m(\u001b[0m\u001b[0msrc\u001b[0m\u001b[0;34m,\u001b[0m \u001b[0;34m**\u001b[0m\u001b[0mkwds\u001b[0m\u001b[0;34m)\u001b[0m\u001b[0;34m\u001b[0m\u001b[0;34m\u001b[0m\u001b[0m\n\u001b[0m\u001b[1;32m   1854\u001b[0m         \u001b[0mself\u001b[0m\u001b[0;34m.\u001b[0m\u001b[0munnamed_cols\u001b[0m \u001b[0;34m=\u001b[0m \u001b[0mself\u001b[0m\u001b[0;34m.\u001b[0m\u001b[0m_reader\u001b[0m\u001b[0;34m.\u001b[0m\u001b[0munnamed_cols\u001b[0m\u001b[0;34m\u001b[0m\u001b[0;34m\u001b[0m\u001b[0m\n\u001b[1;32m   1855\u001b[0m \u001b[0;34m\u001b[0m\u001b[0m\n",
      "\u001b[0;32mpandas/_libs/parsers.pyx\u001b[0m in \u001b[0;36mpandas._libs.parsers.TextReader.__cinit__\u001b[0;34m()\u001b[0m\n",
      "\u001b[0;32mpandas/_libs/parsers.pyx\u001b[0m in \u001b[0;36mpandas._libs.parsers.TextReader._setup_parser_source\u001b[0;34m()\u001b[0m\n",
      "\u001b[0;31mFileNotFoundError\u001b[0m: [Errno 2] File b'atbats.csv' does not exist: b'atbats.csv'"
     ]
    }
   ],
   "source": [
    "atbats = pd.read_csv(\"atbats.csv\")\n",
    "atbats_2019 = pd.read_csv(\"2019_atbats.csv\")"
   ]
  },
  {
   "cell_type": "code",
   "execution_count": null,
   "metadata": {},
   "outputs": [],
   "source": [
    "atbats = pd.concat([atbats, atbats_2019], axis = 0, sort = True)"
   ]
  },
  {
   "cell_type": "code",
   "execution_count": null,
   "metadata": {},
   "outputs": [],
   "source": [
    "atbats.head()"
   ]
  },
  {
   "cell_type": "code",
   "execution_count": null,
   "metadata": {},
   "outputs": [],
   "source": [
    "games = pd.read_csv(\"games.csv\")[[\"g_id\", \"date\", \"away_team\", \"home_team\", \"away_final_score\", \"home_final_score\", \"umpire_HP\"]]\n",
    "games_2019 = pd.read_csv(\"2019_games.csv\")[[\"g_id\", \"date\", \"away_team\", \"home_team\", \"away_final_score\", \"home_final_score\", \"umpire_HP\"]]"
   ]
  },
  {
   "cell_type": "code",
   "execution_count": null,
   "metadata": {},
   "outputs": [],
   "source": [
    "games = pd.concat([games, games_2019], axis = 0, sort = True)"
   ]
  },
  {
   "cell_type": "code",
   "execution_count": null,
   "metadata": {},
   "outputs": [],
   "source": [
    "games.head()"
   ]
  },
  {
   "cell_type": "code",
   "execution_count": null,
   "metadata": {},
   "outputs": [],
   "source": [
    "pitches = pd.read_csv(\"pitches.csv\")\n",
    "pitches_2019 = pd.read_csv(\"2019_pitches.csv\")"
   ]
  },
  {
   "cell_type": "code",
   "execution_count": null,
   "metadata": {},
   "outputs": [],
   "source": [
    "pitches = pd.concat([pitches, pitches_2019], axis = 0, sort = True)"
   ]
  },
  {
   "cell_type": "code",
   "execution_count": null,
   "metadata": {},
   "outputs": [],
   "source": [
    "len(pitches)"
   ]
  },
  {
   "cell_type": "code",
   "execution_count": null,
   "metadata": {},
   "outputs": [],
   "source": [
    "pitches = pitches.replace(\"placeholder\", np.NaN)"
   ]
  },
  {
   "cell_type": "code",
   "execution_count": null,
   "metadata": {},
   "outputs": [],
   "source": [
    "names = pd.read_csv(\"player_names.csv\").rename(columns = {\"id\": \"batter_id\"})"
   ]
  },
  {
   "cell_type": "code",
   "execution_count": null,
   "metadata": {},
   "outputs": [],
   "source": [
    "atbats = pd.merge(atbats, names, on = \"batter_id\") #getting batter names for each row"
   ]
  },
  {
   "cell_type": "code",
   "execution_count": null,
   "metadata": {},
   "outputs": [],
   "source": [
    "atbats[\"batter_name\"] = atbats[\"first_name\"] + \" \" + atbats[\"last_name\"]"
   ]
  },
  {
   "cell_type": "code",
   "execution_count": null,
   "metadata": {},
   "outputs": [],
   "source": [
    "atbats = atbats.drop(columns = [\"first_name\", \"last_name\"])"
   ]
  },
  {
   "cell_type": "code",
   "execution_count": null,
   "metadata": {},
   "outputs": [],
   "source": [
    "names = names.rename(columns = {\"batter_id\": \"pitcher_id\"})"
   ]
  },
  {
   "cell_type": "code",
   "execution_count": null,
   "metadata": {},
   "outputs": [],
   "source": [
    "atbats = pd.merge(atbats, names, on = \"pitcher_id\") #getting pitcher names for each row"
   ]
  },
  {
   "cell_type": "code",
   "execution_count": null,
   "metadata": {},
   "outputs": [],
   "source": [
    "atbats[\"pitcher_name\"] = atbats[\"first_name\"] + \" \" + atbats[\"last_name\"]"
   ]
  },
  {
   "cell_type": "code",
   "execution_count": null,
   "metadata": {},
   "outputs": [],
   "source": [
    "atbats = atbats.drop(columns = [\"first_name\", \"last_name\"]).sort_values(by = \"ab_id\")"
   ]
  },
  {
   "cell_type": "code",
   "execution_count": null,
   "metadata": {},
   "outputs": [],
   "source": [
    "atbats[\"year\"] = atbats[\"ab_id\"].astype(str).str[:4] #the year is the first 4 digits of at bat id"
   ]
  },
  {
   "cell_type": "code",
   "execution_count": null,
   "metadata": {},
   "outputs": [],
   "source": [
    "atbats_games = pd.merge(atbats, games, on = \"g_id\")"
   ]
  },
  {
   "cell_type": "code",
   "execution_count": null,
   "metadata": {},
   "outputs": [],
   "source": [
    "atbats_games[\"date\"] = pd.to_datetime(atbats_games[\"date\"])"
   ]
  },
  {
   "cell_type": "code",
   "execution_count": null,
   "metadata": {},
   "outputs": [],
   "source": [
    "atbats_pitches = pd.merge(pitches, atbats_games, on = \"ab_id\")"
   ]
  },
  {
   "cell_type": "code",
   "execution_count": null,
   "metadata": {},
   "outputs": [],
   "source": [
    "atbats_pitches.head()"
   ]
  },
  {
   "cell_type": "code",
   "execution_count": null,
   "metadata": {},
   "outputs": [],
   "source": [
    "atbats_pitches.info()"
   ]
  },
  {
   "cell_type": "code",
   "execution_count": null,
   "metadata": {},
   "outputs": [],
   "source": [
    "def missing_props(df):\n",
    "    missing_values = []\n",
    "    for i in df.columns:\n",
    "        missing_values.append(round(df[i].isnull().sum() / len(df), 3))\n",
    "    missing_props = pd.DataFrame(list(zip(df.columns, missing_values)), columns = [\"Var\", \"Prop_Missing\"]).sort_values(by = \"Prop_Missing\", ascending = False)\n",
    "    \n",
    "    return missing_props"
   ]
  },
  {
   "cell_type": "code",
   "execution_count": null,
   "metadata": {},
   "outputs": [],
   "source": [
    "missing_props(atbats_pitches)"
   ]
  },
  {
   "cell_type": "markdown",
   "metadata": {},
   "source": [
    "# Feature Engineering"
   ]
  },
  {
   "cell_type": "markdown",
   "metadata": {},
   "source": [
    "## Strikezone Flag"
   ]
  },
  {
   "cell_type": "code",
   "execution_count": null,
   "metadata": {},
   "outputs": [],
   "source": [
    "atbats_pitches[\"Strikezone?\"] = np.where((np.abs(atbats_pitches[\"px\"] * 12) <= 9.97) & (atbats_pitches[\"pz\"] * 12 <= 44.08) & (atbats_pitches[\"pz\"] * 12 >= 18.29), True, False)"
   ]
  },
  {
   "cell_type": "code",
   "execution_count": null,
   "metadata": {},
   "outputs": [],
   "source": [
    "sns.countplot(atbats_pitches[\"Strikezone?\"])"
   ]
  },
  {
   "cell_type": "markdown",
   "metadata": {},
   "source": [
    "## Batting and Pitching Teams"
   ]
  },
  {
   "cell_type": "code",
   "execution_count": null,
   "metadata": {},
   "outputs": [],
   "source": [
    "atbats_pitches[\"batting_team\"] = np.where(atbats_pitches[\"top\"] == 1, atbats_pitches[\"away_team\"], atbats_pitches[\"home_team\"])\n",
    "atbats_pitches[\"pitching_team\"] = np.where(atbats_pitches[\"top\"] == 1, atbats_pitches[\"home_team\"], atbats_pitches[\"away_team\"])"
   ]
  },
  {
   "cell_type": "markdown",
   "metadata": {},
   "source": [
    "## Ball Types"
   ]
  },
  {
   "cell_type": "code",
   "execution_count": null,
   "metadata": {},
   "outputs": [],
   "source": [
    "atbats_pitches[\"Z Call\"] = np.where(atbats_pitches[\"pz\"] * 12 >= 44.08, \"High\", np.where(atbats_pitches[\"pz\"] * 12 <= 18.29, \"Low\", np.NaN))"
   ]
  },
  {
   "cell_type": "code",
   "execution_count": null,
   "metadata": {},
   "outputs": [],
   "source": [
    "atbats_pitches[\"X Call\"] = np.where(((atbats_pitches[\"px\"] * 12 <= -9.97) & (atbats_pitches[\"stand\"] == \"L\")) | ((atbats_pitches[\"px\"] * 12 >= 9.97) & (atbats_pitches[\"stand\"] == \"R\")), \"Outside\", np.where(((atbats_pitches[\"px\"] * 12 <= -9.97) & (atbats_pitches[\"stand\"] == \"R\")) | ((atbats_pitches[\"px\"] * 12 >= 9.97) & (atbats_pitches[\"stand\"] == \"L\")), \"Inside\", np.NaN))\n",
    "                                    \n",
    "                                    "
   ]
  },
  {
   "cell_type": "code",
   "execution_count": null,
   "metadata": {},
   "outputs": [],
   "source": [
    "sns.countplot(atbats_pitches[\"Z Call\"])"
   ]
  },
  {
   "cell_type": "code",
   "execution_count": null,
   "metadata": {},
   "outputs": [],
   "source": [
    "sns.countplot(atbats_pitches[\"X Call\"])"
   ]
  },
  {
   "cell_type": "code",
   "execution_count": null,
   "metadata": {},
   "outputs": [],
   "source": [
    "outside = atbats_pitches[atbats_pitches[\"X Call\"] == \"Outside\"]\n",
    "inside = atbats_pitches[atbats_pitches[\"X Call\"] == \"Inside\"]"
   ]
  },
  {
   "cell_type": "code",
   "execution_count": null,
   "metadata": {},
   "outputs": [],
   "source": [
    "len(outside[outside[\"code\"] == \"P\"])"
   ]
  },
  {
   "cell_type": "code",
   "execution_count": null,
   "metadata": {},
   "outputs": [],
   "source": [
    "len(inside[inside[\"code\"] == \"P\"])"
   ]
  },
  {
   "cell_type": "code",
   "execution_count": null,
   "metadata": {},
   "outputs": [],
   "source": [
    "atbats_pitches[\"Location\"] = np.where((atbats_pitches[\"X Call\"] == \"nan\") & (atbats_pitches[\"Z Call\"] != \"nan\"), atbats_pitches[\"Z Call\"], np.where((atbats_pitches[\"Z Call\"] == \"nan\") & (atbats_pitches[\"X Call\"] != \"nan\"), atbats_pitches[\"X Call\"], np.where((atbats_pitches[\"X Call\"] != \"nan\") & (atbats_pitches[\"Z Call\"] != \"nan\"), atbats_pitches[\"Z Call\"] + \" and \" + atbats_pitches[\"X Call\"], \"Strikezone\")))\n",
    "\n"
   ]
  },
  {
   "cell_type": "code",
   "execution_count": null,
   "metadata": {},
   "outputs": [],
   "source": [
    "atbats_pitches = atbats_pitches.drop(columns = [\"X Call\", \"Z Call\"])"
   ]
  },
  {
   "cell_type": "markdown",
   "metadata": {},
   "source": [
    "## Cumulative Averages"
   ]
  },
  {
   "cell_type": "code",
   "execution_count": null,
   "metadata": {},
   "outputs": [],
   "source": [
    "atbats_pitches[\"ab_id\"] = atbats_pitches[\"ab_id\"].astype(str)"
   ]
  },
  {
   "cell_type": "code",
   "execution_count": null,
   "metadata": {},
   "outputs": [],
   "source": [
    "events = atbats_pitches[[\"ab_id\", \"date\", \"pitcher_name\", \"batter_name\", \"event\"]].drop_duplicates()"
   ]
  },
  {
   "cell_type": "markdown",
   "metadata": {},
   "source": [
    "### Creating Event Flags"
   ]
  },
  {
   "cell_type": "code",
   "execution_count": null,
   "metadata": {},
   "outputs": [],
   "source": [
    "events[\"year\"] = events[\"date\"].dt.year\n",
    "\n",
    "events[\"PA?\"] = np.where(events[\"event\"].isin([\"Runner Out\"]), 0, 1)\n",
    "events[\"AB?\"] = np.where(events[\"event\"].isin([\"Walk\", \"Intent Walk\", \"Sac Fly\", \"Sac Fly DP\", \"Sac Bunt\", \"Sacrifice Bunt DP\", \"Batter Interference\", \"Catcher Interference\", \"Runner Out\", \"Hit By Pitch\"]), 0, 1)\n",
    "\n",
    "events[\"Hit?\"] = np.where(events[\"event\"].isin([\"Single\", \"Double\", \"Triple\", \"Home Run\"]), 1, 0)\n",
    "events[\"Single?\"] = np.where(events[\"event\"].isin([\"Single\"]), 1, 0)\n",
    "events[\"Double?\"] = np.where(events[\"event\"].isin([\"Double\"]), 1, 0)\n",
    "events[\"Triple?\"] = np.where(events[\"event\"].isin([\"Triple\"]), 1, 0)\n",
    "events[\"Home Run?\"] = np.where(events[\"event\"].isin([\"Home Run\"]), 1, 0)\n",
    "events[\"Walk?\"] = np.where(events[\"event\"].isin([\"Walk\"]), 1, 0)\n",
    "events[\"Intent Walk?\"] = np.where(events[\"event\"].isin([\"Intent Walk\"]), 1, 0)\n",
    "events[\"HBP?\"] = np.where(events[\"event\"].isin([\"Hit By Pitch\"]), 1, 0)\n",
    "events[\"Sac Fly?\"] = np.where(events[\"event\"].isin([\"Sac Fly\", \"Sac Fly DP\"]), 1, 0)\n",
    "\n",
    "events = events.reset_index().drop(columns = \"index\")"
   ]
  },
  {
   "cell_type": "code",
   "execution_count": null,
   "metadata": {},
   "outputs": [],
   "source": [
    "events.head()"
   ]
  },
  {
   "cell_type": "markdown",
   "metadata": {},
   "source": [
    "### Batter Averages"
   ]
  },
  {
   "cell_type": "code",
   "execution_count": null,
   "metadata": {},
   "outputs": [],
   "source": [
    "cum_sum_batters = events.groupby([\"year\", \"batter_name\"]).cumsum().reset_index().drop(columns = \"index\")"
   ]
  },
  {
   "cell_type": "code",
   "execution_count": null,
   "metadata": {},
   "outputs": [],
   "source": [
    "indices = events[[\"ab_id\", \"date\", \"pitcher_name\", \"batter_name\"]]"
   ]
  },
  {
   "cell_type": "code",
   "execution_count": null,
   "metadata": {},
   "outputs": [],
   "source": [
    "events2 = pd.concat([indices, cum_sum_batters], axis = 1)"
   ]
  },
  {
   "cell_type": "code",
   "execution_count": null,
   "metadata": {},
   "outputs": [],
   "source": [
    "events2[\"Batter AB\"] = events2[\"AB?\"]\n",
    "\n",
    "events2[\"Batter AVG\"] = round(events2[\"Hit?\"] / events2[\"AB?\"], 3)\n",
    "\n",
    "events2[\"Batter OBP\"] = round((events2[\"Hit?\"] + events2[\"Walk?\"] + events2[\"Intent Walk?\"] + events2[\"HBP?\"]) / (events2[\"AB?\"] + events2[\"Walk?\"] + events2[\"HBP?\"] + events2[\"Intent Walk?\"] + events2[\"Sac Fly?\"]), 3)\n",
    "\n",
    "events2[\"Batter TB\"] = events2[\"Single?\"] + (2*events2[\"Double?\"]) + (3*events2[\"Triple?\"]) + (4*events2[\"Home Run?\"]) \n",
    "events2[\"Batter SLG\"] = round(events2[\"Batter TB\"] / events2[\"AB?\"], 3)\n",
    "\n",
    "events2[\"Batter OPS\"] = events2[\"Batter OBP\"] + events2[\"Batter SLG\"]\n"
   ]
  },
  {
   "cell_type": "code",
   "execution_count": null,
   "metadata": {},
   "outputs": [],
   "source": [
    "batter_stats = events2[[\"ab_id\", \"date\", \"pitcher_name\", \"batter_name\", \"Batter AB\", \"Batter AVG\", \"Batter OBP\", \"Batter SLG\", \"Batter OPS\"]]"
   ]
  },
  {
   "cell_type": "markdown",
   "metadata": {},
   "source": [
    "### Pitcher Averages"
   ]
  },
  {
   "cell_type": "code",
   "execution_count": null,
   "metadata": {},
   "outputs": [],
   "source": [
    "cum_sum_pitchers = events.groupby([\"year\", \"pitcher_name\"]).cumsum().reset_index().drop(columns = \"index\")"
   ]
  },
  {
   "cell_type": "code",
   "execution_count": null,
   "metadata": {},
   "outputs": [],
   "source": [
    "events3 = pd.concat([indices, cum_sum_pitchers], axis = 1)"
   ]
  },
  {
   "cell_type": "code",
   "execution_count": null,
   "metadata": {},
   "outputs": [],
   "source": [
    "events3[\"Pitcher AB\"] = events3[\"AB?\"]\n",
    "\n",
    "events3[\"Pitcher AVG\"] = round(events3[\"Hit?\"] / events3[\"AB?\"], 3)\n",
    "\n",
    "events3[\"Pitcher OBP\"] = round((events3[\"Hit?\"] + events3[\"Walk?\"] + events3[\"Intent Walk?\"] + events3[\"HBP?\"]) / (events3[\"AB?\"] + events3[\"Walk?\"] + events3[\"HBP?\"] + events3[\"Intent Walk?\"] + events3[\"Sac Fly?\"]), 3)\n",
    "\n",
    "events3[\"Pitcher TB\"] = events3[\"Single?\"] + (2*events3[\"Double?\"]) + (3*events3[\"Triple?\"]) + (4*events3[\"Home Run?\"]) \n",
    "events3[\"Pitcher SLG\"] = round(events3[\"Pitcher TB\"] / events3[\"AB?\"], 3)\n",
    "\n",
    "events3[\"Pitcher OPS\"] = events3[\"Pitcher OBP\"] + events3[\"Pitcher SLG\"]\n"
   ]
  },
  {
   "cell_type": "code",
   "execution_count": null,
   "metadata": {},
   "outputs": [],
   "source": [
    "pitcher_stats = events3[[\"ab_id\", \"date\", \"pitcher_name\", \"batter_name\", \"Pitcher AB\", \"Pitcher AVG\", \"Pitcher OBP\", \"Pitcher SLG\", \"Pitcher OPS\"]]\n"
   ]
  },
  {
   "cell_type": "code",
   "execution_count": null,
   "metadata": {},
   "outputs": [],
   "source": [
    "all_avgs = pd.merge(batter_stats, pitcher_stats, on = [\"ab_id\", \"date\", \"pitcher_name\", \"batter_name\"])"
   ]
  },
  {
   "cell_type": "code",
   "execution_count": null,
   "metadata": {},
   "outputs": [],
   "source": [
    "all_avgs.tail()"
   ]
  },
  {
   "cell_type": "code",
   "execution_count": null,
   "metadata": {},
   "outputs": [],
   "source": [
    "all_avgs.info()"
   ]
  },
  {
   "cell_type": "markdown",
   "metadata": {},
   "source": [
    "## Game Situation Statistics"
   ]
  },
  {
   "cell_type": "markdown",
   "metadata": {},
   "source": [
    "### Inning, Top or Bottom of Inning, Outs, Teams"
   ]
  },
  {
   "cell_type": "code",
   "execution_count": null,
   "metadata": {},
   "outputs": [],
   "source": [
    "game_stats = atbats_pitches[[\"ab_id\", \"b_count\", \"s_count\", \"outs\", \"inning\", \"top\", \"pitching_team\", \"batting_team\", \"on_1b\", \"on_2b\", \"on_3b\", \"p_throws\", \"stand\"]]"
   ]
  },
  {
   "cell_type": "code",
   "execution_count": null,
   "metadata": {},
   "outputs": [],
   "source": [
    "game_stats2 = pd.merge(all_avgs, game_stats, on = \"ab_id\", how = \"left\")"
   ]
  },
  {
   "cell_type": "markdown",
   "metadata": {},
   "source": [
    "### Count"
   ]
  },
  {
   "cell_type": "code",
   "execution_count": null,
   "metadata": {},
   "outputs": [],
   "source": [
    "game_stats2[\"b_count\"] = game_stats2[\"b_count\"].astype(str)\n",
    "game_stats2[\"s_count\"] = game_stats2[\"s_count\"].astype(str)\n",
    "\n",
    "\n",
    "game_stats2[\"Count\"] = game_stats2[\"b_count\"] + \"-\" + game_stats2[\"s_count\"]"
   ]
  },
  {
   "cell_type": "markdown",
   "metadata": {},
   "source": [
    "### Same Side?"
   ]
  },
  {
   "cell_type": "code",
   "execution_count": null,
   "metadata": {},
   "outputs": [],
   "source": [
    "game_stats2[\"Same Side?\"] = game_stats2[\"p_throws\"] == game_stats2[\"stand\"]"
   ]
  },
  {
   "cell_type": "markdown",
   "metadata": {},
   "source": [
    "### Bases Occupied"
   ]
  },
  {
   "cell_type": "code",
   "execution_count": null,
   "metadata": {},
   "outputs": [],
   "source": [
    "game_stats2[\"Bases Occupied\"] = np.where((game_stats2[\"on_1b\"] == 1) & (game_stats2[\"on_2b\"] == 1) & (game_stats2[\"on_3b\"] == 1), \"Bases Loaded\", np.where((game_stats2[\"on_1b\"] == 1) & (game_stats2[\"on_2b\"] == 1) & (game_stats2[\"on_3b\"] == 0), \"1st and 2nd\", np.where((game_stats2[\"on_1b\"] == 1) & (game_stats2[\"on_2b\"] == 0) & (game_stats2[\"on_3b\"] == 1), \"1st and 3rd\", np.where((game_stats2[\"on_1b\"] == 0) & (game_stats2[\"on_2b\"] == 1) & (game_stats2[\"on_3b\"] == 1), \"2nd and 3rd\", np.where((game_stats2[\"on_1b\"] == 1) & (game_stats2[\"on_2b\"] == 0) & (game_stats2[\"on_3b\"] == 0), \"1st\", np.where((game_stats2[\"on_1b\"] == 0) & (game_stats2[\"on_2b\"] == 1) & (game_stats2[\"on_3b\"] == 0), \"2nd\", np.where((game_stats2[\"on_1b\"] == 0) & (game_stats2[\"on_2b\"] == 0) & (game_stats2[\"on_3b\"] == 1), \"3rd\", \"Bases Empty\")))))))\n",
    "\n"
   ]
  },
  {
   "cell_type": "markdown",
   "metadata": {},
   "source": [
    "### Score Difference"
   ]
  },
  {
   "cell_type": "code",
   "execution_count": null,
   "metadata": {},
   "outputs": [],
   "source": [
    "atbats_pitches[\"Score Diff\"] = atbats_pitches[\"p_score\"] - atbats_pitches[\"b_score\"]"
   ]
  },
  {
   "cell_type": "code",
   "execution_count": null,
   "metadata": {},
   "outputs": [],
   "source": [
    "game_stats2[\"Score Diff\"] = atbats_pitches[\"Score Diff\"]"
   ]
  },
  {
   "cell_type": "code",
   "execution_count": null,
   "metadata": {},
   "outputs": [],
   "source": [
    "game_stats3 = game_stats2.drop(columns = [\"on_1b\", \"on_2b\", \"on_3b\", \"b_count\", \"s_count\"])"
   ]
  },
  {
   "cell_type": "markdown",
   "metadata": {},
   "source": [
    "## Previous Pitch Statistics"
   ]
  },
  {
   "cell_type": "markdown",
   "metadata": {},
   "source": [
    "### Pitch Number of At-Bat"
   ]
  },
  {
   "cell_type": "code",
   "execution_count": null,
   "metadata": {},
   "outputs": [],
   "source": [
    "game_stats3[\"Pitch Num\"] = atbats_pitches[\"pitch_num\"]"
   ]
  },
  {
   "cell_type": "code",
   "execution_count": null,
   "metadata": {},
   "outputs": [],
   "source": [
    "game_stats3[\"Pitch Num\"] = game_stats3[\"Pitch Num\"].astype(str)"
   ]
  },
  {
   "cell_type": "markdown",
   "metadata": {},
   "source": [
    "### Previous Pitch Code, Type, Location, Event, and Zone"
   ]
  },
  {
   "cell_type": "code",
   "execution_count": null,
   "metadata": {},
   "outputs": [],
   "source": [
    "atbats_pitches[\"Previous Code\"] = atbats_pitches[\"code\"].shift(periods = 1)\n",
    "atbats_pitches[\"Previous Location\"] = atbats_pitches[\"Location\"].shift(periods = 1)\n",
    "atbats_pitches[\"Previous Type\"] = atbats_pitches[\"pitch_type\"].shift(periods = 1)\n",
    "\n",
    "atbats[\"ab_id\"] = atbats[\"ab_id\"].astype(str)\n",
    "atbats[\"Previous Event\"] = atbats[\"event\"].shift(periods = 1)"
   ]
  },
  {
   "cell_type": "code",
   "execution_count": null,
   "metadata": {},
   "outputs": [],
   "source": [
    "atbats_pitches[\"pitch_id\"] = atbats_pitches.index"
   ]
  },
  {
   "cell_type": "code",
   "execution_count": null,
   "metadata": {},
   "outputs": [],
   "source": [
    "first_pitch_inning = list(atbats_pitches[[\"g_id\", \"pitch_id\", \"inning\", \"top\"]].groupby([\"g_id\", \"inning\", \"top\"]).first().reset_index()[\"pitch_id\"])\n",
    "\n",
    "first_event_inning = list(atbats[[\"g_id\", \"ab_id\", \"inning\", \"top\"]].groupby([\"g_id\", \"inning\", \"top\"]).first().reset_index()[\"ab_id\"])\n"
   ]
  },
  {
   "cell_type": "code",
   "execution_count": null,
   "metadata": {},
   "outputs": [],
   "source": [
    "atbats_pitches[\"Previous Code\"] = np.where(atbats_pitches[\"pitch_id\"].isin(first_pitch_inning), \"First Pitch\", atbats_pitches[\"Previous Code\"])\n",
    "\n",
    "atbats_pitches[\"Previous Location\"] = np.where(atbats_pitches[\"pitch_id\"].isin(first_pitch_inning), \"First Pitch\", atbats_pitches[\"Previous Location\"])\n",
    "\n",
    "atbats_pitches[\"Previous Type\"] = np.where(atbats_pitches[\"pitch_id\"].isin(first_pitch_inning), \"First Pitch\", atbats_pitches[\"Previous Type\"])\n",
    "\n",
    "atbats[\"Previous Event\"] = np.where(atbats[\"ab_id\"].isin(first_event_inning), \"First Event\", atbats[\"Previous Event\"])\n"
   ]
  },
  {
   "cell_type": "code",
   "execution_count": null,
   "metadata": {},
   "outputs": [],
   "source": [
    "game_stats3[\"Previous Code\"] = atbats_pitches[\"Previous Code\"]\n",
    "\n",
    "game_stats3[\"Previous Location\"] = atbats_pitches[\"Previous Location\"]\n",
    "\n",
    "game_stats3[\"Previous Type\"] = atbats_pitches[\"Previous Type\"]\n",
    "\n",
    "previous_events = atbats[[\"ab_id\", \"Previous Event\"]]\n",
    "game_stats3 = pd.merge(game_stats3, previous_events, on = \"ab_id\")"
   ]
  },
  {
   "cell_type": "markdown",
   "metadata": {},
   "source": [
    "## Other Statistics"
   ]
  },
  {
   "cell_type": "markdown",
   "metadata": {},
   "source": [
    "### Year and Month"
   ]
  },
  {
   "cell_type": "code",
   "execution_count": null,
   "metadata": {},
   "outputs": [],
   "source": [
    "game_stats3[\"year\"] = atbats_pitches[\"date\"].dt.year.astype(str)\n",
    "game_stats3[\"month\"] = atbats_pitches[\"date\"].dt.month.astype(str)"
   ]
  },
  {
   "cell_type": "markdown",
   "metadata": {},
   "source": [
    "### Pitch Number of Game"
   ]
  },
  {
   "cell_type": "code",
   "execution_count": null,
   "metadata": {},
   "outputs": [],
   "source": [
    "cum_count = list(atbats_pitches[[\"g_id\", \"pitcher_name\"]].groupby([\"g_id\", \"pitcher_name\"]).cumcount())"
   ]
  },
  {
   "cell_type": "code",
   "execution_count": null,
   "metadata": {},
   "outputs": [],
   "source": [
    "game_stats3[\"Pitch Count\"] = np.array(cum_count) + 1"
   ]
  },
  {
   "cell_type": "markdown",
   "metadata": {},
   "source": [
    "### Strikezone Percentage of Game"
   ]
  },
  {
   "cell_type": "code",
   "execution_count": null,
   "metadata": {},
   "outputs": [],
   "source": [
    "atbats_pitches[\"Pitch Count\"] = np.array(cum_count) + 1\n",
    "\n",
    "atbats_pitches[\"Strikezone?\"] = np.where(atbats_pitches[\"Strikezone?\"] == True, 1, 0)"
   ]
  },
  {
   "cell_type": "code",
   "execution_count": null,
   "metadata": {},
   "outputs": [],
   "source": [
    "cum_count2 = atbats_pitches[[\"g_id\", \"pitcher_name\", \"Strikezone?\"]].groupby([\"g_id\", \"pitcher_name\"]).cumsum()"
   ]
  },
  {
   "cell_type": "code",
   "execution_count": null,
   "metadata": {},
   "outputs": [],
   "source": [
    "atbats_pitches[\"Strike Count\"] = cum_count2\n",
    "\n",
    "atbats_pitches[\"Strike Prop\"] = atbats_pitches[\"Strike Count\"] / atbats_pitches[\"Pitch Count\"]"
   ]
  },
  {
   "cell_type": "code",
   "execution_count": null,
   "metadata": {},
   "outputs": [],
   "source": [
    "atbats_pitches_sort = atbats_pitches.sort_values(by = [\"g_id\", \"pitcher_name\", \"Pitch Count\"])\n",
    "\n",
    "atbats_pitches_sort[\"Strike Prop\"] = atbats_pitches_sort[\"Strike Prop\"].shift(periods = 1)"
   ]
  },
  {
   "cell_type": "code",
   "execution_count": null,
   "metadata": {},
   "outputs": [],
   "source": [
    "first_pitch_game = list(atbats_pitches[[\"g_id\", \"pitcher_name\", \"pitch_id\"]].groupby([\"g_id\", \"pitcher_name\"]).first()[\"pitch_id\"])"
   ]
  },
  {
   "cell_type": "code",
   "execution_count": null,
   "metadata": {},
   "outputs": [],
   "source": [
    "atbats_pitches_sort[\"Strike Prop\"] = np.where(atbats_pitches_sort[\"pitch_id\"].isin(first_pitch_game), 0, atbats_pitches_sort[\"Strike Prop\"])\n",
    "\n",
    "game_stats3[\"Strike Prop\"] = atbats_pitches_sort[\"Strike Prop\"]"
   ]
  },
  {
   "cell_type": "markdown",
   "metadata": {},
   "source": [
    "## Adding Strikezone Flag (Target Variable)"
   ]
  },
  {
   "cell_type": "code",
   "execution_count": null,
   "metadata": {},
   "outputs": [],
   "source": [
    "game_stats3[\"Strikezone\"] = atbats_pitches[\"Strikezone?\"]\n",
    "\n",
    "game_stats3[\"Strikezone\"] = np.where(game_stats3[\"Strikezone\"] == True, 1, 0)"
   ]
  },
  {
   "cell_type": "code",
   "execution_count": null,
   "metadata": {},
   "outputs": [],
   "source": [
    "len(game_stats3)"
   ]
  },
  {
   "cell_type": "code",
   "execution_count": null,
   "metadata": {},
   "outputs": [],
   "source": [
    "len(atbats_pitches)"
   ]
  },
  {
   "cell_type": "markdown",
   "metadata": {},
   "source": [
    "## Filtering"
   ]
  },
  {
   "cell_type": "markdown",
   "metadata": {},
   "source": [
    "### Intentional Walks"
   ]
  },
  {
   "cell_type": "code",
   "execution_count": null,
   "metadata": {},
   "outputs": [],
   "source": [
    "events = atbats_pitches[[\"ab_id\", \"event\"]].drop_duplicates()"
   ]
  },
  {
   "cell_type": "code",
   "execution_count": null,
   "metadata": {},
   "outputs": [],
   "source": [
    "game_stats4 = pd.merge(game_stats3, events, on = \"ab_id\")\n",
    "\n",
    "game_stats5 = game_stats4[game_stats4[\"event\"] != \"Intent Walk\"].drop(columns = [\"ab_id\", \"event\", \"date\"])"
   ]
  },
  {
   "cell_type": "code",
   "execution_count": null,
   "metadata": {},
   "outputs": [],
   "source": [
    "len(game_stats5)"
   ]
  },
  {
   "cell_type": "markdown",
   "metadata": {},
   "source": [
    "### Uncommon Categorical Values"
   ]
  },
  {
   "cell_type": "code",
   "execution_count": null,
   "metadata": {},
   "outputs": [],
   "source": [
    "cat_columns = game_stats5.select_dtypes(\"object\").columns"
   ]
  },
  {
   "cell_type": "code",
   "execution_count": null,
   "metadata": {},
   "outputs": [],
   "source": [
    "for i in cat_columns:\n",
    "    flags = pd.DataFrame(game_stats5[i].value_counts() < 1000)\n",
    "    drop = flags[flags[i] == True].index\n",
    "    game_stats5 = game_stats5[~game_stats5[i].isin(drop)]"
   ]
  },
  {
   "cell_type": "code",
   "execution_count": null,
   "metadata": {},
   "outputs": [],
   "source": [
    "len(game_stats5)"
   ]
  },
  {
   "cell_type": "markdown",
   "metadata": {},
   "source": [
    "# Modeling "
   ]
  },
  {
   "cell_type": "code",
   "execution_count": null,
   "metadata": {},
   "outputs": [],
   "source": [
    "from sklearn.model_selection import train_test_split\n",
    "\n",
    "from sklearn.linear_model import LogisticRegression\n",
    "from sklearn.ensemble import RandomForestClassifier\n",
    "from sklearn.ensemble import AdaBoostClassifier\n",
    "\n",
    "from sklearn.preprocessing import StandardScaler \n",
    "from sklearn.preprocessing import RobustScaler \n",
    "\n",
    "from sklearn.ensemble import VotingClassifier\n",
    "\n",
    "from sklearn.model_selection import GridSearchCV\n",
    "\n",
    "#import xgboost as xgb\n",
    "\n",
    "\n",
    "import warnings\n",
    "warnings.filterwarnings(\"ignore\")"
   ]
  },
  {
   "cell_type": "markdown",
   "metadata": {},
   "source": [
    "## A General Model"
   ]
  },
  {
   "cell_type": "code",
   "execution_count": null,
   "metadata": {},
   "outputs": [],
   "source": [
    "stats_sample = game_stats5.sample(n = 500000).drop(columns = [\"pitcher_name\", \"batter_name\"])"
   ]
  },
  {
   "cell_type": "code",
   "execution_count": null,
   "metadata": {
    "scrolled": true
   },
   "outputs": [],
   "source": [
    "sns.countplot(stats_sample[\"Strikezone\"])"
   ]
  },
  {
   "cell_type": "code",
   "execution_count": null,
   "metadata": {},
   "outputs": [],
   "source": [
    "no_players_dummies = pd.get_dummies(stats_sample)"
   ]
  },
  {
   "cell_type": "code",
   "execution_count": null,
   "metadata": {},
   "outputs": [],
   "source": [
    "no_players_dummies.shape"
   ]
  },
  {
   "cell_type": "code",
   "execution_count": null,
   "metadata": {},
   "outputs": [],
   "source": [
    "def general_model(no_players_dummies, mod):\n",
    "    \n",
    "    x_vals = no_players_dummies.drop(columns = \"Strikezone\").fillna(0)\n",
    "    y_val = no_players_dummies[\"Strikezone\"].values\n",
    "    \n",
    "    scaler = StandardScaler() \n",
    "    x_vals = scaler.fit_transform(x_vals)\n",
    "    \n",
    "    train_array = []\n",
    "    test_array = []\n",
    "    \n",
    "    if mod == LogisticRegression():\n",
    "        n = 30\n",
    "    else: \n",
    "        n = 1\n",
    "\n",
    "    for i in range(n):\n",
    "        \n",
    "        x_train, x_test, y_train, y_test = train_test_split(x_vals, y_val, test_size = 0.3)\n",
    "    \n",
    "        mod.fit(x_train, y_train)\n",
    "        \n",
    "        train_score = mod.score(x_train, y_train)\n",
    "        test_score = mod.score(x_test, y_test)\n",
    "        \n",
    "        train_array.append(train_score)\n",
    "        test_array.append(test_score)\n",
    "    \n",
    "    return round(len(no_players_dummies[no_players_dummies[\"Strikezone\"] == 0]) / len(no_players_dummies), 4), round(np.mean(train_array), 4), round(np.mean(test_array), 4)\n",
    "\n"
   ]
  },
  {
   "cell_type": "markdown",
   "metadata": {},
   "source": [
    "### Logistic Regression"
   ]
  },
  {
   "cell_type": "code",
   "execution_count": null,
   "metadata": {},
   "outputs": [],
   "source": [
    "general_model(no_players_dummies, LogisticRegression())"
   ]
  },
  {
   "cell_type": "code",
   "execution_count": null,
   "metadata": {},
   "outputs": [],
   "source": [
    "x_vals = no_players_dummies.drop(columns = \"Strikezone\").fillna(0)\n",
    "y_val = no_players_dummies[\"Strikezone\"].values"
   ]
  },
  {
   "cell_type": "code",
   "execution_count": null,
   "metadata": {},
   "outputs": [],
   "source": [
    "c = x_vals.columns"
   ]
  },
  {
   "cell_type": "code",
   "execution_count": null,
   "metadata": {},
   "outputs": [],
   "source": [
    "scaler = StandardScaler()\n",
    "x_vals = scaler.fit_transform(x_vals)"
   ]
  },
  {
   "cell_type": "code",
   "execution_count": null,
   "metadata": {},
   "outputs": [],
   "source": [
    "x_train, x_test, y_train, y_test = train_test_split(x_vals, y_val, test_size = 0.3)"
   ]
  },
  {
   "cell_type": "code",
   "execution_count": null,
   "metadata": {},
   "outputs": [],
   "source": [
    "mod = LogisticRegression()"
   ]
  },
  {
   "cell_type": "code",
   "execution_count": null,
   "metadata": {},
   "outputs": [],
   "source": [
    "mod.fit(x_train, y_train)"
   ]
  },
  {
   "cell_type": "code",
   "execution_count": null,
   "metadata": {},
   "outputs": [],
   "source": [
    "imp1 = pd.DataFrame(c, mod.coef_[0]).reset_index().sort_values(by = \"index\", ascending = False)\n",
    "\n",
    "imp1 = imp1.rename(columns = {0: \"Feature\", \"index\": \"Importance\"})\n",
    "imp1[\"Importance\"] = imp1[\"Importance\"] ** 2\n",
    "\n",
    "imp1[[\"Feature\", \"Importance\"]].head(10)"
   ]
  },
  {
   "cell_type": "markdown",
   "metadata": {},
   "source": [
    "### Random Forest"
   ]
  },
  {
   "cell_type": "code",
   "execution_count": null,
   "metadata": {},
   "outputs": [],
   "source": [
    "general_model(no_players_dummies, RandomForestClassifier())"
   ]
  },
  {
   "cell_type": "code",
   "execution_count": null,
   "metadata": {},
   "outputs": [],
   "source": [
    "mod2 = RandomForestClassifier()"
   ]
  },
  {
   "cell_type": "code",
   "execution_count": null,
   "metadata": {},
   "outputs": [],
   "source": [
    "mod2.fit(x_train, y_train)"
   ]
  },
  {
   "cell_type": "code",
   "execution_count": null,
   "metadata": {},
   "outputs": [],
   "source": [
    "imp2 = pd.DataFrame(c, mod2.feature_importances_).reset_index().sort_values(by = \"index\", ascending = False).head(20)\n",
    "\n",
    "imp2 = imp2.rename(columns = {0: \"Feature\", \"index\": \"Importance\"})\n",
    "\n",
    "imp2[[\"Feature\", \"Importance\"]].head(10)"
   ]
  },
  {
   "cell_type": "markdown",
   "metadata": {},
   "source": [
    "### AdaBoost"
   ]
  },
  {
   "cell_type": "code",
   "execution_count": null,
   "metadata": {},
   "outputs": [],
   "source": [
    "general_model(no_players_dummies, AdaBoostClassifier())"
   ]
  },
  {
   "cell_type": "code",
   "execution_count": null,
   "metadata": {},
   "outputs": [],
   "source": [
    "mod3 = AdaBoostClassifier()"
   ]
  },
  {
   "cell_type": "code",
   "execution_count": null,
   "metadata": {},
   "outputs": [],
   "source": [
    "mod3.fit(x_train, y_train)"
   ]
  },
  {
   "cell_type": "code",
   "execution_count": null,
   "metadata": {},
   "outputs": [],
   "source": [
    "imp3 = pd.DataFrame(c, mod3.feature_importances_).reset_index().sort_values(by = \"index\", ascending = False).head(10)\n",
    "\n",
    "imp3 = imp3.rename(columns = {0: \"Feature\", \"index\": \"Importance\"})\n",
    "\n",
    "imp3[[\"Feature\", \"Importance\"]].head(10)"
   ]
  },
  {
   "cell_type": "markdown",
   "metadata": {},
   "source": [
    "### Hyperparameter Tuning"
   ]
  },
  {
   "cell_type": "code",
   "execution_count": null,
   "metadata": {},
   "outputs": [],
   "source": [
    "#lr = LogisticRegression()\n",
    "\n",
    "#grid = {'max_iter' : [2000], 'penalty' : ['l1', 'l2'], 'C' : np.logspace(-4, 4, 20), 'solver' : ['liblinear']}\n",
    "\n",
    "#grid_lr = GridSearchCV(lr, param_grid = grid, verbose = True, n_jobs = -1)\n",
    "\n",
    "#grid_lr.fit(x_train, y_train)"
   ]
  },
  {
   "cell_type": "markdown",
   "metadata": {},
   "source": [
    "## Modeling Individual Pitchers"
   ]
  },
  {
   "cell_type": "code",
   "execution_count": null,
   "metadata": {},
   "outputs": [],
   "source": [
    "def model_pitcher(game_stats5, pitcher, mod):\n",
    "    \n",
    "    ind_pitcher = game_stats5[game_stats5[\"pitcher_name\"] == pitcher].drop(columns = [\"pitcher_name\", \"batter_name\"])\n",
    "    \n",
    "    ind_pitcher_dummies = pd.get_dummies(ind_pitcher)\n",
    "    \n",
    "    x_vals = ind_pitcher_dummies.drop(columns = \"Strikezone\").fillna(0)\n",
    "    y_val = ind_pitcher_dummies[\"Strikezone\"].values\n",
    "    \n",
    "    train_array = []\n",
    "    test_array = []\n",
    "    \n",
    "    for i in range(1):\n",
    "    \n",
    "        x_train, x_test, y_train, y_test = train_test_split(x_vals, y_val, test_size = 0.4)\n",
    "    \n",
    "        mod.fit(x_train, y_train)\n",
    "    \n",
    "        train_score = mod.score(x_train, y_train)\n",
    "        test_score = mod.score(x_test, y_test)\n",
    "        \n",
    "        train_array.append(train_score)\n",
    "        test_array.append(test_score)\n",
    "        \n",
    "    baseline = len(ind_pitcher_dummies[ind_pitcher_dummies[\"Strikezone\"] == 1]) / len(ind_pitcher_dummies)\n",
    "    \n",
    "    return pitcher, round(baseline, 4), round(np.mean(train_array), 4), round(np.mean(test_array), 4)\n",
    "\n",
    "    "
   ]
  },
  {
   "cell_type": "code",
   "execution_count": null,
   "metadata": {},
   "outputs": [],
   "source": [
    "top100_pitchers = list(game_stats5[[\"pitcher_name\"]].groupby(\"pitcher_name\").size().sort_values(ascending = False).index[0:100])"
   ]
  },
  {
   "cell_type": "code",
   "execution_count": null,
   "metadata": {},
   "outputs": [],
   "source": [
    "pitcher_models = [model_pitcher(game_stats5, i, LogisticRegression()) for i in top100_pitchers]"
   ]
  },
  {
   "cell_type": "code",
   "execution_count": null,
   "metadata": {},
   "outputs": [],
   "source": [
    "model_df = pd.DataFrame(pitcher_models)\n",
    "\n",
    "model_df[1] = np.where(model_df[1] < 0.5, 1 - model_df[1], model_df[1])"
   ]
  },
  {
   "cell_type": "code",
   "execution_count": null,
   "metadata": {},
   "outputs": [],
   "source": [
    "model_df[\"Spread\"] = model_df[3] - model_df[1]"
   ]
  },
  {
   "cell_type": "code",
   "execution_count": null,
   "metadata": {},
   "outputs": [],
   "source": [
    "model_df = model_df.rename(columns = {0: \"Pitcher\", 1: \"Baseline\", 2: \"Train Accuracy\", 3: \"Test Accuracy\"})"
   ]
  },
  {
   "cell_type": "code",
   "execution_count": null,
   "metadata": {},
   "outputs": [],
   "source": [
    "model_df_top_acc = model_df.sort_values(by = \"Test Accuracy\", ascending = False).head(10)\n",
    "model_df_bot_acc = model_df.sort_values(by = \"Test Accuracy\").head(10)\n",
    "\n",
    "model_df_top_spread = model_df.sort_values(by = \"Spread\", ascending = False).head(10)\n",
    "model_df_bot_spread = model_df.sort_values(by = \"Spread\").head(10)"
   ]
  },
  {
   "cell_type": "markdown",
   "metadata": {},
   "source": [
    "### Plotting Model Effectiveness"
   ]
  },
  {
   "cell_type": "code",
   "execution_count": null,
   "metadata": {},
   "outputs": [],
   "source": [
    "sns.barplot(model_df_top_acc[\"Pitcher\"], model_df_top_acc[\"Test Accuracy\"])\n",
    "plt.xticks(rotation = 90)\n",
    "plt.title(\"The 10 Most Predictable MLB Pitchers (2015-2019)\")\n",
    "plt.ylim(0.58, 0.65)\n",
    "plt.show()"
   ]
  },
  {
   "cell_type": "code",
   "execution_count": null,
   "metadata": {},
   "outputs": [],
   "source": [
    "sns.barplot(model_df_bot_acc[\"Pitcher\"], model_df_bot_acc[\"Test Accuracy\"])\n",
    "plt.xticks(rotation = 90)\n",
    "plt.title(\"The 10 Least Predictable MLB Pitchers (2015-2019)\")\n",
    "plt.ylim(0.5, 0.58)\n",
    "plt.show()"
   ]
  },
  {
   "cell_type": "code",
   "execution_count": null,
   "metadata": {},
   "outputs": [],
   "source": [
    "sns.barplot(model_df_top_spread[\"Pitcher\"], model_df_top_spread[\"Spread\"])\n",
    "plt.xticks(rotation = 90)\n",
    "plt.title(\"The 10 Most Effecitvely Modeled MLB Pitchers (2015-2019)\")\n",
    "plt.show()"
   ]
  },
  {
   "cell_type": "code",
   "execution_count": null,
   "metadata": {},
   "outputs": [],
   "source": [
    "sns.barplot(model_df_bot_spread[\"Pitcher\"], model_df_bot_spread[\"Spread\"])\n",
    "plt.xticks(rotation = 90)\n",
    "plt.title(\"The 10 Least Effecitvely Modeled MLB Pitchers (2015-2019)\")\n",
    "plt.show()"
   ]
  },
  {
   "cell_type": "code",
   "execution_count": null,
   "metadata": {},
   "outputs": [],
   "source": []
  }
 ],
 "metadata": {
  "kernelspec": {
   "display_name": "Python 3",
   "language": "python",
   "name": "python3"
  },
  "language_info": {
   "codemirror_mode": {
    "name": "ipython",
    "version": 3
   },
   "file_extension": ".py",
   "mimetype": "text/x-python",
   "name": "python",
   "nbconvert_exporter": "python",
   "pygments_lexer": "ipython3",
   "version": "3.6.8"
  }
 },
 "nbformat": 4,
 "nbformat_minor": 2
}
